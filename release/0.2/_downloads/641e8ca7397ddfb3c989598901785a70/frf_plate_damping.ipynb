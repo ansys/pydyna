{
  "cells": [
    {
      "cell_type": "code",
      "execution_count": null,
      "metadata": {
        "collapsed": false
      },
      "outputs": [],
      "source": [
        "%matplotlib inline"
      ]
    },
    {
      "cell_type": "markdown",
      "metadata": {},
      "source": [
        "FRF for a rectangular plate\n===========================\n\nThis example shows how to setup the keywords for FRF computation.\n\nLS-DYNA version :\nls-dyna\\_smp\\_d\\_R13.1\\_138-g8429c8a10f\\_winx64\\_ifort190.exe\n"
      ]
    },
    {
      "cell_type": "code",
      "execution_count": null,
      "metadata": {
        "collapsed": false
      },
      "outputs": [],
      "source": [
        "import os\nimport sys\n\n\nfrom ansys.dyna.core.pre.dynasolution import DynaSolution\nfrom ansys.dyna.core.pre.dynamaterial import MatElastic\nfrom ansys.dyna.core.pre.dynanvh import (\n    DynaNVH,\n    FrequencyDomain,\n    ExcitationDOF,\n    Curve,\n    NodeSet,\n    ShellPart,\n    ShellFormulation,\n    ResponseDOF,\n    ResponseType,\n)\nfrom ansys.dyna.core.pre import examples\n\nhostname = \"localhost\"\nif len(sys.argv) > 1:\n    hostname = sys.argv[1]\nsolution = DynaSolution(hostname)\nfns = []\npath = examples.nvh_frf_plate_damping + os.sep\nfns.append(path + \"frf_plate_damping.k\")\nsolution.open_files(fns)\n\nnvhobj = DynaNVH()\nsolution.add(nvhobj)\n\nnvhobj.implicitanalysis.set_initial_timestep_size(1.0)\nnvhobj.implicitanalysis.set_eigenvalue(number_eigenvalues=100)\nnvhobj.implicitanalysis.set_solution(solution_method=1)\n\nfd = FrequencyDomain()\ncrv = Curve(\n    x=[1, 6, 7, 8, 9, 10, 11, 12, 13, 14, 15, 200],\n    y=[0, 0, 0.0045, 0.00713, 0.00386, 0.00328, 0.0034, 0.00624, 7.2e-4, 8.3e-4, 0, 0],\n)\nfd.set_frequency_response_function(\n    excitation_input_set=NodeSet([131]),\n    excitation_input_dof=ExcitationDOF.Z,\n    max_natural_frequency=2000,\n    modal_damping_coefficient_curve_type=1,\n    modal_damping_coefficient_curve=crv,\n    response_output_set=NodeSet([131, 651]),\n    response_output_dof=ResponseDOF.Z,\n    response_output_type=ResponseType.BASE_ACCELERATION,\n    frf_output_min_frequency=1,\n    frf_output_max_frequency=400,\n    frf_output_num_frequency=400,\n)\nnvhobj.add(fd)\n\nmatelastic = MatElastic(mass_density=7870, young_modulus=2.07e11, poisson_ratio=0.292)\n\nboxshell = ShellPart(1)\nboxshell.set_material(matelastic)\nboxshell.set_element_formulation(ShellFormulation.SR_HUGHES_LIU)\nboxshell.set_thickness(0.002)\nboxshell.set_shear_factor(0.833)\nboxshell.set_printout(3)\nnvhobj.parts.add(boxshell)\n\nsolution.save_file()"
      ]
    }
  ],
  "metadata": {
    "kernelspec": {
      "display_name": "Python 3",
      "language": "python",
      "name": "python3"
    },
    "language_info": {
      "codemirror_mode": {
        "name": "ipython",
        "version": 3
      },
      "file_extension": ".py",
      "mimetype": "text/x-python",
      "name": "python",
      "nbconvert_exporter": "python",
      "pygments_lexer": "ipython3",
      "version": "3.9.16"
    }
  },
  "nbformat": 4,
  "nbformat_minor": 0
}