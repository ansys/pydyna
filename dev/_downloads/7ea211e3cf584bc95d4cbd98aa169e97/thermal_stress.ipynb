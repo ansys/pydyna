{
  "cells": [
    {
      "cell_type": "code",
      "execution_count": null,
      "metadata": {
        "collapsed": false
      },
      "outputs": [],
      "source": [
        "%matplotlib inline"
      ]
    },
    {
      "cell_type": "markdown",
      "metadata": {},
      "source": [
        "Thermal stress example\n======================\n\nThis example show how to create a thermal stress model with Pydyna-pre\nmodule.\n\nLS-DYNA version :\nls-dyna\\_smp\\_s\\_R13.0\\_365-gf8a97bda2a\\_winx64\\_ifort190.exe\n"
      ]
    },
    {
      "cell_type": "code",
      "execution_count": null,
      "metadata": {
        "collapsed": false
      },
      "outputs": [],
      "source": [
        "import os\nimport sys\n\n\nfrom ansys.dyna.core.pre.dynasolution import DynaSolution\nfrom ansys.dyna.core.pre.dynamech import (\n    DynaMech,\n    ThermalAnalysis,\n    ThermalAnalysisType,\n    SolidPart,\n    SolidFormulation,\n    NodeSet\n)\nfrom ansys.dyna.core.pre.dynamaterial import MatElasticPlasticThermal\nfrom ansys.dyna.core.pre import examples\n\nhostname = \"localhost\"\nif len(sys.argv) > 1:\n    hostname = sys.argv[1]\nsolution = DynaSolution(hostname)\nfns = []\npath = examples.thermal_stress + os.sep\nfns.append(path + \"thermal_stress.k\")\nsolution.open_files(fns)\n\nsolution.set_termination(3.0)\n\nts = DynaMech()\nsolution.add(ts)\n\ntanalysis = ThermalAnalysis()\ntanalysis.set_timestep(initial_timestep=0.1)\ntanalysis.set_solver(analysis_type=ThermalAnalysisType.TRANSIENT)\nts.add(tanalysis)\n\nts.set_timestep(timestep_size_for_mass_scaled=0.01)\n\nmat = MatElasticPlasticThermal(\n    mass_density=1.0,\n    temperatures=(0,10,20,30,40,50),\n    young_modulus=(1e10,1e10,1e10,1e10,1e10,1e10),\n    poisson_ratio=(0.3,0.3,0.3,0.3,0.3,0.3),\n    thermal_expansion=(0,2e-6,4e-6,6e-6,8e-6,1e-5),\n    yield_stress = (1e20,1e20,1e20,1e20,1e20,1e20)\n)\nmat.set_thermal_isotropic(density=1,generation_rate_multiplier=10,specific_heat=1,conductivity=1)\n\nslab = SolidPart(1)\nslab.set_material(mat)\nslab.set_element_formulation(SolidFormulation.CONSTANT_STRESS_SOLID_ELEMENT)\nts.parts.add(slab)\n\n# Define initial conddition\nfor i in range(1,9):\n    ts.initialconditions.create_temperature(NodeSet([i]),temperature=10)\n\nsolution.set_output_database(glstat=0.03)\nsolution.create_database_binary(dt=0.01)\nsolution.save_file()"
      ]
    }
  ],
  "metadata": {
    "kernelspec": {
      "display_name": "Python 3",
      "language": "python",
      "name": "python3"
    },
    "language_info": {
      "codemirror_mode": {
        "name": "ipython",
        "version": 3
      },
      "file_extension": ".py",
      "mimetype": "text/x-python",
      "name": "python",
      "nbconvert_exporter": "python",
      "pygments_lexer": "ipython3",
      "version": "3.9.16"
    }
  },
  "nbformat": 4,
  "nbformat_minor": 0
}