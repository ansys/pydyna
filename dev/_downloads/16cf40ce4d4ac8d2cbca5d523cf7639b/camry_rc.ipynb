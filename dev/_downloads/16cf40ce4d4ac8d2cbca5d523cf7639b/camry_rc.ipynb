{
  "cells": [
    {
      "cell_type": "code",
      "execution_count": null,
      "metadata": {
        "collapsed": false
      },
      "outputs": [],
      "source": [
        "%matplotlib inline"
      ]
    },
    {
      "cell_type": "markdown",
      "metadata": {},
      "source": [
        "Crash example\n=============\n\nThis example demonstrates how to create a simple crash input deck.\n"
      ]
    },
    {
      "cell_type": "code",
      "execution_count": null,
      "metadata": {
        "collapsed": false
      },
      "outputs": [],
      "source": [
        "import os\nimport sys\n\n\nfrom ansys.dyna.core.pre.dynasolution import DynaSolution\nfrom ansys.dyna.core.pre.dynamech import (\n    DynaMech,\n    Curve,\n    BeamPart,\n    ShellPart,\n    NodeSet,\n    PartSet,\n    TimestepCtrol,\n    Contact,\n    ContactType,\n    ContactCategory,\n    ContactSurface,\n    DOF,\n    OffsetType,\n)\nfrom ansys.dyna.core.pre.dynamaterial import (\n    MatNull,\n    MatRigid,\n    MatSpotweld,\n    MatModifiedPiecewiseLinearPlasticity,\n    MatPiecewiseLinearPlasticity,\n)\nfrom camry_rc_data import *\nfrom ansys.dyna.core.pre import examples\n\nhostname = \"localhost\"\nif len(sys.argv) > 1:\n    hostname = sys.argv[1]\n\ncamry_solution = DynaSolution(hostname)\n# Import the initial mesh data(nodes and elements)\nfns = []\npath = examples.camry_rc + os.sep\nfns.append(path + \"Camry_RC_main.k\")\nfns.append(path + \"501_RIG_BAR_roof_crush_platen5.key\")\nfns.append(path + \"Camry_V1_NoSusAndPowerTrain_impl7.k\")\nfns.append(path + \"Camry_V1_NoSusAndPowerTrain_impl7_nodes.k\")\nfns.append(path + \"roof_welds.k\")\nfns.append(path + \"weld7.k\")\nfns.append(path + \"xtra_sw.k\")\ncamry_solution.open_files(fns)\n\n# global setting\ncamry_solution.set_termination(10)\ncamry_solution.create_database_binary(dt=0.001)\n\ncamry = DynaMech()\ncamry_solution.add(camry)\n\ncamry.implicitanalysis.set_timestep(\n    control_flag=TimestepCtrol.AUTOMATICALLY_ADJUST_TIMESTEP_SIZE,\n    Optimum_equilibrium_iteration_count=511,\n)\ncamry.implicitanalysis.set_dynamic(gamma=0.6, beta=0.38)\ncamry.implicitanalysis.set_eigenvalue()\ncamry.implicitanalysis.set_solution(\n    stiffness_reformation_limit=55, absolute_convergence_tolerance=-100\n)\n\n# create material\nmatnull = MatNull(mass_density=6e-11)\nmatrigid = MatRigid(mass_density=7.890e-09, young_modulus=2.100e05, poisson_ratio=0.3)\nmatplaten = MatRigid(\n    mass_density=7.80e-09,\n    young_modulus=2.00e05,\n    poisson_ratio=0.3,\n    center_of_mass_constraint=1,\n    rotational_constraint=7,\n)\nspotweldharden2100 = MatSpotweld(\n    mass_density=7.850e-09,\n    young_modulus=2.100e05,\n    poisson_ratio=0.3,\n    yield_stress=510,\n    plastic_hardening_modulus=2100,\n)\nspotweldharden2200 = MatSpotweld(\n    mass_density=7.850e-09,\n    young_modulus=2.100e05,\n    poisson_ratio=0.3,\n    yield_stress=510,\n    plastic_hardening_modulus=2200,\n)\nwindowshield = MatModifiedPiecewiseLinearPlasticity(\n    mass_density=2.355e-09,\n    young_modulus=7.000e04,\n    poisson_ratio=0.22,\n    yield_stress=30,\n    tangent_modulus=1400,\n    plastic_strain_to_failure=0.015,\n    integration_points_number=1,\n)\nwindowsrear = MatModifiedPiecewiseLinearPlasticity(\n    mass_density=2.425e-09,\n    young_modulus=7.000e04,\n    poisson_ratio=0.22,\n    yield_stress=30,\n    tangent_modulus=1400,\n    plastic_strain_to_failure=0.015,\n    integration_points_number=1,\n)\nplastic300 = MatPiecewiseLinearPlasticity(\n    mass_density=7.890e-09, young_modulus=210000, yield_stress=300, tangent_modulus=5000\n)\nplastic250 = MatPiecewiseLinearPlasticity(\n    mass_density=7.890e-09, young_modulus=210000, yield_stress=250, tangent_modulus=5000\n)\nplastic360 = MatPiecewiseLinearPlasticity(\n    mass_density=7.890e-09, young_modulus=210000, yield_stress=360, tangent_modulus=5000\n)\nplastic180 = MatPiecewiseLinearPlasticity(\n    mass_density=7.850e-09, young_modulus=210000, yield_stress=180, tangent_modulus=5000\n)\nplastic450 = MatPiecewiseLinearPlasticity(\n    mass_density=7.850e-09, young_modulus=210000, yield_stress=450, tangent_modulus=5000\n)\nplastic1300 = MatPiecewiseLinearPlasticity(\n    mass_density=7.850e-09, young_modulus=210000, yield_stress=1300, tangent_modulus=5000\n)\nplastic400 = MatPiecewiseLinearPlasticity(\n    mass_density=7.890e-09, young_modulus=210000, yield_stress=400, tangent_modulus=5000\n)\nplastic500 = MatPiecewiseLinearPlasticity(\n    mass_density=7.890e-09, young_modulus=210000, yield_stress=500, tangent_modulus=5000\n)\nplastic675 = MatPiecewiseLinearPlasticity(\n    mass_density=7.850e-09, young_modulus=210000, yield_stress=675, tangent_modulus=5000\n)\nplastic310 = MatPiecewiseLinearPlasticity(\n    mass_density=2.255e-09, young_modulus=70000, yield_stress=310, tangent_modulus=5000\n)\nplastic220 = MatPiecewiseLinearPlasticity(\n    mass_density=7.890e-09, young_modulus=210000, yield_stress=220, tangent_modulus=5000\n)\nplastic220_410 = MatPiecewiseLinearPlasticity(\n    mass_density=7.890e-09, young_modulus=210000, yield_stress=220, tangent_modulus=410\n)\n\n# set model\nfor bpart in beamparts:\n    part = BeamPart(bpart[0])\n    if part.id in [50000002]:\n        part.set_material(spotweldharden2200)\n    else:\n        part.set_material(spotweldharden2100)\n    part.set_element_formulation(bpart[1])\n    part.set_diameter(bpart[2])\n    camry.parts.add(part)\n\nfor spart in shellparts:\n    part = ShellPart(spart[0])\n    if part.id in [1463, 1464]:\n        part.set_material(matnull)\n    elif part.id in [417, 419, 530, 532, 585, 586, 587, 588]:\n        part.set_material(matrigid)\n    elif part.id in [50000001]:\n        part.set_material(matplaten)\n    elif part.id in [290]:\n        part.set_material(windowshield)\n    elif part.id in [291]:\n        part.set_material(windowsrear)\n    elif part.id in partswithmat300:\n        part.set_material(plastic300)\n    elif part.id in partswithmat250:\n        part.set_material(plastic250)\n    elif part.id in partswithmat360:\n        part.set_material(plastic360)\n    elif part.id in partswithmat180:\n        part.set_material(plastic180)\n    elif part.id in partswithmat450:\n        part.set_material(plastic450)\n    elif part.id in partswithmat400:\n        part.set_material(plastic400)\n    elif part.id in partswithmat500:\n        part.set_material(plastic500)\n    elif part.id in [57]:\n        part.set_material(plastic1300)\n    elif part.id in [286]:\n        part.set_material(plastic675)\n    elif part.id in [5000000]:\n        part.set_material(plastic310)\n    elif part.id in [5000006]:\n        part.set_material(plastic220)\n    elif part.id in [5000007]:\n        part.set_material(plastic220_410)\n    else:\n        pass\n    part.set_element_formulation(spart[1])\n    part.set_thickness(spart[2])\n    camry.parts.add(part)\n\n# define constrained\nfor sw in spotweld:\n    camry.constraints.create_spotweld(nodeid1=sw[0], nodeid2=sw[1])\n\nfor cnrb in cnrbs:\n    camry.constraints.create_cnrb(nodeset=NodeSet(cnrb))\n\n# define contact\nselfcontact = Contact(type=ContactType.AUTOMATIC)\nselfcontact.set_mortar()\nselfcontact.set_friction_coefficient(static=0.2)\nsurf1 = ContactSurface(PartSet(vehicle))\nselfcontact.set_slave_surface(surf1)\ncamry.contacts.add(selfcontact)\n\nplatebiw = Contact(type=ContactType.AUTOMATIC, category=ContactCategory.SURFACE_TO_SURFACE_CONTACT)\nplatebiw.set_mortar()\nplatebiw.set_friction_coefficient(static=0.2, dynamic=0.2)\nsurf1 = ContactSurface(PartSet(biw))\nsurf2 = ContactSurface(PartSet(platen))\nplatebiw.set_slave_surface(surf1)\nplatebiw.set_master_surface(surf2)\ncamry.contacts.add(platebiw)\n\nswcontact = Contact(\n    type=ContactType.TIED,\n    category=ContactCategory.SHELL_EDGE_TO_SURFACE_CONTACT,\n    offset=OffsetType.CONSTRAINED_OFFSET,\n)\nspotweldbeam = ContactSurface(PartSet(spotweldbeams))\nspotweldbeam.set_contact_thickness(thickness=-0.9)\nspotweldsurface = ContactSurface(PartSet(spotweldsurfaces))\nspotweldsurface.set_contact_thickness(thickness=-0.9)\nswcontact.set_slave_surface(spotweldbeam)\nswcontact.set_master_surface(spotweldsurface)\ncamry.contacts.add(swcontact)\n\n# define boundary\ncamry.boundaryconditions.create_spc(NodeSet(spc))\n\ncrv = Curve(\n    x=[0, 1, 2, 3, 4, 5, 6, 7, 8, 9, 9.77, 100],\n    y=[0, 13, 26, 39, 52, 65, 78, 91, 104, 117, 127, 127],\n)\nplaten = PartSet([50000001])\ncamry.boundaryconditions.create_imposed_motion(\n    platen, crv, dof=DOF.X_TRANSLATIONAL, scalefactor=-0.0802216\n)\ncamry.boundaryconditions.create_imposed_motion(\n    platen, crv, dof=DOF.Y_TRANSLATIONAL, scalefactor=-0.0802216\n)\ncamry.boundaryconditions.create_imposed_motion(\n    platen, crv, dof=DOF.Z_TRANSLATIONAL, scalefactor=-0.0802216\n)\n\ncamry_solution.set_output_database(\n    elout=0.0001,\n    glstat=0.0001,\n    matsum=0.0001,\n    nodout=0.0001,\n    rbdout=0.0001,\n    rcforc=0.0001,\n    secforc=0.0001,\n)\n\ncamry_solution.save_file()"
      ]
    }
  ],
  "metadata": {
    "kernelspec": {
      "display_name": "Python 3",
      "language": "python",
      "name": "python3"
    },
    "language_info": {
      "codemirror_mode": {
        "name": "ipython",
        "version": 3
      },
      "file_extension": ".py",
      "mimetype": "text/x-python",
      "name": "python",
      "nbconvert_exporter": "python",
      "pygments_lexer": "ipython3",
      "version": "3.9.16"
    }
  },
  "nbformat": 4,
  "nbformat_minor": 0
}