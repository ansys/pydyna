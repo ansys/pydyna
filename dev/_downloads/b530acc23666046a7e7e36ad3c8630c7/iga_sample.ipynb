{
  "cells": [
    {
      "cell_type": "code",
      "execution_count": null,
      "metadata": {
        "collapsed": false
      },
      "outputs": [],
      "source": [
        "%matplotlib inline"
      ]
    },
    {
      "cell_type": "markdown",
      "metadata": {},
      "source": [
        "IGA example\n===========\n\nThis example demonstrates how to create an IGA input deck.\n\nLS-DYNA version :\nls-dyna\\_smp\\_s\\_R13.0\\_365-gf8a97bda2a\\_winx64\\_ifort190.exe\n"
      ]
    },
    {
      "cell_type": "code",
      "execution_count": null,
      "metadata": {
        "collapsed": false
      },
      "outputs": [],
      "source": [
        "import os\nimport sys\n\n\nfrom ansys.dyna.core.pre.dynasolution import DynaSolution\nfrom ansys.dyna.core.pre.dynaiga import (\n    DynaIGA,\n    IGAPart,\n    PartSet,\n    IGAFormulation,\n    SolidPart,\n    HourglassType,\n    SolidFormulation,\n    RigidwallCylinder,\n    Point,\n    Curve,\n    Direction,\n    ContactType,\n    ContactCategory,\n    OffsetType,\n)\nfrom ansys.dyna.core.pre.dynamech import *\nfrom ansys.dyna.core.pre.dynamaterial import MatPiecewiseLinearPlasticity, MatSpotweld\nfrom iga_sample_data import *\nfrom ansys.dyna.core.pre import examples\n\nhostname = \"localhost\"\nif len(sys.argv) > 1:\n    hostname = sys.argv[1]\n\niga_solution = DynaSolution(hostname)\nfns = []\npath = examples.iga_sample + os.sep\nfns.append(path + \"maino.k\")\nfns.append(path + \"rkrwelds.key\")\nfns.append(path + \"27parts.key\")\niga_solution.open_files(fns)\n\niga_solution.set_termination(20)\niga_solution.create_database_binary(dt=0.1)\n\niga = DynaIGA()\niga_solution.add(iga)\n\niga.set_timestep(timestep_size_for_mass_scaled=-0.0004)\n\n# define material\nplastic = MatPiecewiseLinearPlasticity(\n    mass_density=7.830e-06, young_modulus=200, yield_stress=1.5, tangent_modulus=0.5\n)\nswmatlist = []\nfor mat in materialdata:\n    spotweld = MatSpotweld(\n        mass_density=mat[0],\n        young_modulus=mat[1],\n        poisson_ratio=mat[2],\n        yield_stress=mat[3],\n        plastic_hardening_modulus=mat[4],\n        axial_force_resultant_at_failure=mat[5],\n        force_resultant_nrs_at_failure=mat[6],\n        force_resultant_nrt_at_failure=mat[7],\n    )\n    swmatlist.append(spotweld)\n\nfor id in igaparts:\n    part = IGAPart(id)\n    part.set_material(plastic)\n    part.set_element_formulation(IGAFormulation.REISSNER_MINDLIN_FIBERS_AT_CONTROL_POINTS)\n    part.set_thickness(1.0)\n    iga.parts.add(part)\n\nfor index in range(len(spotwelds)):\n    part = SolidPart(spotwelds[index])\n    if index != 1:\n        part.set_hourglass(type=HourglassType.BELYTSCHKO_BINDEMAN)\n    part.set_element_formulation(SolidFormulation.CONSTANT_STRESS_SOLID_ELEMENT)\n    part.set_material(swmatlist[index])\n    iga.parts.add(part)\n\ncylinder1 = RigidwallCylinder(\n    Point(2472.37, -600.000, 1270.98), Point(2472.37, -600.000, 2668.53), 100, 1000\n)\niga.add(cylinder1)\ncylinder2 = RigidwallCylinder(\n    Point(3580.25, -600.000, 1261.37), Point(3580.25, -600.000, 3130.49), 100, 1000\n)\niga.add(cylinder2)\ncylinder3 = RigidwallCylinder(\n    Point(3090.59, -955.35, 1299.42), Point(3090.59, -955.35, 2958.43), 100, 1000\n)\ncylinder3.set_motion(Curve(x=[0, 100], y=[20, 20]), dir=Direction(0, 1, 0))\niga.add(cylinder3)\n\n# define contact\nselfcontact = Contact(type=ContactType.AUTOMATIC)\nselfcontact.set_friction_coefficient(static=0.2)\nsurf1 = ContactSurface(PartSet(igaparts))\nselfcontact.set_slave_surface(surf1)\niga.add(selfcontact)\n\nswcontact = Contact(\n    type=ContactType.TIED,\n    category=ContactCategory.SHELL_EDGE_TO_SURFACE_CONTACT,\n    offset=OffsetType.OFFSET,\n)\nspotweldsolid = ContactSurface(PartSet(spotwelds))\nspotweldsurface = ContactSurface(PartSet(igaparts))\nswcontact.set_slave_surface(spotweldsolid)\nswcontact.set_master_surface(spotweldsurface)\niga.add(swcontact)\n\niga_solution.save_file()"
      ]
    }
  ],
  "metadata": {
    "kernelspec": {
      "display_name": "Python 3",
      "language": "python",
      "name": "python3"
    },
    "language_info": {
      "codemirror_mode": {
        "name": "ipython",
        "version": 3
      },
      "file_extension": ".py",
      "mimetype": "text/x-python",
      "name": "python",
      "nbconvert_exporter": "python",
      "pygments_lexer": "ipython3",
      "version": "3.9.16"
    }
  },
  "nbformat": 4,
  "nbformat_minor": 0
}