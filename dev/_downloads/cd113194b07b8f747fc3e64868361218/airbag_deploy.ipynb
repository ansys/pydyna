{
  "cells": [
    {
      "cell_type": "code",
      "execution_count": null,
      "metadata": {
        "collapsed": false
      },
      "outputs": [],
      "source": [
        "%matplotlib inline"
      ]
    },
    {
      "cell_type": "markdown",
      "metadata": {},
      "source": [
        "Airbag deploy example\n=====================\n\nThis example show how to create an Airbag deploy model with Pydyna-pre\nmodule.\n\nLS-DYNA version :\nls-dyna\\_smp\\_d\\_R13.0\\_365-gf8a97bda2a\\_winx64\\_ifort190.exe\n"
      ]
    },
    {
      "cell_type": "code",
      "execution_count": null,
      "metadata": {
        "collapsed": false
      },
      "outputs": [],
      "source": [
        "import os\nimport sys\n\n\nfrom ansys.dyna.core.pre.dynasolution import DynaSolution\nfrom ansys.dyna.core.pre.dynamech import (\n    DynaMech,\n    Airbag,\n    PartSet,\n    Curve,\n    Point,\n    RigidwallPlanar,\n    Contact,\n    ContactSurface,\n    ContactCategory,\n    ShellPart,\n    ShellFormulation,\n)\nfrom ansys.dyna.core.pre.dynamaterial import MatRigid, MatFabric\nfrom ansys.dyna.core.pre import examples\n\nhostname = \"localhost\"\nif len(sys.argv) > 1:\n    hostname = sys.argv[1]\nairbag_solution = DynaSolution(hostname)\nfns = []\n# path = sys.path[0] + os.sep + \"input\" + os.sep + \"airbag_deploy\" + os.sep\npath = examples.airbag_deploy + os.sep\nfns.append(path + \"airbag_deploy.k\")\nairbag_solution.open_files(fns)\n\nairbag_solution.set_termination(0.03)\n\nairbagdeploy = DynaMech()\nairbag_solution.add(airbagdeploy)\n\nairbag = Airbag(\n    set=PartSet([3]),\n    heat_capacity_at_constant_volume=1.736e3,\n    heat_capacity_at_constant_pressure=2.43e3,\n    input_gas_temperature=1.2e3,\n    input_mass_flow_rate=Curve(x=[0, 0.032, 0.045, 0.08], y=[0, 26, 0.6, 0.1]),\n    shape_factor_for_exit_hole=0.7,\n    ambient_pressure=14.7,\n    ambient_density=3.821e-6,\n)\nairbagdeploy.add(airbag)\n\nrigidwall = RigidwallPlanar(Point(0, 0, 0), Point(0, 1, 0), coulomb_friction_coefficient=0.5)\nairbagdeploy.add(rigidwall)\n\ncontact = Contact(category=ContactCategory.NODES_TO_SURFACE)\ncontact.set_friction_coefficient(static=0.5, dynamic=0.5)\nsurf1 = ContactSurface(PartSet([3]))\nsurf2 = ContactSurface(PartSet([2]))\nsurf2.set_penalty_stiffness_scale_factor(0.06667)\ncontact.set_slave_surface(surf1)\ncontact.set_master_surface(surf2)\nairbagdeploy.contacts.add(contact)\n\nplatemat = MatRigid(\n    mass_density=7.84e-4,\n    young_modulus=30e6,\n    center_of_mass_constraint=1,\n    translational_constraint=7,\n    rotational_constraint=7,\n)\ncylindermat = MatRigid(mass_density=1.96e-4, young_modulus=30e6)\nairbagmat = MatFabric(\n    mass_density=1e-4,\n    young_modulus_longitudinal_direction=2e6,\n    young_modulus_transverse_direction=2e6,\n    shear_modulus=1.53e6,\n)\n\nplate = ShellPart(1)\nplate.set_material(platemat)\nplate.set_element_formulation(ShellFormulation.BELYTSCHKO_TSAY)\nplate.set_thickness(0.5)\nairbagdeploy.parts.add(plate)\n\ncylinder = ShellPart(2)\ncylinder.set_material(cylindermat)\ncylinder.set_element_formulation(ShellFormulation.BELYTSCHKO_TSAY)\ncylinder.set_thickness(0.5)\nairbagdeploy.parts.add(cylinder)\n\nairbagpart = ShellPart(3)\nairbagpart.set_material(airbagmat)\nairbagpart.set_element_formulation(ShellFormulation.FULLY_INTEGRATED_BELYTSCHKO_TSAY_MEMBRANE)\nairbagpart.set_thickness(0.015)\nairbagpart.set_integration_points(4)\nairbagdeploy.parts.add(airbagpart)\n\nairbag_solution.set_output_database(\n    abstat=2.0e-4, glstat=2.0e-4, matsum=2.0e-4, rcforc=2.0e-4, rbdout=2.0e-4, rwforc=2.0e-4\n)\nairbag_solution.create_database_binary(dt=5e-4, ieverp=1)\nairbag_solution.save_file()"
      ]
    }
  ],
  "metadata": {
    "kernelspec": {
      "display_name": "Python 3",
      "language": "python",
      "name": "python3"
    },
    "language_info": {
      "codemirror_mode": {
        "name": "ipython",
        "version": 3
      },
      "file_extension": ".py",
      "mimetype": "text/x-python",
      "name": "python",
      "nbconvert_exporter": "python",
      "pygments_lexer": "ipython3",
      "version": "3.9.16"
    }
  },
  "nbformat": 4,
  "nbformat_minor": 0
}