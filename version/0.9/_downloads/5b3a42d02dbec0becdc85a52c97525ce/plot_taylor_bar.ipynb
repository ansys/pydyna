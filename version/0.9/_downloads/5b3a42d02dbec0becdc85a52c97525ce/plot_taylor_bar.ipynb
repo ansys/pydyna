{
  "cells": [
    {
      "cell_type": "markdown",
      "metadata": {},
      "source": [
        "# Taylor bar example\n\nThis example is inspired by the \"Taylor Bar\" example on the [LS-DYNA\nKnowledge Base](_ls_dyna_knowledge_base) site. It shows how to use\nPyDyna to create a keyword file for LS-DYNA and solve it within a\nPythonic environment.\n"
      ]
    },
    {
      "cell_type": "markdown",
      "metadata": {},
      "source": [
        "# Perform required imports\n\nImport required packages, including those for the keywords, deck, and\nsolver.\n"
      ]
    },
    {
      "cell_type": "code",
      "execution_count": null,
      "metadata": {
        "collapsed": false
      },
      "outputs": [],
      "source": [
        "import os\nimport pathlib\nimport shutil\nimport tempfile\n\nimport ansys.dpf.core as dpf\nimport matplotlib.pyplot as plt\n\nfrom ansys.dyna.core import Deck\nfrom ansys.dyna.core import keywords as kwd\nfrom ansys.dyna.core.pre.examples.download_utilities import EXAMPLES_PATH, DownloadManager\nfrom ansys.dyna.core.run import run_dyna\n\nworkdir = tempfile.TemporaryDirectory()\n\nmesh_file_name = \"taylor_bar_mesh.k\"\nmesh_file = DownloadManager().download_file(\n    mesh_file_name, \"ls-dyna\", \"Taylor_Bar\", destination=os.path.join(EXAMPLES_PATH, \"Taylor_Bar\")\n)"
      ]
    },
    {
      "cell_type": "markdown",
      "metadata": {},
      "source": [
        "# Create a deck and keywords\n\nCreate a deck, which is the container for all the keywords. Then, create\nand append individual keywords to the deck.\n"
      ]
    },
    {
      "cell_type": "code",
      "execution_count": null,
      "metadata": {
        "collapsed": false
      },
      "outputs": [],
      "source": [
        "def create_input_deck(initial_velocity):\n    deck = Deck()\n    deck.title = \"Taylor-Bar Velocity - %s - Unit: t-mm-s\" % initial_velocity\n\n    # Define material\n    mat_1 = kwd.Mat003(mid=1)\n    mat_1.ro = 7.85000e-9\n    mat_1.e = 150000.0\n    mat_1.pr = 0.34\n    mat_1.sigy = 390.0\n    mat_1.etan = 90.0\n\n    # Define section\n    sec_1 = kwd.SectionSolid(secid=1)\n    sec_1.elform = 1\n\n    # Define part\n    part_1 = kwd.Part(pid=1, mid=mat_1.mid, secid=sec_1.secid)\n\n    # Define coordinate system\n    cs_1 = kwd.DefineCoordinateSystem(cid=1)\n    cs_1.xl = 1.0\n    cs_1.yp = 1.0\n\n    # Define initial velocity\n    init_vel = kwd.InitialVelocityGeneration()\n    init_vel.id = part_1.parts[\"pid\"][0]\n    init_vel.styp = 2\n    init_vel.vy = initial_velocity\n    init_vel.icid = cs_1.cid\n\n    # Define box for node set\n    box_1 = kwd.DefineBox(boxid=1, xmn=-500, xmx=500, ymn=39.0, ymx=40.1, zmn=-500, zmx=500)\n\n    # Create node set\n    set_node_1 = kwd.SetNodeGeneral()\n    set_node_1.sid = 1\n    set_node_1.option = \"BOX\"\n    set_node_1.e1 = box_1.boxid\n\n    # Define rigid wall\n    rw = kwd.RigidwallPlanar(id=1)\n    rw.nsid = set_node_1.sid\n    rw.yt = box_1.ymx\n    rw.yh = box_1.ymn\n\n    # Define control termination\n    control_term = kwd.ControlTermination(endtim=8.00000e-5, dtmin=0.001)\n\n    # Define database cards\n    deck_dt_out = 8.00000e-8\n    deck_glstat = kwd.DatabaseGlstat(dt=deck_dt_out, binary=3)\n    deck_matsum = kwd.DatabaseMatsum(dt=deck_dt_out, binary=3)\n    deck_nodout = kwd.DatabaseNodout(dt=deck_dt_out, binary=3)\n    deck_elout = kwd.DatabaseElout(dt=deck_dt_out, binary=3)\n    deck_rwforc = kwd.DatabaseRwforc(dt=deck_dt_out, binary=3)\n    deck_d3plot = kwd.DatabaseBinaryD3Plot(dt=4.00000e-6)\n\n    # Define deck history node\n    deck_hist_node_1 = kwd.DatabaseHistoryNodeSet()\n    deck_hist_node_1.id1 = set_node_1.sid\n\n    # Append all cards to input deck\n    deck.extend(\n        [\n            deck_glstat,\n            deck_matsum,\n            deck_nodout,\n            deck_elout,\n            deck_rwforc,\n            deck_d3plot,\n            set_node_1,\n            control_term,\n            rw,\n            box_1,\n            init_vel,\n            cs_1,\n            part_1,\n            mat_1,\n            sec_1,\n            deck_hist_node_1,\n        ]\n    )\n\n    return deck\n\n\ndef write_input_deck(**kwargs):\n    initial_velocity = kwargs.get(\"initial_velocity\")\n    wd = kwargs.get(\"wd\")\n    if not all((initial_velocity, wd)):\n        raise Exception(\"Missing input!\")\n    deck = create_input_deck(initial_velocity)\n    # Import mesh\n    deck.append(kwd.Include(filename=mesh_file_name))\n\n    # Write LS-DYNA input deck\n    os.makedirs(wd, exist_ok=True)\n    deck.export_file(os.path.join(wd, \"input.k\"))\n    shutil.copyfile(mesh_file, os.path.join(wd, mesh_file_name))"
      ]
    },
    {
      "cell_type": "markdown",
      "metadata": {},
      "source": [
        "# Define the Dyna solver function\n"
      ]
    },
    {
      "cell_type": "code",
      "execution_count": null,
      "metadata": {
        "collapsed": false
      },
      "outputs": [],
      "source": [
        "def run(directory):\n    run_dyna(\"input.k\", working_directory=directory, stream=False)\n    assert os.path.isfile(os.path.join(directory, \"d3plot\")), \"No result file found\""
      ]
    },
    {
      "cell_type": "markdown",
      "metadata": {},
      "source": [
        "# Define the DPF output function\n"
      ]
    },
    {
      "cell_type": "code",
      "execution_count": null,
      "metadata": {
        "collapsed": false
      },
      "outputs": [],
      "source": [
        "def get_global_ke(directory):\n    ds = dpf.DataSources()\n    result_file = os.path.join(directory, \"d3plot\")\n    assert os.path.isfile(result_file)\n    ds.set_result_file_path(result_file, \"d3plot\")\n    model = dpf.Model(ds)\n\n    gke_op = dpf.operators.result.global_kinetic_energy()\n    gke_op.inputs.data_sources.connect(ds)\n    gke = gke_op.eval()\n    field = gke.get_field(0)\n    ke_data = field.data\n\n    time_data = model.metadata.time_freq_support.time_frequencies.data_as_list\n    return time_data, ke_data"
      ]
    },
    {
      "cell_type": "markdown",
      "metadata": {},
      "source": [
        "# View the model\n\netc etc\n"
      ]
    },
    {
      "cell_type": "code",
      "execution_count": null,
      "metadata": {
        "collapsed": false
      },
      "outputs": [],
      "source": [
        "deck_for_graphic = create_input_deck(300e3)\ndeck_for_graphic.append(kwd.Include(filename=mesh_file))\ndeck_for_graphic.plot()"
      ]
    },
    {
      "cell_type": "markdown",
      "metadata": {},
      "source": [
        "# Run a parametric solve\n\netc etc\n"
      ]
    },
    {
      "cell_type": "code",
      "execution_count": null,
      "metadata": {
        "collapsed": false
      },
      "outputs": [],
      "source": [
        "# Define base working directory\n\ncolor = [\"b\", \"r\", \"g\", \"y\"]\n# Specify different velocities in mm/s\ninitial_velocities = [275.0e3, 300.0e3, 325.0e3, 350.0e3]\n\nfor index, initial_velocity in enumerate(initial_velocities):\n    # Create a folder for each parameter\n    wd = os.path.join(workdir.name, \"tb_vel_%s\" % initial_velocity)\n    pathlib.Path(wd).mkdir(exist_ok=True)\n    # Create LS-Dyna input deck\n    write_input_deck(initial_velocity=initial_velocity, wd=wd)\n    # Run Solver\n    try:\n        run(wd)\n        # Run PyDPF Post\n        time_data, ke_data = get_global_ke(wd)\n        # Add series to the plot\n        plt.plot(time_data, ke_data, color[index], label=\"KE at vel. %s mm/s\" % initial_velocity)\n\n    except Exception as e:\n        print(e)\n\nplt.xlabel(\"Time (s)\")\nplt.ylabel(\"Energy (mJ)\")"
      ]
    },
    {
      "cell_type": "markdown",
      "metadata": {},
      "source": [
        "# Generate graphical output\n\netc etc\n"
      ]
    },
    {
      "cell_type": "code",
      "execution_count": null,
      "metadata": {
        "collapsed": false
      },
      "outputs": [],
      "source": [
        "plt.show()"
      ]
    }
  ],
  "metadata": {
    "kernelspec": {
      "display_name": "Python 3",
      "language": "python",
      "name": "python3"
    },
    "language_info": {
      "codemirror_mode": {
        "name": "ipython",
        "version": 3
      },
      "file_extension": ".py",
      "mimetype": "text/x-python",
      "name": "python",
      "nbconvert_exporter": "python",
      "pygments_lexer": "ipython3",
      "version": "3.13.5"
    }
  },
  "nbformat": 4,
  "nbformat_minor": 0
}