{
  "cells": [
    {
      "cell_type": "markdown",
      "metadata": {},
      "source": [
        "# Ball plate\n\nThis example shows how to use the PyDYNA `pre` service to create a ball\nplate model. The executable file for LS-DYNA is\n`ls-dyna_smp_d_R13.0_365-gf8a97bda2a_winx64_ifort190.exe`.\n"
      ]
    },
    {
      "cell_type": "markdown",
      "metadata": {},
      "source": [
        "# Perform required imports\n\nPerform the required imports.\n"
      ]
    },
    {
      "cell_type": "code",
      "execution_count": null,
      "metadata": {
        "collapsed": false
      },
      "outputs": [],
      "source": [
        "import os\nimport sys\n\nfrom ansys.dyna.core.pre import examples, launch_dynapre\nfrom ansys.dyna.core.pre.dynamaterial import MatPiecewiseLinearPlasticity, MatRigid\nfrom ansys.dyna.core.pre.dynamech import (\n    AnalysisType,\n    Contact,\n    ContactSurface,\n    ContactType,\n    DynaMech,\n    NodeSet,\n    PartSet,\n    ShellFormulation,\n    ShellPart,\n    SolidFormulation,\n    SolidPart,\n    Velocity,\n)\nfrom ansys.dyna.core.pre.misc import check_valid_ip"
      ]
    },
    {
      "cell_type": "markdown",
      "metadata": {},
      "source": [
        "# Start the `pre` service\n\nBefore starting the `pre` service, you must ensure that the Docker\ncontainer for this service has been started. For more information, see\n\\\"Start the Docker container for the `pre` service\\\" in\n<https://dyna.docs.pyansys.com/version/stable/index.html>.\n\nThe `pre` service can also be started locally, please download the\nlatest version of ansys-pydyna-pre-server.zip package from\n<https://github.com/ansys/pydyna/releases> and start it refefring to the\nREADME.rst file in this server package.\n\nOnce the `pre` service is running, you can connect a client to it using\nthe host name and port. This code uses the default localhost and port\n(`\"localhost\"` and `\"50051\"` respectively).\n"
      ]
    },
    {
      "cell_type": "code",
      "execution_count": null,
      "metadata": {
        "collapsed": false
      },
      "outputs": [],
      "source": [
        "hostname = \"localhost\"\nif len(sys.argv) > 1 and check_valid_ip(sys.argv[1]):\n    hostname = sys.argv[1]\nsolution = launch_dynapre(ip=hostname)"
      ]
    },
    {
      "cell_type": "markdown",
      "metadata": {},
      "source": [
        "# Start the solution workflow\n\nNODES and ELEMENTS are read in from the `ball_plate.k` file. This file\nalso has the *PART* defined in it, but the section and material fields\nare empty to begin with.\n"
      ]
    },
    {
      "cell_type": "code",
      "execution_count": null,
      "metadata": {
        "collapsed": false
      },
      "outputs": [],
      "source": [
        "fns = []\npath = examples.ball_plate + os.sep\nfns.append(path + \"ball_plate.k\")\nsolution.open_files(fns)"
      ]
    },
    {
      "cell_type": "markdown",
      "metadata": {},
      "source": [
        "# Create database and control cards\n\nFor the D3plots, set simulation termination time, simulation timestep,\nand output frequency.\n"
      ]
    },
    {
      "cell_type": "code",
      "execution_count": null,
      "metadata": {
        "collapsed": false
      },
      "outputs": [],
      "source": [
        "solution.set_termination(termination_time=10)\n\nballplate = DynaMech(AnalysisType.NONE)\nsolution.add(ballplate)"
      ]
    },
    {
      "cell_type": "markdown",
      "metadata": {},
      "source": [
        "# Define materials\n\nThe `dynamaterials` class is used to define these materials:\n`MAT_RIGID`, `MAT_PIECEWISE_LINEAR_PLASTICITY`,\n"
      ]
    },
    {
      "cell_type": "code",
      "execution_count": null,
      "metadata": {
        "collapsed": false
      },
      "outputs": [],
      "source": [
        "matrigid = MatRigid(mass_density=7.83e-6, young_modulus=207, poisson_ratio=0.3)\nmatplastic = MatPiecewiseLinearPlasticity(mass_density=7.83e-6, young_modulus=207, yield_stress=0.2, tangent_modulus=2)"
      ]
    },
    {
      "cell_type": "markdown",
      "metadata": {},
      "source": [
        "# Define section properties and assign materials\n\nNow that you have materials with the material ID corresponding to the\nPart ID, you can assign these materials to the parts. You can also\ndefine section properties, element formulations, and constraints.\n"
      ]
    },
    {
      "cell_type": "code",
      "execution_count": null,
      "metadata": {
        "collapsed": false
      },
      "outputs": [],
      "source": [
        "plate = ShellPart(1)\nplate.set_element_formulation(ShellFormulation.BELYTSCHKO_TSAY)\nplate.set_material(matplastic)\nplate.set_thickness(1)\nplate.set_integration_points(5)\nballplate.parts.add(plate)\n\nball = SolidPart(2)\nball.set_material(matrigid)\nball.set_element_formulation(SolidFormulation.CONSTANT_STRESS_SOLID_ELEMENT)\nballplate.parts.add(ball)"
      ]
    },
    {
      "cell_type": "markdown",
      "metadata": {},
      "source": [
        "# Define surface-to-surface contacts\n\nDefine a single-surface contact between a predefined part set.\n"
      ]
    },
    {
      "cell_type": "code",
      "execution_count": null,
      "metadata": {
        "collapsed": false
      },
      "outputs": [],
      "source": [
        "selfcontact = Contact(type=ContactType.AUTOMATIC)\nsurf1 = ContactSurface(PartSet([1, 2]))\nselfcontact.set_slave_surface(surf1)\nballplate.contacts.add(selfcontact)"
      ]
    },
    {
      "cell_type": "markdown",
      "metadata": {},
      "source": [
        "# Define nodal single point constraints.\n\nConstrain the nodes in a list of single point constraints (spc).\n"
      ]
    },
    {
      "cell_type": "code",
      "execution_count": null,
      "metadata": {
        "collapsed": false
      },
      "outputs": [],
      "source": [
        "spc = [\n    34,\n    35,\n    51,\n    52,\n    68,\n    69,\n    85,\n    86,\n    102,\n    103,\n    119,\n    120,\n    136,\n    137,\n    153,\n    154,\n    170,\n    171,\n    187,\n    188,\n    204,\n    205,\n    221,\n    222,\n    238,\n    239,\n    255,\n    256,\n]\nfor i in range(1, 19):\n    spc.append(i)\nfor i in range(272, 290):\n    spc.append(i)\nballplate.boundaryconditions.create_spc(NodeSet(spc), rx=False, ry=False, rz=False)"
      ]
    },
    {
      "cell_type": "markdown",
      "metadata": {},
      "source": [
        "# Define initial condition.\n\nUse the `create_velocity_node` method to initialize the velocity\ncomponents in the desired direction.\n"
      ]
    },
    {
      "cell_type": "code",
      "execution_count": null,
      "metadata": {
        "collapsed": false
      },
      "outputs": [],
      "source": [
        "for i in range(1, 1652):\n    ballplate.initialconditions.create_velocity_node(i, trans=Velocity(0, 0, -10))"
      ]
    },
    {
      "cell_type": "markdown",
      "metadata": {},
      "source": [
        "# Define database outputs\n\nDefine the frequency for the D3PLOT file and write out the input file.\n"
      ]
    },
    {
      "cell_type": "code",
      "execution_count": null,
      "metadata": {
        "collapsed": false
      },
      "outputs": [],
      "source": [
        "solution.set_output_database(glstat=0.1, matsum=0.1, sleout=0.1)\nsolution.create_database_binary(dt=1)\nserverpath = solution.save_file()"
      ]
    },
    {
      "cell_type": "markdown",
      "metadata": {},
      "source": [
        "# Download output file\n\nDownload output file from Docker image for the server to your local\n`<working directory>/output/` location.\n"
      ]
    },
    {
      "cell_type": "code",
      "execution_count": null,
      "metadata": {
        "collapsed": false
      },
      "outputs": [],
      "source": [
        "serveroutfile = \"/\".join((serverpath, \"ball_plate.k\"))\ndownloadpath = os.path.join(os.getcwd(), \"output\")\nif not os.path.exists(downloadpath):\n    os.makedirs(downloadpath)\ndownloadfile = os.path.join(downloadpath, \"ball_plate.k\")\nsolution.download(serveroutfile, downloadfile)"
      ]
    }
  ],
  "metadata": {
    "kernelspec": {
      "display_name": "Python 3",
      "language": "python",
      "name": "python3"
    },
    "language_info": {
      "codemirror_mode": {
        "name": "ipython",
        "version": 3
      },
      "file_extension": ".py",
      "mimetype": "text/x-python",
      "name": "python",
      "nbconvert_exporter": "python",
      "pygments_lexer": "ipython3",
      "version": "3.12.9"
    }
  },
  "nbformat": 4,
  "nbformat_minor": 0
}