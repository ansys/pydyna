{
  "cells": [
    {
      "cell_type": "markdown",
      "metadata": {},
      "source": [
        "# Imposed move\n\nThis example shows how to impose displacements on fluid nodes through\nthe use of the `ICFD_CONTROL_IMPOSED_MOVE` keyword. The executable file\nfor LS-DYNA is\n`ls-dyna_smp_d_R13.1_138-g8429c8a10f_winx64_ifort190.exe`.\n"
      ]
    },
    {
      "cell_type": "code",
      "execution_count": null,
      "metadata": {
        "collapsed": false
      },
      "outputs": [],
      "source": [
        "import os\nimport sys\n\nfrom ansys.dyna.core.pre import examples, launch_dynapre\nfrom ansys.dyna.core.pre.dynaicfd import (\n    ICFDDOF,\n    Curve,\n    DynaICFD,\n    ICFDAnalysis,\n    ICFDPart,\n    ICFDVolumePart,\n    MatICFD,\n    MeshedVolume,\n)\nfrom ansys.dyna.core.pre.misc import check_valid_ip\n\n\nhostname = \"localhost\"\nif len(sys.argv) > 1 and check_valid_ip(sys.argv[1]):\n    hostname = sys.argv[1]\n\nsolution = launch_dynapre(ip=hostname)\n# Import the initial mesh data(nodes and elements)\nfns = []\npath = examples.imposed_move + os.sep\nfns.append(path + \"imposed_move.k\")\nsolution.open_files(fns)\nsolution.set_termination(termination_time=40)\nicfd = DynaICFD()\nsolution.add(icfd)\n\nicfdanalysis = ICFDAnalysis()\nicfdanalysis.set_timestep(0.05)\nicfd.add(icfdanalysis)\n\n# define model\nmat = MatICFD(flow_density=1.0, dynamic_viscosity=0.005)\n\npart_inflow = ICFDPart(1)\npart_inflow.set_material(mat)\npart_inflow.set_prescribed_velocity(dof=ICFDDOF.X, motion=Curve(x=[0, 5, 6, 10000], y=[0, 0, 1, 1]))\npart_inflow.set_prescribed_velocity(dof=ICFDDOF.Y, motion=Curve(x=[0, 10000], y=[0, 0]))\nicfd.parts.add(part_inflow)\n\npart_outflow = ICFDPart(2)\npart_outflow.set_material(mat)\npart_outflow.set_prescribed_pressure(pressure=Curve(x=[0, 10000], y=[0, 0]))\nicfd.parts.add(part_outflow)\n\npart_symmetric = ICFDPart(3)\npart_symmetric.set_material(mat)\npart_symmetric.set_free_slip()\nicfd.parts.add(part_symmetric)\n\npart_wall = ICFDPart(4)\npart_wall.set_material(mat)\npart_wall.set_non_slip()\npart_wall.compute_drag_force()\npart_wall.set_boundary_layer(number=3)\npart_wall.set_imposed_move(vy=Curve(func=\"2*3.14/10*sin(2*3.14/10*TIME+3.14/2)\"))\nicfd.parts.add(part_wall)\n\npartvol = ICFDVolumePart(surfaces=[1, 2, 3, 4])\npartvol.set_material(mat)\nicfd.parts.add(partvol)\n# define the volume space that will be meshed,The boundaries\n# of the volume are the surfaces \"spids\"\nmeshvol = MeshedVolume(surfaces=[1, 2, 3, 4])\nicfd.add(meshvol)\n\nsolution.create_database_binary(dt=0.5)\nsolution.save_file()"
      ]
    }
  ],
  "metadata": {
    "kernelspec": {
      "display_name": "Python 3",
      "language": "python",
      "name": "python3"
    },
    "language_info": {
      "codemirror_mode": {
        "name": "ipython",
        "version": 3
      },
      "file_extension": ".py",
      "mimetype": "text/x-python",
      "name": "python",
      "nbconvert_exporter": "python",
      "pygments_lexer": "ipython3",
      "version": "3.12.9"
    }
  },
  "nbformat": 4,
  "nbformat_minor": 0
}