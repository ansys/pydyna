{
  "cells": [
    {
      "cell_type": "markdown",
      "metadata": {},
      "source": [
        "# Airbag deploy postprocessing\n\nThis example shows how to animate the d3plot and display the stress on\nthe airbag.\n"
      ]
    },
    {
      "cell_type": "markdown",
      "metadata": {},
      "source": [
        "# Perform required imports\n\nImport required imports.\n\nfrom ansys.dpf import core as dpf\n"
      ]
    },
    {
      "cell_type": "markdown",
      "metadata": {},
      "source": [
        "# Connect to DPF Server\n\nConnect to the DPF Server.\n\ndpf.connect_to_server()\n"
      ]
    },
    {
      "cell_type": "markdown",
      "metadata": {},
      "source": [
        "# Load model\n\nLoad the model and print the contents of the model. All parts in the\nmodel are shell parts. Model information includes the result components\nand the number of states available in the d3plot.\n"
      ]
    },
    {
      "cell_type": "code",
      "execution_count": null,
      "metadata": {
        "collapsed": false
      },
      "outputs": [],
      "source": [
        "\"\"\" ds = dpf.DataSources()\nds.set_result_file_path(r'D:\\PYDYNA_BETA_V.0.1\\example-data\\pydyna\\Airbag\\d3plot', 'd3plot')\nmodel = dpf.Model(ds)\nprint(model) \"\"\""
      ]
    },
    {
      "cell_type": "markdown",
      "metadata": {},
      "source": [
        "# Extract stress on all parts\n\nExtract the stress on all the parts. The stress fields container is\nscoped to all time frequencies to be able to animate the change in\nstress on the airbag fabric.\n"
      ]
    },
    {
      "cell_type": "code",
      "execution_count": null,
      "metadata": {
        "collapsed": false
      },
      "outputs": [],
      "source": [
        "\"\"\" stress = model.results.stress.on_all_time_freqs()\nstress.inputs.data_sources(ds)\nstress.inputs.requested_location.connect(\"Nodal\")\nfieldsStr = stress.outputs.fields_container()\"\"\""
      ]
    },
    {
      "cell_type": "markdown",
      "metadata": {},
      "source": [
        "# Extract stress on mid integration point\n\nIn the d3plot file, the shell stress is reported at three\nthrough-thickness points by default. Extract the stress on the mid\nintegration point.\n"
      ]
    },
    {
      "cell_type": "code",
      "execution_count": null,
      "metadata": {
        "collapsed": false
      },
      "outputs": [],
      "source": [
        "\"\"\" shell_layer_extract = dpf.operators.utility.change_shell_layers()\nshell_layer_extract.inputs.fields_container.connect(fieldsStr)\nshell_layer_extract.inputs.e_shell_layer.connect(dpf.common.shell_layers.mid.value)\nfields_top = shell_layer_extract.outputs.fields_container_as_fields_container() \"\"\""
      ]
    },
    {
      "cell_type": "markdown",
      "metadata": {},
      "source": [
        "# Plot deformed state\n\nPlot the deformed state at 9 milliseconds.\n"
      ]
    },
    {
      "cell_type": "code",
      "execution_count": null,
      "metadata": {
        "collapsed": false
      },
      "outputs": [],
      "source": [
        "\"\"\" N = fields_top[19]\nD = model.results.displacement(time_scoping=[19]).eval()\nN.plot(deform_by=D[0],show_edges=False) \"\"\""
      ]
    },
    {
      "cell_type": "markdown",
      "metadata": {},
      "source": [
        "# Display stress field and set mesh\n\nDisplay the stress field and set the mesh to deform by the displacement\nof the nodes.\n"
      ]
    },
    {
      "cell_type": "code",
      "execution_count": null,
      "metadata": {
        "collapsed": false
      },
      "outputs": [],
      "source": [
        "\"\"\" disp = model.results.displacement.on_all_time_freqs.eval()\nfields_top.animate(deform_by=disp,show_edges=False) \"\"\""
      ]
    }
  ],
  "metadata": {
    "kernelspec": {
      "display_name": "Python 3",
      "language": "python",
      "name": "python3"
    },
    "language_info": {
      "codemirror_mode": {
        "name": "ipython",
        "version": 3
      },
      "file_extension": ".py",
      "mimetype": "text/x-python",
      "name": "python",
      "nbconvert_exporter": "python",
      "pygments_lexer": "ipython3",
      "version": "3.12.9"
    }
  },
  "nbformat": 4,
  "nbformat_minor": 0
}