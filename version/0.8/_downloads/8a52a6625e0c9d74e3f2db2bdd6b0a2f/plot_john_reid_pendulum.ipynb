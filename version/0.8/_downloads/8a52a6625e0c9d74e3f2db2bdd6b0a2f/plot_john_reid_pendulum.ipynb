{
  "cells": [
    {
      "cell_type": "markdown",
      "metadata": {},
      "source": [
        "# John Reid pendulum example\n\nThis example is inspired by John Reid\\'s \\\"Pendulum\\\" example on the\n[LS-DYNA Knowledge Base](_ls_dyna_knowledge_base) site. It shows how to\nuse PyDyna to create a keyword file for LS-DYNA and solve it within a\nPythonic environment.\n"
      ]
    },
    {
      "cell_type": "markdown",
      "metadata": {},
      "source": [
        "# Perform required imports\n\nImport required packages, including those for the keywords, deck, and\nsolver.\n"
      ]
    },
    {
      "cell_type": "code",
      "execution_count": null,
      "metadata": {
        "collapsed": false
      },
      "outputs": [],
      "source": [
        "import os\nimport shutil\nimport tempfile\n\nimport pandas as pd\n\nfrom ansys.dyna.core import Deck\nfrom ansys.dyna.core import keywords as kwd\nfrom ansys.dyna.core.pre.examples.download_utilities import EXAMPLES_PATH, DownloadManager\nfrom ansys.dyna.core.run import run_dyna\n\nmesh_file_name = \"nodes.k\"\nmesh_file = DownloadManager().download_file(\n    mesh_file_name, \"ls-dyna\", \"John_Reid_Pendulum\", destination=os.path.join(EXAMPLES_PATH, \"John_Reid_Pendulum\")\n)\n\nrundir = tempfile.TemporaryDirectory()\n\ndynafile = \"pendulum.k\""
      ]
    },
    {
      "cell_type": "markdown",
      "metadata": {},
      "source": [
        "# Create a deck and keywords\n\nCreate a deck, which is the container for all the keywords. Then, create\nand append individual keywords to the deck.\n"
      ]
    },
    {
      "cell_type": "code",
      "execution_count": null,
      "metadata": {
        "collapsed": false
      },
      "outputs": [],
      "source": [
        "def write_deck(filepath):\n    deck = Deck()\n\n    # Append control keywords\n    deck.extend(\n        [\n            kwd.ControlTermination(endtim=11.0),\n            kwd.ControlEnergy(hgen=2, rwen=2),\n            kwd.ControlOutput(npopt=1, neecho=3),\n            kwd.ControlShell(istupd=1, theory=2),\n        ]\n    )\n\n    # Append database keywords\n    deck.extend(\n        [\n            kwd.DatabaseBinaryD3Plot(dt=1.00),\n            kwd.DatabaseExtentBinary(ieverp=1),\n            kwd.DatabaseBinaryD3Thdt(dt=999999),\n            kwd.DatabaseGlstat(dt=0.10),\n            kwd.DatabaseMatsum(dt=0.10),\n            kwd.DatabaseNodout(dt=0.10),\n            kwd.DatabaseHistoryNode(id1=350, id2=374, id3=678, id4=713),\n            kwd.DatabaseRbdout(dt=0.10),\n            kwd.DatabaseRcforc(dt=0.10),\n        ]\n    )\n\n    # Define contacts\n    deck.extend([kwd.ContactAutomaticSingleSurface(ssid=0, fs=0.08, fd=0.08), kwd.ControlContact(shlthk=2)])\n\n    # Define gravity\n    curve1 = kwd.DefineCurve(lcid=1)\n    curve1.curves = pd.DataFrame({\"a1\": [0.00, 10000.00], \"o1\": [1.000, 1.000]})\n\n    deck.extend([kwd.LoadBodyY(lcid=1, sf=0.00981), curve1])\n\n    # Define boundary conditions\n\n    # BoundarySpcNode edited needs to redo code gen\n    BoundarySpcNode = kwd.BoundarySpcNode()\n    BoundarySpcNode.nodes = pd.DataFrame(\n        {\n            \"nid\": [45004, 45005, 45010, 45011],\n            \"cid\": [0, 0, 0, 0],\n            \"dofx\": [1, 1, 1, 1],\n            \"dofy\": [1, 1, 1, 1],\n            \"dofz\": [1, 1, 1, 1],\n            \"dofrx\": [0, 0, 0, 0],\n            \"dofry\": [0, 0, 0, 0],\n            \"dofrz\": [0, 0, 0, 0],\n        }\n    )\n\n    deck.extend(\n        [\n            BoundarySpcNode,\n            kwd.InitialVelocity(boxid=5, vx=0.0, vy=-12.0, vz=0.0),\n            kwd.DefineBox(boxid=5, xmn=-120.0, xmx=-80.0, ymn=80.0, ymx=120.0, zmn=-30.0, zmx=30.0),\n        ]\n    )\n\n    # Define parts and materials\n\n    spherePart = kwd.Part()\n    spherePart.parts = pd.DataFrame({\"heading\": [\"sphere1\", \"sphere2\"], \"pid\": [1, 2], \"secid\": [1, 2], \"mid\": [1, 1]})\n    beamPart = kwd.Part(heading=\"Pendulum Wires - Elastic Beams\", pid=45, secid=45, mid=45)\n\n    deck.extend(\n        [\n            spherePart,\n            # Aluminium\n            kwd.MatPlasticKinematic(mid=1, ro=2.7e-6, e=68.9, pr=0.330, sigy=0.286, etan=0.00689),\n            # Sections\n            kwd.SectionShell(secid=1, elfrom=2, t1=1.0, t2=1.0, t3=1.0, t4=1.0),\n            kwd.SectionShell(secid=2, elfrom=2, t1=1.0, t2=1.0, t3=1.0, t4=1.0),\n            # Pendu Wires\n            beamPart,\n            kwd.SectionBeam(secid=45, elform=3, shrf=1.00000, qr_irid=1.0, a=10.0),\n            kwd.MatElastic(mid=45, ro=7.86e-6, e=210.0, pr=0.30),\n        ]\n    )\n\n    # Define deformable switching\n    deck.extend([kwd.DeformableToRigid(pid=1), kwd.DeformableToRigid(pid=2)])\n\n    # Define nodes and elements\n    deck.append(kwd.Include(filename=mesh_file_name))\n\n    deck.export_file(filepath)\n    return deck\n\n\ndef run_post(filepath):\n    pass\n\n\nshutil.copy(mesh_file, os.path.join(rundir.name, mesh_file_name))\ndeck = write_deck(os.path.join(rundir.name, dynafile))"
      ]
    },
    {
      "cell_type": "markdown",
      "metadata": {},
      "source": [
        "# View the model\n\nYou can use the PyVista `plot` method in the `deck` class to view the\nmodel.\n"
      ]
    },
    {
      "cell_type": "code",
      "execution_count": null,
      "metadata": {
        "collapsed": false
      },
      "outputs": [],
      "source": [
        "deck.plot(cwd=rundir.name)"
      ]
    },
    {
      "cell_type": "markdown",
      "metadata": {},
      "source": [
        "# Run the Dyna solver\n"
      ]
    },
    {
      "cell_type": "code",
      "execution_count": null,
      "metadata": {
        "collapsed": false
      },
      "outputs": [],
      "source": [
        "filepath = run_dyna(dynafile, working_directory=rundir.name)\nrun_post(rundir.name)"
      ]
    }
  ],
  "metadata": {
    "kernelspec": {
      "display_name": "Python 3",
      "language": "python",
      "name": "python3"
    },
    "language_info": {
      "codemirror_mode": {
        "name": "ipython",
        "version": 3
      },
      "file_extension": ".py",
      "mimetype": "text/x-python",
      "name": "python",
      "nbconvert_exporter": "python",
      "pygments_lexer": "ipython3",
      "version": "3.12.9"
    }
  },
  "nbformat": 4,
  "nbformat_minor": 0
}