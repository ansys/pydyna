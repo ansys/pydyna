{
  "cells": [
    {
      "cell_type": "markdown",
      "metadata": {},
      "source": [
        "Thermal stress example\n======================\n\nThis example shows how to create a thermal stress model with the PyDYNA\n`pre` service. The executable file for LS-DYNA is\n`ls-dyna_smp_s_R13.0_365-gf8a97bda2a_winx64_ifort190.exe`.\n"
      ]
    },
    {
      "cell_type": "markdown",
      "metadata": {},
      "source": [
        "Perform required imports\n========================\n\nPeform required imports.\n"
      ]
    },
    {
      "cell_type": "code",
      "execution_count": null,
      "metadata": {
        "collapsed": false
      },
      "outputs": [],
      "source": [
        "import os\nimport sys\n\n\nfrom ansys.dyna.core.pre.dynasolution import DynaSolution\nfrom ansys.dyna.core.pre.dynamech import (\n    DynaMech,\n    ThermalAnalysis,\n    ThermalAnalysisType,\n    SolidPart,\n    SolidFormulation,\n    NodeSet,\n    AnalysisType\n)\nfrom ansys.dyna.core.pre.dynamaterial import MatElasticPlasticThermal\nfrom ansys.dyna.core.pre import examples"
      ]
    },
    {
      "cell_type": "markdown",
      "metadata": {},
      "source": [
        "Manually start the `pre` service\n================================\n\nCopy the `pyDyna/src/ansys/dyna/core/pre/Server`folder to a desired\nlocation. Start the `pre` service at this location by running this\ncommand:\n\n`python kwserver.py`\n\nOnce the `pre` servic is running, you can connect a client to it using\nthe hostname and the port. This example uses the default local host and\nport (`\"localhost\"` and `\"50051\"` respectively).\n"
      ]
    },
    {
      "cell_type": "code",
      "execution_count": null,
      "metadata": {
        "collapsed": false
      },
      "outputs": [],
      "source": [
        "hostname = \"localhost\"\nif len(sys.argv) > 1:\n    hostname = sys.argv[1]\nsolution = DynaSolution(hostname)"
      ]
    },
    {
      "cell_type": "markdown",
      "metadata": {},
      "source": [
        "Start the solution workflow\n===========================\n\nNODES and ELEMENTS are read in from the `thermal_stress.k` file. This\nfile also has the *PART* defined in it, but the section and material\nfields are empty to begin with.\n"
      ]
    },
    {
      "cell_type": "code",
      "execution_count": null,
      "metadata": {
        "collapsed": false
      },
      "outputs": [],
      "source": [
        "fns = []\npath = examples.thermal_stress + os.sep\nfns.append(path + \"thermal_stress.k\")\nsolution.open_files(fns)"
      ]
    },
    {
      "cell_type": "markdown",
      "metadata": {},
      "source": [
        "Set simulation termination time\n===============================\n\nSet the simulation termination time.\n"
      ]
    },
    {
      "cell_type": "code",
      "execution_count": null,
      "metadata": {
        "collapsed": false
      },
      "outputs": [],
      "source": [
        "solution.set_termination(3.0)"
      ]
    },
    {
      "cell_type": "markdown",
      "metadata": {},
      "source": [
        "To invoke the transient thermal solver, set the thermal analysis type\nfor `CONTROL_SOLUTION` to 2 by `ThermalAnalysisType.TRANSIENT`.\n"
      ]
    },
    {
      "cell_type": "code",
      "execution_count": null,
      "metadata": {
        "collapsed": false
      },
      "outputs": [],
      "source": [
        "ts = DynaMech(analysis=AnalysisType.EXPLICIT)\nsolution.add(ts)\n\ntanalysis = ThermalAnalysis()\ntanalysis.set_timestep(initial_timestep=0.1)\ntanalysis.set_solver(analysis_type=ThermalAnalysisType.TRANSIENT)\nts.add(tanalysis)\n\nts.set_timestep(timestep_size_for_mass_scaled=0.01)"
      ]
    },
    {
      "cell_type": "markdown",
      "metadata": {},
      "source": [
        "Define material and section properties\n======================================\n\nDefine the `MAT_4` material, which can have temperature-dependent\nproperties. For the `MAT_THERMAL_ISOTROPIC` property, which is\nassociated with the same part, define the specific heat, thermal\nconductivity, and thermal generation rate.\n"
      ]
    },
    {
      "cell_type": "code",
      "execution_count": null,
      "metadata": {
        "collapsed": false
      },
      "outputs": [],
      "source": [
        "mat = MatElasticPlasticThermal(\n    mass_density=1.0,\n    temperatures=(0,10,20,30,40,50),\n    young_modulus=(1e10,1e10,1e10,1e10,1e10,1e10),\n    poisson_ratio=(0.3,0.3,0.3,0.3,0.3,0.3),\n    thermal_expansion=(0,2e-6,4e-6,6e-6,8e-6,1e-5),\n    yield_stress = (1e20,1e20,1e20,1e20,1e20,1e20)\n)\nmat.set_thermal_isotropic(density=1,generation_rate_multiplier=10,specific_heat=1,conductivity=1)\n\nslab = SolidPart(1)\nslab.set_material(mat)\nslab.set_element_formulation(SolidFormulation.CONSTANT_STRESS_SOLID_ELEMENT)\nts.parts.add(slab)"
      ]
    },
    {
      "cell_type": "markdown",
      "metadata": {},
      "source": [
        "Set initial conditions\n======================\n\nInitialize nodes 1 through 8 with a temperature of 10 degrees.\n"
      ]
    },
    {
      "cell_type": "code",
      "execution_count": null,
      "metadata": {
        "collapsed": false
      },
      "outputs": [],
      "source": [
        "for i in range(1,9):\n    ts.initialconditions.create_temperature(NodeSet([i]),temperature=10)"
      ]
    },
    {
      "cell_type": "markdown",
      "metadata": {},
      "source": [
        "Define output frequencies and save input file\n=============================================\n\nDefine output frequencies and save the input file to disk.\n"
      ]
    },
    {
      "cell_type": "code",
      "execution_count": null,
      "metadata": {
        "collapsed": false
      },
      "outputs": [],
      "source": [
        "solution.set_output_database(glstat=0.03)\nsolution.create_database_binary(dt=0.01)\nsolution.save_file()"
      ]
    }
  ],
  "metadata": {
    "kernelspec": {
      "display_name": "Python 3",
      "language": "python",
      "name": "python3"
    },
    "language_info": {
      "codemirror_mode": {
        "name": "ipython",
        "version": 3
      },
      "file_extension": ".py",
      "mimetype": "text/x-python",
      "name": "python",
      "nbconvert_exporter": "python",
      "pygments_lexer": "ipython3",
      "version": "3.9.17"
    }
  },
  "nbformat": 4,
  "nbformat_minor": 0
}