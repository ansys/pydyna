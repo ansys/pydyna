{
  "cells": [
    {
      "cell_type": "markdown",
      "metadata": {},
      "source": [
        "Ball Plate\n==========\n\nThis example shows how to use the PyDYNA `pre` service to create a ball\nplate model. The executable file for LS-DYNA is\n`ls-dyna_smp_d_R13.0_365-gf8a97bda2a_winx64_ifort190.exe`.\n"
      ]
    },
    {
      "cell_type": "markdown",
      "metadata": {},
      "source": [
        "Perform required imports\n========================\n\nPeform required imports.\n"
      ]
    },
    {
      "cell_type": "code",
      "execution_count": null,
      "metadata": {
        "collapsed": false
      },
      "outputs": [],
      "source": [
        "import os\nimport sys\n\n\nfrom ansys.dyna.core.pre.dynasolution import DynaSolution\nfrom ansys.dyna.core.pre.dynamech import (\n    DynaMech,\n    Velocity,\n    PartSet,\n    ShellPart,\n    SolidPart,\n    NodeSet,\n    Contact,\n    ContactSurface,\n    ShellFormulation,\n    SolidFormulation,\n    ContactType,\n    AnalysisType\n)\nfrom ansys.dyna.core.pre.dynamaterial import (\n    MatRigid,\n    MatPiecewiseLinearPlasticity,\n)\nfrom ansys.dyna.core.pre import examples"
      ]
    },
    {
      "cell_type": "markdown",
      "metadata": {},
      "source": [
        "Start the `pre` service\n=======================\n\nPrerequisite: make sure the `pre` service docker have been started.\nRefer to:\n<https://dyna.docs.pyansys.com/version/stable/getting-started/index.html>\n"
      ]
    },
    {
      "cell_type": "code",
      "execution_count": null,
      "metadata": {
        "collapsed": false
      },
      "outputs": [],
      "source": [
        "# Once the ``pre`` servic is running, you can connect a client to it using\n# the host name and the port. This example uses the default local host and port\n# (``\"localhost\"`` and ``\"50051\"`` respectively).\n#\nhostname = \"localhost\"\nif len(sys.argv) > 1:\n    hostname = sys.argv[1]\nsolution = DynaSolution(hostname)"
      ]
    },
    {
      "cell_type": "markdown",
      "metadata": {},
      "source": [
        "Start the solution workflow\n===========================\n\nNODES and ELEMENTS are read in from the `ball_plate.k` file. This file\nalso has the *PART* defined in it, but the section and material fields\nare empty to begin with.\n"
      ]
    },
    {
      "cell_type": "code",
      "execution_count": null,
      "metadata": {
        "collapsed": false
      },
      "outputs": [],
      "source": [
        "fns = []\npath = examples.ball_plate + os.sep\nfns.append(path+\"ball_plate.k\")\nsolution.open_files(fns)"
      ]
    },
    {
      "cell_type": "markdown",
      "metadata": {},
      "source": [
        "Create database and control cards\n=================================\n\nFor the D3plots, set simulation termination time, simulation timestep,\nand output frequency.\n"
      ]
    },
    {
      "cell_type": "code",
      "execution_count": null,
      "metadata": {
        "collapsed": false
      },
      "outputs": [],
      "source": [
        "solution.set_termination(termination_time=10)\n\nballplate = DynaMech(AnalysisType.NONE)\nsolution.add(ballplate)"
      ]
    },
    {
      "cell_type": "markdown",
      "metadata": {},
      "source": [
        "Define materials\n================\n\nThe `dynamaterials` class are used to define these materials:\n`MAT_RIGID`, `MAT_PIECEWISE_LINEAR_PLASTICITY`,\n"
      ]
    },
    {
      "cell_type": "code",
      "execution_count": null,
      "metadata": {
        "collapsed": false
      },
      "outputs": [],
      "source": [
        "matrigid = MatRigid(mass_density=7.83e-6, young_modulus=207, poisson_ratio=0.3)\nmatplastic = MatPiecewiseLinearPlasticity(mass_density=7.83e-6, young_modulus=207, yield_stress=0.2, tangent_modulus=2)"
      ]
    },
    {
      "cell_type": "markdown",
      "metadata": {},
      "source": [
        "Define section properties and assign materials\n==============================================\n\nNow that you have materials with the material ID corresponding to the\nPart ID, you can assign these materials to the parts. also define the\nsection properties, element formulations, and constraints.\n"
      ]
    },
    {
      "cell_type": "code",
      "execution_count": null,
      "metadata": {
        "collapsed": false
      },
      "outputs": [],
      "source": [
        "plate = ShellPart(1)\nplate.set_element_formulation(ShellFormulation.BELYTSCHKO_TSAY)\nplate.set_material(matplastic)\nplate.set_thickness(1)\nplate.set_integration_points(5)\nballplate.parts.add(plate)\n\nball = SolidPart(2)\nball.set_material(matrigid)\nball.set_element_formulation(SolidFormulation.CONSTANT_STRESS_SOLID_ELEMENT)\nballplate.parts.add(ball)"
      ]
    },
    {
      "cell_type": "markdown",
      "metadata": {},
      "source": [
        "Define surface-to-surface contacts\n==================================\n\nDefine single-surface contact between predefined part set.\n"
      ]
    },
    {
      "cell_type": "code",
      "execution_count": null,
      "metadata": {
        "collapsed": false
      },
      "outputs": [],
      "source": [
        "selfcontact = Contact(type=ContactType.AUTOMATIC)\nsurf1 = ContactSurface(PartSet([1, 2]))\nselfcontact.set_slave_surface(surf1)\nballplate.contacts.add(selfcontact)"
      ]
    },
    {
      "cell_type": "markdown",
      "metadata": {},
      "source": [
        "Define nodal single point constraints.\n======================================\n\nConstrain the nodes in the spc list\n"
      ]
    },
    {
      "cell_type": "code",
      "execution_count": null,
      "metadata": {
        "collapsed": false
      },
      "outputs": [],
      "source": [
        "spc = [34,35,51,52,68,69,85,86,102,103,119,120,136,137,153,154,170,171,187,188,204,205,221,222,238,239,255,256]\nfor i in range(1,19):\n    spc.append(i)\nfor i in range(272,290):\n    spc.append(i)\nballplate.boundaryconditions.create_spc(NodeSet(spc),rx=False,ry=False,rz=False)"
      ]
    },
    {
      "cell_type": "markdown",
      "metadata": {},
      "source": [
        "Define initial condition.\n=========================\n\nUse the `create_velocity_node` method to initialize the velocity\ncomponents in the desired direction.\n"
      ]
    },
    {
      "cell_type": "code",
      "execution_count": null,
      "metadata": {
        "collapsed": false
      },
      "outputs": [],
      "source": [
        "for i in range(1,1652):\n    ballplate.initialconditions.create_velocity_node(i,trans=Velocity(0, 0, -10))"
      ]
    },
    {
      "cell_type": "markdown",
      "metadata": {},
      "source": [
        "Define database outputs\n=======================\n\nDefine the frequency for the D3PLOT file and write out the input file.\n"
      ]
    },
    {
      "cell_type": "code",
      "execution_count": null,
      "metadata": {
        "collapsed": false
      },
      "outputs": [],
      "source": [
        "solution.set_output_database(glstat=0.1, matsum=0.1, sleout=0.1)\nsolution.create_database_binary(dt=1)\nserverpath = solution.save_file()"
      ]
    },
    {
      "cell_type": "markdown",
      "metadata": {},
      "source": [
        "Download output file\n====================\n\nDownload output file from service docker to local \\<working\ndirectory\\>/output/.\n"
      ]
    },
    {
      "cell_type": "code",
      "execution_count": null,
      "metadata": {
        "collapsed": false
      },
      "outputs": [],
      "source": [
        "serveroutfile = '/'.join((serverpath,\"ball_plate.k\"))\ndownloadpath = os.path.join(os.getcwd(), \"output\")\nif not os.path.exists(downloadpath):\n    os.makedirs(downloadpath)\ndownloadfile = os.path.join(downloadpath,\"ball_plate.k\")\nsolution.download(serveroutfile,downloadfile)"
      ]
    }
  ],
  "metadata": {
    "kernelspec": {
      "display_name": "Python 3",
      "language": "python",
      "name": "python3"
    },
    "language_info": {
      "codemirror_mode": {
        "name": "ipython",
        "version": 3
      },
      "file_extension": ".py",
      "mimetype": "text/x-python",
      "name": "python",
      "nbconvert_exporter": "python",
      "pygments_lexer": "ipython3",
      "version": "3.9.17"
    }
  },
  "nbformat": 4,
  "nbformat_minor": 0
}