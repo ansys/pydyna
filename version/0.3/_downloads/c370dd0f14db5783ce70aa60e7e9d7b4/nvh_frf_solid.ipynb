{
  "cells": [
    {
      "cell_type": "markdown",
      "metadata": {},
      "source": [
        "FRF for a colume model with a hole\n==================================\n\nThis example shows a column with a hole using solid elements. The\nexecutable file for LS-DYNA is\n`ls-dyna_smp_d_R13.1_138-g8429c8a10f_winx64_ifort190.exe`.\n"
      ]
    },
    {
      "cell_type": "code",
      "execution_count": null,
      "metadata": {
        "collapsed": false
      },
      "outputs": [],
      "source": [
        "import os\nimport sys\n\n\nfrom ansys.dyna.core.pre.dynasolution import DynaSolution\nfrom ansys.dyna.core.pre.dynamaterial import MatPiecewiseLinearPlasticity\nfrom ansys.dyna.core.pre.dynanvh import (\n    DynaNVH,\n    FrequencyDomain,\n    ExcitationDOF,\n    NodeSet,\n    SolidPart,\n    SolidFormulation,\n    ResponseDOF,\n    ResponseType,\n    EnergyFlag,\n    OutputEcho,\n    ExcitationType\n)\nfrom ansys.dyna.core.pre import examples\n\nhostname = \"localhost\"\nif len(sys.argv) > 1:\n    hostname = sys.argv[1]\nsolution = DynaSolution(hostname)\nfns = []\npath = examples.nvh_frf_solid + os.sep\nfns.append(path + \"frf_solid.k\")\nsolution.open_files(fns)\nsolution.set_termination(termination_time=1)\n\nnvhobj = DynaNVH()\nsolution.add(nvhobj)\n\nnvhobj.set_energy(hourglass_energy=EnergyFlag.COMPUTED)\nnvhobj.set_output(print_suppression_d3hsp=True,print_suppression_echo=OutputEcho.SUPPRESSED_NODAL_AND_ELEMENT_PRINTING)\n\nnvhobj.implicitanalysis.set_initial_timestep_size(1.0)\nnvhobj.implicitanalysis.set_eigenvalue(number_eigenvalues=100)\nnvhobj.implicitanalysis.set_solution(solution_method=1)\n\nfd = FrequencyDomain()\n\noutputset = [290,292,294,296,298,300,302,304,306,380,382,384,386,388,390,482,484,486,488,490,492,578,580,582,638,640,706,708]\nfd.set_frequency_response_function(\n    excitation_input_dof=ExcitationDOF.X,\n    excitation_input_type=ExcitationType.BASE_ACCELERATION,\n    max_natural_frequency=20,\n    modal_damping_coefficient=0.01,\n    response_output_set=NodeSet(outputset),\n    response_output_dof=ResponseDOF.X,\n    response_output_type=ResponseType.BASE_ACCELERATION,\n    frf_output_min_frequency=0.01,\n    frf_output_max_frequency=10,\n    frf_output_num_frequency=1000,\n)\nnvhobj.add(fd)\n\nplastic1 = MatPiecewiseLinearPlasticity(\n    mass_density=4.99e-07, young_modulus=11.37,poisson_ratio=0.32, yield_stress=0.0468\n)\nplastic2 = MatPiecewiseLinearPlasticity(\n    mass_density=4.99e-07, young_modulus=110.37,poisson_ratio=0.32, yield_stress=0.0468\n)\n\nlower = SolidPart(4)\nlower.set_material(plastic1)\nlower.set_element_formulation(SolidFormulation.IMPLICIT_9_POINT_ENHANCED_STRAIN)\nnvhobj.parts.add(lower)\n\nupper = SolidPart(5)\nupper.set_material(plastic2)\nupper.set_element_formulation(SolidFormulation.IMPLICIT_9_POINT_ENHANCED_STRAIN)\nnvhobj.parts.add(upper)\n\nspc = [163,166,169,172,175,178,181,184,187,307,310,313,316,319,322,391,394,397,400,403,406,493,496,499,589,592,645,648]\nnvhobj.boundaryconditions.create_spc(NodeSet(spc))\n\nsolution.create_database_binary(dt=0.1)\nsolution.set_output_database(\n    glstat=0.1,\n    matsum=0.1,\n)\nsolution.save_file()"
      ]
    }
  ],
  "metadata": {
    "kernelspec": {
      "display_name": "Python 3",
      "language": "python",
      "name": "python3"
    },
    "language_info": {
      "codemirror_mode": {
        "name": "ipython",
        "version": 3
      },
      "file_extension": ".py",
      "mimetype": "text/x-python",
      "name": "python",
      "nbconvert_exporter": "python",
      "pygments_lexer": "ipython3",
      "version": "3.9.17"
    }
  },
  "nbformat": 4,
  "nbformat_minor": 0
}