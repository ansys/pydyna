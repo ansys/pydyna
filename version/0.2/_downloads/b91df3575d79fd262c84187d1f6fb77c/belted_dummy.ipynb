{
  "cells": [
    {
      "cell_type": "code",
      "execution_count": null,
      "metadata": {
        "collapsed": false
      },
      "outputs": [],
      "source": [
        "%matplotlib inline"
      ]
    },
    {
      "cell_type": "markdown",
      "metadata": {},
      "source": [
        "Belted dummy example\n====================\n\nThis example show how to create an Belted dummy model with Pydyna-pre\nmodule.\n\nLS-DYNA version : LS-DYNA version :\nls-dyna\\_smp\\_d\\_R13.0\\_365-gf8a97bda2a\\_winx64\\_ifort190.exe\n"
      ]
    },
    {
      "cell_type": "code",
      "execution_count": null,
      "metadata": {
        "collapsed": false
      },
      "outputs": [],
      "source": [
        "import os\nimport sys\n\n\nfrom ansys.dyna.core.pre.dynasolution import DynaSolution\nfrom ansys.dyna.core.pre.dynamech import (\n    DynaMech,\n    Velocity,\n    Curve,\n    ShellPart,\n    DiscretePart,\n    NodeSet,\n    SegmentSet,\n    DRO,\n    Contact,\n    ContactSurface,\n    ContactCategory,\n    Motion,\n    Gravity,\n    GravityOption,\n)\nfrom ansys.dyna.core.pre.dynamaterial import (\n    MatRigid,\n    MatElastic,\n    MatSpringNonlinearElastic,\n    MatDamperViscous,\n    MatDamperNonlinearViscous,\n)\nfrom belted_dummy_data import *\nfrom ansys.dyna.core.pre import examples\n\nhostname = \"localhost\"\nif len(sys.argv) > 1:\n    hostname = sys.argv[1]\n\ndummy_solution = DynaSolution(hostname)\nfns = []\npath = examples.belted_dummy + os.sep\nfns.append(path + \"belted_dummy.k\")\ndummy_solution.open_files(fns)\ndummy_solution.set_termination(termination_time=0.12)\ndummy_solution.create_database_binary(dt=2.5e-3)\n\ndummy = DynaMech()\ndummy_solution.add(dummy)\n\ndummy.set_timestep(tssfac=0.8)\ndummy.set_init_velocity(Velocity(14.8, 0, 0))\n\n# Define material\nshellmatlist = []\nfor i in range(15):\n    matrigid = MatRigid(\n        mass_density=rigidmats[i][0], young_modulus=rigidmats[i][1], poisson_ratio=0.3\n    )\n    shellmatlist.append(matrigid)\n\nfor i in range(16, 23):\n    index = i - 16\n    matelastic = MatElastic(\n        mass_density=elasticmats[index][0], young_modulus=elasticmats[index][1], poisson_ratio=0.3\n    )\n    shellmatlist.append(matelastic)\n\ndiscmatlist = []\nfor i in range(101, 143):\n    index = i - 101\n    mat = MatSpringNonlinearElastic(curve=Curve(x=curvedata[index][0], y=curvedata[index][1]))\n    discmatlist.append(mat)\n\nfor i in range(143, 185):\n    index = i - 143\n    mat = MatDamperViscous(damping_constant=dampingconst[index])\n    discmatlist.append(mat)\n\nfor i in range(185, 209):\n    index = i - 185\n    mat = MatDamperNonlinearViscous(\n        curve=Curve(x=curvedata[lcidlist[index]][0], y=curvedata[lcidlist[index]][1])\n    )\n    discmatlist.append(mat)\n\n# Set part properties\nfor i in range(1, 23):\n    part = ShellPart(i)\n    part.set_material(shellmatlist[i - 1])\n    part.set_thickness(shellsec[i - 1][0])\n    part.set_integration_points(shellsec[i - 1][1])\n    if i in range(1, 16):\n        part.set_extra_nodes(NodeSet(extra_nodes[i - 1]))\n    dummy.parts.add(part)\n\nfor i in range(101, 209):\n    index = i - 101\n    part = DiscretePart(i)\n    part.set_material(discmatlist[index])\n    part.set_displacement_option(displacement_option=DRO.DESCRIBES_TORSIONAL_SPRING)\n    dummy.parts.add(part)\n\n# Contact\nfslist = [0.62, 0.62, 0.62, 0.8, 1, 0.8, 0.88, 0.88, 0.16, 0.88, 0]\nfor i in range(11):\n    contact = Contact(category=ContactCategory.SURFACE_TO_SURFACE_CONTACT)\n    contact.set_friction_coefficient(static=fslist[i])\n    surf1 = ContactSurface(SegmentSet(segments[2 * i]))\n    surf2 = ContactSurface(SegmentSet(segments[2 * i + 1]))\n    contact.set_slave_surface(surf1)\n    contact.set_master_surface(surf2)\n    dummy.contacts.add(contact)\n\n# Constraint\nfor i in range(14):\n    dummy.constraints.create_joint_spherical(nodes=jointlist[i])\n\n# Boundary condition\ndummy.boundaryconditions.create_imposed_motion(\n    NodeSet(motion_nodes),\n    Curve(x=motion_curve_x, y=motion_curve_y),\n    motion=Motion.ACCELERATION,\n    scalefactor=-1,\n)\n\n# Load\ng = Gravity(dir=GravityOption.DIR_Z, load=Curve(x=[0, 0.152], y=[9.81, 9.81]))\ndummy.add(g)\n\ndummy_solution.create_database_binary(dt=2.5e-3)\ndummy_solution.save_file()"
      ]
    }
  ],
  "metadata": {
    "kernelspec": {
      "display_name": "Python 3",
      "language": "python",
      "name": "python3"
    },
    "language_info": {
      "codemirror_mode": {
        "name": "ipython",
        "version": 3
      },
      "file_extension": ".py",
      "mimetype": "text/x-python",
      "name": "python",
      "nbconvert_exporter": "python",
      "pygments_lexer": "ipython3",
      "version": "3.9.16"
    }
  },
  "nbformat": 4,
  "nbformat_minor": 0
}