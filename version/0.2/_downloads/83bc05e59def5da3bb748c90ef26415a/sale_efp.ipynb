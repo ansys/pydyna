{
  "cells": [
    {
      "cell_type": "code",
      "execution_count": null,
      "metadata": {
        "collapsed": false
      },
      "outputs": [],
      "source": [
        "%matplotlib inline"
      ]
    },
    {
      "cell_type": "markdown",
      "metadata": {},
      "source": [
        "EFP Concrete Target\n===================\n\nThis example demonstrates how to create a SALE input deck.\n\nLS-DYNA version :\nls-dyna\\_smp\\_s\\_R13.0\\_365-gf8a97bda2a\\_winx64\\_ifort190.exe\n"
      ]
    },
    {
      "cell_type": "code",
      "execution_count": null,
      "metadata": {
        "collapsed": false
      },
      "outputs": [],
      "source": [
        "import os\nimport sys\n\nfrom ansys.dyna.core.pre.dynasolution import DynaSolution\nfrom ansys.dyna.core.pre.dynasale import (\n    DynaSALE,\n    ControlPoint,\n    AdvectionMethod,\n    StructuredMesh,\n    FillDirection,\n    Point,\n)\nfrom ansys.dyna.core.pre import dynamaterial as matDB\nfrom ansys.dyna.core.pre import examples\n\nhostname = \"localhost\"\nif len(sys.argv) > 1:\n    hostname = sys.argv[1]\n\nefp_solution = DynaSolution(hostname)\n# Import the initial mesh data(nodes and elements)\nfns = []\npath = examples.sale_efp + os.sep\nfns.append(path + \"efpcase.k\")\nefp_solution.open_files(fns)\n\n# set termination\nefp_solution.set_termination(280)\n\nefp = DynaSALE()\nefp_solution.add(efp)\n\n# set post result ouput interval\nefp.set_output_interval(5.0)\n\n# set analysis type\nefp.set_analysis_type(method=AdvectionMethod.VAN_LEER_WITH_HIS)\n\n# define mesh\ncontrol_points_x = [\n    ControlPoint(number=1, position=0, ratio=1),\n    ControlPoint(number=11, position=-2.5, ratio=0.5),\n    ControlPoint(number=21, position=0, ratio=0.5),\n    ControlPoint(number=31, position=0, ratio=1),\n]\n\ncontrol_points_y = [\n    ControlPoint(number=1, position=0, ratio=1),\n    ControlPoint(number=11, position=-2.5, ratio=0.5),\n    ControlPoint(number=21, position=0, ratio=0.5),\n    ControlPoint(number=31, position=0, ratio=1),\n]\n\ncontrol_points_z = [\n    ControlPoint(number=1, position=0, ratio=0.5),\n    ControlPoint(number=269, position=11, ratio=0.25),\n    ControlPoint(number=309, position=21, ratio=0.25),\n    ControlPoint(number=339, position=0, ratio=5),\n]\n\nmesh = StructuredMesh(control_points_x, control_points_y, control_points_z)\nefp.add(mesh)\n\n# fill material\nvacuum = matDB.Vacuum()\nmesh.fill(vacuum)\nair = matDB.Air()\nmesh.fill(air, geometry_type=\"ALL\", reference_pressure=1.01325e-6)\nhe = matDB.HighExplosive()\nmesh.fill(\n    he,\n    geometry_type=\"PART\",\n    define_geometry_parameters=[23],\n    inout=FillDirection.OUTSIDE_THE_GEOMETRY,\n)\nliner = matDB.Liner()\nmesh.fill(\n    liner,\n    geometry_type=\"PART\",\n    define_geometry_parameters=[22],\n    inout=FillDirection.OUTSIDE_THE_GEOMETRY,\n)\n\n# Set the initial conditions\nmesh.initial_detonation(Point(0, 0, 19.33))\n\n# set outut datebase\nefp_solution.set_output_database(matsum=0.2, glstat=0.2)\n\n# save file on server end\nefp_solution.save_file()"
      ]
    }
  ],
  "metadata": {
    "kernelspec": {
      "display_name": "Python 3",
      "language": "python",
      "name": "python3"
    },
    "language_info": {
      "codemirror_mode": {
        "name": "ipython",
        "version": 3
      },
      "file_extension": ".py",
      "mimetype": "text/x-python",
      "name": "python",
      "nbconvert_exporter": "python",
      "pygments_lexer": "ipython3",
      "version": "3.9.16"
    }
  },
  "nbformat": 4,
  "nbformat_minor": 0
}