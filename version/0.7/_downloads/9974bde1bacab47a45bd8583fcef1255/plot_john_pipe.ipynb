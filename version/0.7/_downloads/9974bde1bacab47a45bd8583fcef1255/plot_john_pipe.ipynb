{
  "cells": [
    {
      "cell_type": "markdown",
      "metadata": {},
      "source": [
        "# John Reid pipe example\n\nThis example is inspired by John Reid\\'s \\\"Pipe\\\" example on the\n[LS-DYNA Knowledge Base](_ls_dyna_knowledge_base) site. It shows how to\nuse PyDyna to create a keyword file for LS-DYNA and solve it within a\nPythonic environment.\n"
      ]
    },
    {
      "cell_type": "markdown",
      "metadata": {},
      "source": [
        "# Perform required imports\n\nImport required packages, including those for the keywords, deck, and\nsolver.\n"
      ]
    },
    {
      "cell_type": "code",
      "execution_count": null,
      "metadata": {
        "collapsed": false
      },
      "outputs": [],
      "source": [
        "import os\nimport shutil\nimport tempfile\n\nimport pandas as pd\n\nfrom ansys.dyna.core import Deck\nfrom ansys.dyna.core import keywords as kwd\nfrom ansys.dyna.core.pre.examples.download_utilities import EXAMPLES_PATH, DownloadManager\nfrom ansys.dyna.core.run import run_dyna\n\nmesh_file_name = \"nodes.k\"\nmesh_file = DownloadManager().download_file(\n    mesh_file_name, \"ls-dyna\", \"John_Reid_Pipe\", destination=os.path.join(EXAMPLES_PATH, \"John_Reid_Pipe\")\n)\n\nrundir = tempfile.TemporaryDirectory()\n\ndynafile = \"pipe.k\""
      ]
    },
    {
      "cell_type": "markdown",
      "metadata": {},
      "source": [
        "# Create a deck and keywords\n\nCreate a deck, which is the container for all the keywords. Then, create\nand append individual keywords to the deck.\n"
      ]
    },
    {
      "cell_type": "code",
      "execution_count": null,
      "metadata": {
        "collapsed": false
      },
      "outputs": [],
      "source": [
        "def write_deck(filepath):\n    deck = Deck()\n\n    # Append control keywords\n    deck.extend(\n        [\n            kwd.ControlTermination(endtim=20.0),\n            kwd.ControlEnergy(hgen=2, rwen=2, slnten=2),\n            kwd.ControlOutput(npopt=1, neecho=3),\n            kwd.ControlShell(istupd=1),\n        ]\n    )\n\n    # Append database keywords\n    deck.extend(\n        [\n            kwd.DatabaseBinaryD3Plot(dt=1.00),\n            kwd.DatabaseExtentBinary(ieverp=1),\n            kwd.DatabaseBinaryD3Thdt(dt=999999),\n            kwd.DatabaseGlstat(dt=0.10),\n            kwd.DatabaseMatsum(dt=0.10),\n            kwd.DatabaseJntforc(dt=0.10),\n            kwd.DatabaseRbdout(dt=0.10),\n            kwd.DatabaseRcforc(dt=0.10),\n        ]\n    )\n\n    # Define contacts - sliding interfaces\n\n    deck.extend(\n        [\n            kwd.ContactForceTransducerPenalty(surfa=1, surfatyp=3),\n            kwd.ContactAutomaticSingleSurface(ssid=3, sstyp=2, fs=0.30, fd=0.30),\n            kwd.SetPartList(sid=3, parts=[1, 2]),\n        ]\n    )\n\n    # Define initial conditions\n\n    deck.extend(\n        [\n            kwd.InitialVelocityGeneration(id=5, omega=-0.082, xc=-78.50, yc=-610.13, zc=5.69, nx=1.0),\n            kwd.SetPartList(sid=5, parts=[1, 2]),\n        ]\n    )\n\n    # Define pipe parts and materials\n\n    pipe_parts = kwd.Part()\n    pipe_parts.parts = pd.DataFrame(\n        {\n            \"heading\": [\"Deformable-Pipe\", \"Pipe-End\", \"Rigid-Pipe\"],\n            \"pid\": [1, 2, 3],\n            \"secid\": [1, 2, 2],\n            \"mid\": [1, 2, 1],\n        }\n    )\n\n    deck.extend(\n        [\n            pipe_parts,\n            # Aluminium\n            kwd.MatPlasticKinematic(mid=1, ro=7.86e-6, e=200.0, pr=0.30, sigy=0.250, etan=0.00689),\n            kwd.MatRigid(mid=2, ro=7.86e-6, e=200.0, pr=0.30),\n            # Sections\n            kwd.SectionShell(secid=1, elfrom=2, nip=5, t1=11.0, t2=11.0, t3=11.0, t4=11.0),\n            kwd.SectionShell(secid=2, elfrom=2, nip=3, t1=11.0, t2=11.0, t3=11.0, t4=11.0),\n        ]\n    )\n\n    # Define bracket parts and materials\n    bracket_parts = kwd.Part(heading=\"Bracket\", pid=4, secid=4, mid=4)\n\n    deck.extend(\n        [\n            bracket_parts,\n            kwd.MatRigid(mid=4, ro=7.86e-6, e=200.0, pr=0.30, cmo=1, con1=7, con2=7),\n            kwd.SectionSolid(secid=4),\n        ]\n    )\n\n    # Define deformable switching\n    deck.extend([kwd.DeformableToRigid(pid=1), kwd.DeformableToRigid(pid=2)])\n\n    # Define nodes and elements\n    deck.extend([kwd.Include(filename=mesh_file_name)])\n\n    deck.export_file(filepath)\n    return deck\n\n\ndef run_post(filepath):\n    pass\n\n\nshutil.copy(mesh_file, os.path.join(rundir.name, mesh_file_name))\ndeck = write_deck(os.path.join(rundir.name, dynafile))\ndeck.plot(cwd=rundir.name)"
      ]
    },
    {
      "cell_type": "markdown",
      "metadata": {},
      "source": [
        "# Run the Dyna solver\n\nRun the Dyna solver.\n"
      ]
    },
    {
      "cell_type": "code",
      "execution_count": null,
      "metadata": {
        "collapsed": false
      },
      "outputs": [],
      "source": [
        "run_dyna(dynafile, working_directory=rundir.name)\nrun_post(rundir.name)"
      ]
    }
  ],
  "metadata": {
    "kernelspec": {
      "display_name": "Python 3",
      "language": "python",
      "name": "python3"
    },
    "language_info": {
      "codemirror_mode": {
        "name": "ipython",
        "version": 3
      },
      "file_extension": ".py",
      "mimetype": "text/x-python",
      "name": "python",
      "nbconvert_exporter": "python",
      "pygments_lexer": "ipython3",
      "version": "3.12.9"
    }
  },
  "nbformat": 4,
  "nbformat_minor": 0
}