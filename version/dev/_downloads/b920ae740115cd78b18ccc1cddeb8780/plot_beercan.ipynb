{
  "cells": [
    {
      "cell_type": "markdown",
      "metadata": {},
      "source": [
        "# Buckling of beer can example\n\nThis example is inspired by the \\\"Buckling of Beer Can\\\" example on the\n[LS-DYNA Knowledge Base](_ls_dyna_knowledge_base) site. It shows how to\nuse PyDyna to create a keyword file for LS-DYNA and then solve it from\nPython.\n"
      ]
    },
    {
      "cell_type": "markdown",
      "metadata": {},
      "source": [
        "# Perform required imports\n\nImport required packages, including those for the keywords, deck, and\nsolver.\n"
      ]
    },
    {
      "cell_type": "code",
      "execution_count": null,
      "metadata": {
        "collapsed": false
      },
      "outputs": [],
      "source": [
        "import os\nimport shutil\n\n# subprocess is used to run LS-DYNA commands, excluding bandit warning\nimport subprocess  # nosec: B404\nimport tempfile\n\nimport numpy as np\nimport pandas as pd\n\nfrom ansys.dyna.core import Deck\nfrom ansys.dyna.core import keywords as kwd\nfrom ansys.dyna.core.pre.examples.download_utilities import EXAMPLES_PATH, DownloadManager\nfrom ansys.dyna.core.run import MemoryUnit, MpiOption, run_dyna\n\nrundir = tempfile.TemporaryDirectory()\nmesh_file_name = \"mesh.k\"\nmesh_file = DownloadManager().download_file(\n    mesh_file_name, \"ls-dyna\", \"Buckling_Beer_Can\", destination=os.path.join(EXAMPLES_PATH, \"Buckling_Beer_Can\")\n)\n\ndynafile = \"beer_can.k\""
      ]
    },
    {
      "cell_type": "markdown",
      "metadata": {},
      "source": [
        "# Create a deck and keywords\n\nCreate a deck, which is the container for all the keywords. Then, create\nand append individual keywords to the deck.\n"
      ]
    },
    {
      "cell_type": "code",
      "execution_count": null,
      "metadata": {
        "collapsed": false
      },
      "outputs": [],
      "source": [
        "def write_deck(filepath):\n    deck = Deck()\n\n    # Append control keywords\n    contact_auto = kwd.ContactAutomaticSingleSurfaceMortar(cid=1)\n    contact_auto.options[\"ID\"].active = True\n    contact_auto.heading = \"Single-Surface Mortar Contact (The New Explicit/Implicit Standard)\"\n    deck.extend(\n        [\n            contact_auto,\n            kwd.ControlAccuracy(iacc=1),\n            kwd.ControlImplicitAuto(iauto=1, dtmax=0.01),\n            kwd.ControlImplicitDynamics(imass=1, gamma=0.6, beta=0.38),\n            kwd.ControlImplicitGeneral(imflag=1, dt0=0.01),\n            kwd.ControlImplicitSolution(nlprint=2),\n            kwd.ControlShell(esort=2, theory=-16, intgrd=1, nfail4=1, irquad=0),\n            kwd.ControlTermination(endtim=1.0),\n        ]\n    )\n\n    # Append database keywords\n    deck.extend(\n        [\n            kwd.DatabaseGlstat(dt=1.0e-4, binary=3, ioopt=0),\n            kwd.DatabaseSpcforc(dt=1e-4, binary=3, ioopt=0),\n            kwd.DatabaseBinaryD3Plot(dt=1.0e-4),\n            kwd.DatabaseExtentBinary(maxint=-3, nintsld=1),\n        ]\n    )\n\n    # Part keywords\n    can_part = kwd.Part(heading=\"Beer Can\", pid=1, secid=1, mid=1, eosid=0)\n    floor_part = kwd.Part(heading=\"Floor\", pid=2, secid=2, mid=1)\n\n    # Material keywords\n    mat_elastic = kwd.MatElastic(mid=1, ro=2.59e-4, e=1.0e7, pr=0.33, title=\"Aluminum\")\n    mat_elastic.options[\"TITLE\"].active = True\n\n    # Section keywords\n    can_shell = kwd.SectionShell(secid=1, elform=-16, shrf=0.8333, nip=3, t1=0.002, propt=0.0, title=\"Beer Can\")\n    can_shell.options[\"TITLE\"].active = True\n\n    floor_shell = kwd.SectionShell(secid=2, elform=-16, shrf=0.833, t1=0.01, propt=0.0)\n    floor_shell.options[\"TITLE\"].active = True\n    floor_shell.title = \"Floor - Just for Contact (Rigid Wall Would Have Worked Also)\"\n\n    deck.extend(\n        [\n            can_part,\n            can_shell,\n            floor_part,\n            floor_shell,\n            mat_elastic,\n        ]\n    )\n\n    # Load curve\n    load_curve = kwd.DefineCurve(lcid=1, curves=pd.DataFrame({\"a1\": [0.00, 1.00], \"o1\": [0.0, 1.000]}))\n    load_curve.options[\"TITLE\"].active = True\n    load_curve.title = \"Load vs. Time\"\n    deck.append(load_curve)\n\n    # Define boundary conditions\n    load_nodes = [\n        50,\n        621,\n        670,\n        671,\n        672,\n        673,\n        674,\n        675,\n        676,\n        677,\n        678,\n        679,\n        680,\n        681,\n        682,\n        683,\n        684,\n        685,\n        686,\n        687,\n        31,\n        32,\n        33,\n        34,\n        35,\n        36,\n        37,\n        38,\n        39,\n        40,\n        41,\n        42,\n        43,\n        44,\n        45,\n        46,\n        47,\n        48,\n        49,\n        1229,\n        1230,\n        1231,\n        1232,\n        1233,\n        1234,\n        1235,\n        1236,\n        1237,\n        1238,\n        1239,\n        1240,\n        1241,\n        1242,\n        1243,\n        1244,\n        1245,\n        1246,\n        1247,\n        1799,\n        1800,\n        1801,\n        1802,\n        1803,\n        1804,\n        1805,\n        1806,\n        1807,\n        1808,\n        1809,\n        1810,\n        1811,\n        1812,\n        1813,\n        1814,\n        1815,\n        1816,\n    ]\n\n    count = len(load_nodes)\n    zeros = np.zeros(count)\n\n    load_node_point = kwd.LoadNodePoint(\n        nodes=pd.DataFrame(\n            {\n                \"nid\": load_nodes,\n                \"dof\": np.full((count), 3),\n                \"lcid\": np.full((count), 1),\n                \"sf\": np.full((count), -13.1579),\n                \"cid\": zeros,\n                \"m1\": zeros,\n                \"m2\": zeros,\n                \"m3\": zeros,\n            }\n        )\n    )\n\n    deck.append(load_node_point)\n\n    nid = [\n        1,\n        31,\n        32,\n        33,\n        34,\n        35,\n        36,\n        37,\n        38,\n        39,\n        40,\n        41,\n        42,\n        43,\n        44,\n        45,\n        46,\n        47,\n        48,\n        49,\n        50,\n        80,\n        81,\n        82,\n        83,\n        84,\n        85,\n        86,\n        87,\n        88,\n        89,\n        90,\n        91,\n        92,\n        93,\n        94,\n        95,\n        96,\n        97,\n        98,\n        621,\n        651,\n        652,\n        653,\n        654,\n        655,\n        656,\n        657,\n        658,\n        659,\n        660,\n        661,\n        662,\n        663,\n        664,\n        665,\n        666,\n        667,\n        668,\n        669,\n        670,\n        671,\n        672,\n        673,\n        674,\n        675,\n        676,\n        677,\n        678,\n        679,\n        680,\n        681,\n        682,\n        683,\n        684,\n        685,\n        686,\n        687,\n        1210,\n        1211,\n        1212,\n        1213,\n        1214,\n        1215,\n        1216,\n        1217,\n        1218,\n        1219,\n        1220,\n        1221,\n        1222,\n        1223,\n        1224,\n        1225,\n        1226,\n        1227,\n        1228,\n        1229,\n        1230,\n        1231,\n        1232,\n        1233,\n        1234,\n        1235,\n        1236,\n        1237,\n        1238,\n        1239,\n        1240,\n        1241,\n        1242,\n        1243,\n        1244,\n        1245,\n        1246,\n        1247,\n        1799,\n        1800,\n        1801,\n        1802,\n        1803,\n        1804,\n        1805,\n        1806,\n        1807,\n        1808,\n        1809,\n        1810,\n        1811,\n        1812,\n        1813,\n        1814,\n        1815,\n        1816,\n        1817,\n        1818,\n        1819,\n        1820,\n        1821,\n        1822,\n        1823,\n        1824,\n        1825,\n        1826,\n        1827,\n        1828,\n        1829,\n        1830,\n        1831,\n        1832,\n        1833,\n        1834,\n    ]\n\n    count = len(nid)\n    zeros = np.zeros(count)\n    ones = np.full((count), 1)\n\n    dofz = [\n        1,\n        0,\n        0,\n        0,\n        0,\n        0,\n        0,\n        0,\n        0,\n        0,\n        0,\n        0,\n        0,\n        0,\n        0,\n        0,\n        0,\n        0,\n        0,\n        0,\n        0,\n        1,\n        1,\n        1,\n        1,\n        1,\n        1,\n        1,\n        1,\n        1,\n        1,\n        1,\n        1,\n        1,\n        1,\n        1,\n        1,\n        1,\n        1,\n        1,\n        0,\n        1,\n        1,\n        1,\n        1,\n        1,\n        1,\n        1,\n        1,\n        1,\n        1,\n        1,\n        1,\n        1,\n        1,\n        1,\n        1,\n        1,\n        1,\n        1,\n        0,\n        0,\n        0,\n        0,\n        0,\n        0,\n        0,\n        0,\n        0,\n        0,\n        0,\n        0,\n        0,\n        0,\n        0,\n        0,\n        0,\n        0,\n        1,\n        1,\n        1,\n        1,\n        1,\n        1,\n        1,\n        1,\n        1,\n        1,\n        1,\n        1,\n        1,\n        1,\n        1,\n        1,\n        1,\n        1,\n        1,\n        0,\n        0,\n        0,\n        0,\n        0,\n        0,\n        0,\n        0,\n        0,\n        0,\n        0,\n        0,\n        0,\n        0,\n        0,\n        0,\n        0,\n        0,\n        0,\n        0,\n        0,\n        0,\n        0,\n        0,\n        0,\n        0,\n        0,\n        0,\n        0,\n        0,\n        0,\n        0,\n        0,\n        0,\n        0,\n        0,\n        0,\n        1,\n        1,\n        1,\n        1,\n        1,\n        1,\n        1,\n        1,\n        1,\n        1,\n        1,\n        1,\n        1,\n        1,\n        1,\n        1,\n        1,\n        1,\n    ]\n\n    boundary_spc_node = kwd.BoundarySpcNode(\n        nodes=pd.DataFrame(\n            {\n                \"nid\": nid,\n                \"cid\": zeros,\n                \"dofx\": ones,\n                \"dofy\": ones,\n                \"dofz\": dofz,\n                \"dofrx\": ones,\n                \"dofry\": ones,\n                \"dofrz\": ones,\n            }\n        )\n    )\n\n    deck.append(boundary_spc_node)\n\n    # Define nodes and elements\n    deck.append(kwd.Include(filename=mesh_file_name))\n\n    deck.export_file(filepath)\n    return deck\n\n\ndef run_post(filepath):\n    pass\n\n\nshutil.copy(mesh_file, os.path.join(rundir.name, mesh_file_name))\ndeck = write_deck(os.path.join(rundir.name, dynafile))"
      ]
    },
    {
      "cell_type": "markdown",
      "metadata": {},
      "source": [
        "# View the model\n\nYou can use the PyVista `plot` method in the `deck` class to view the\nmodel.\n"
      ]
    },
    {
      "cell_type": "code",
      "execution_count": null,
      "metadata": {
        "collapsed": false
      },
      "outputs": [],
      "source": [
        "deck.plot(cwd=rundir.name)"
      ]
    },
    {
      "cell_type": "markdown",
      "metadata": {},
      "source": [
        "# Run the Dyna solver\n"
      ]
    },
    {
      "cell_type": "code",
      "execution_count": null,
      "metadata": {
        "collapsed": false
      },
      "outputs": [],
      "source": [
        "try:\n    run_dyna(\n        dynafile,\n        working_directory=rundir.name,\n        ncpu=2,\n        mpi_option=MpiOption.MPP_INTEL_MPI,\n        memory=20,\n        memory_unit=MemoryUnit.MB,\n    )\nexcept subprocess.CalledProcessError:\n    # this example doesn't run to completion because it is a highly nonlinear buckling\n    pass\n\nrun_post(rundir.name)"
      ]
    }
  ],
  "metadata": {
    "kernelspec": {
      "display_name": "Python 3",
      "language": "python",
      "name": "python3"
    },
    "language_info": {
      "codemirror_mode": {
        "name": "ipython",
        "version": 3
      },
      "file_extension": ".py",
      "mimetype": "text/x-python",
      "name": "python",
      "nbconvert_exporter": "python",
      "pygments_lexer": "ipython3",
      "version": "3.13.7"
    }
  },
  "nbformat": 4,
  "nbformat_minor": 0
}