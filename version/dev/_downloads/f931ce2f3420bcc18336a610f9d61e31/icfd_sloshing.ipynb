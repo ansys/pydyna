{
  "cells": [
    {
      "cell_type": "markdown",
      "metadata": {},
      "source": [
        "# Sloshing\n\nThis example shows how to directly impose a displacement of the entire\nvolume mesh through the use of the `ICFD_CONTROL_IMPOSED_MOVE` keyword.\nThe executable file for LS-DYNA is\n`ls-dyna_smp_d_R13.0_365-gf8a97bda2a_winx64_ifort190.exe`.\n"
      ]
    },
    {
      "cell_type": "code",
      "execution_count": null,
      "metadata": {
        "collapsed": false
      },
      "outputs": [],
      "source": [
        "import os\nimport sys\n\nfrom ansys.dyna.core.pre import examples, launch_dynapre\nfrom ansys.dyna.core.pre.dynaicfd import (\n    Compressible,\n    Curve,\n    DynaICFD,\n    Gravity,\n    GravityOption,\n    ICFDAnalysis,\n    ICFDPart,\n    ICFDVolumePart,\n    MatICFD,\n    MeshedVolume,\n)\nfrom ansys.dyna.core.pre.misc import check_valid_ip\n\n\nhostname = \"localhost\"\nif len(sys.argv) > 1 and check_valid_ip(sys.argv[1]):\n    hostname = sys.argv[1]\n\nsolution = launch_dynapre(ip=hostname)\n# Import the initial mesh data(nodes and elements)\nfns = []\npath = examples.sloshing + os.sep\nfns.append(path + \"sloshing.k\")\nsolution.open_files(fns)\nsolution.set_termination(termination_time=1)\nicfd = DynaICFD()\nsolution.add(icfd)\n\nicfdanalysis = ICFDAnalysis()\nicfdanalysis.set_timestep(0.02)\nicfd.add(icfdanalysis)\n\n# define model\nmat1 = MatICFD(flow_density=1000, dynamic_viscosity=0.001)\nmat2 = MatICFD(flag=Compressible.VACUUM)\n\npart_bottom = ICFDPart(1)\npart_bottom.set_material(mat1)\npart_bottom.set_non_slip()\nicfd.parts.add(part_bottom)\n\npart_top = ICFDPart(2)\npart_top.set_material(mat2)\npart_top.set_non_slip()\nicfd.parts.add(part_top)\n\npart_mid = ICFDPart(3)\npart_mid.set_material(mat1)\nicfd.parts.add(part_mid)\n\ng = Gravity(dir=GravityOption.DIR_Z, load=Curve(x=[0, 10000], y=[9.81, 9.81]))\nicfd.add(g)\n\nicfd.set_imposed_move(vx=Curve(x=[0, 0.5, 0.52, 0.8, 0.82, 2.0], y=[1, 1, -1, -1, 0, 0]))\n\npartvol_bottom = ICFDVolumePart(surfaces=[1, 3])\npartvol_bottom.set_material(mat1)\nicfd.parts.add(partvol_bottom)\n\npartvol_top = ICFDVolumePart(surfaces=[2, 3])\npartvol_top.set_material(mat2)\nicfd.parts.add(partvol_top)\n# define the volume space that will be meshed,The boundaries\n# of the volume are the surfaces \"spids\"\nmeshvol = MeshedVolume(surfaces=[1, 2])\nmeshvol.set_fluid_interfaces([3])\nicfd.add(meshvol)\n\nsolution.create_database_binary(dt=0.02)\nsolution.save_file()"
      ]
    }
  ],
  "metadata": {
    "kernelspec": {
      "display_name": "Python 3",
      "language": "python",
      "name": "python3"
    },
    "language_info": {
      "codemirror_mode": {
        "name": "ipython",
        "version": 3
      },
      "file_extension": ".py",
      "mimetype": "text/x-python",
      "name": "python",
      "nbconvert_exporter": "python",
      "pygments_lexer": "ipython3",
      "version": "3.13.7"
    }
  },
  "nbformat": 4,
  "nbformat_minor": 0
}