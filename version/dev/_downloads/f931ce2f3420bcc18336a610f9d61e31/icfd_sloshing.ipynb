{
  "cells": [
    {
      "cell_type": "code",
      "execution_count": null,
      "metadata": {
        "collapsed": false
      },
      "outputs": [],
      "source": [
        "%matplotlib inline"
      ]
    },
    {
      "cell_type": "markdown",
      "metadata": {},
      "source": [
        "Sloshing\n========\n\nThis example shows how to directly impose a displacement of the entire\nvolume mesh through the use of the keyword ICFD\\_CONTROL\\_IMPOSED\\_MOVE.\n\nLS-DYNA version :\nls-dyna\\_smp\\_d\\_R13.0\\_365-gf8a97bda2a\\_winx64\\_ifort190.exe\n"
      ]
    },
    {
      "cell_type": "code",
      "execution_count": null,
      "metadata": {
        "collapsed": false
      },
      "outputs": [],
      "source": [
        "import os\nimport sys\n\n\nfrom ansys.dyna.core.pre.dynasolution import DynaSolution\nfrom ansys.dyna.core.pre.dynaicfd import (\n    DynaICFD,\n    MatICFD,\n    ICFDPart,\n    ICFDDOF,\n    Curve,\n    ICFDVolumePart,\n    MeshedVolume,\n    ICFDAnalysis,\n    Curve,\n    Gravity,\n    GravityOption,\n    Compressible\n    )\nfrom ansys.dyna.core.pre import examples\n\nhostname = \"localhost\"\nif len(sys.argv) > 1:\n    hostname = sys.argv[1]\n\nsolution = DynaSolution(hostname)\n# Import the initial mesh data(nodes and elements)\nfns = []\npath = examples.sloshing + os.sep\nfns.append(path + \"sloshing.k\")\nsolution.open_files(fns)\nsolution.set_termination(termination_time=1)\nicfd = DynaICFD()\nsolution.add(icfd)\n\nicfdanalysis = ICFDAnalysis()\nicfdanalysis.set_timestep(0.02)\nicfd.add(icfdanalysis)\n\n# define model\nmat1 = MatICFD(flow_density=1000, dynamic_viscosity=0.001)\nmat2 = MatICFD(flag=Compressible.VACUUM)\n\npart_bottom = ICFDPart(1)\npart_bottom.set_material(mat1)\npart_bottom.set_non_slip()\nicfd.parts.add(part_bottom)\n\npart_top = ICFDPart(2)\npart_top.set_material(mat2)\npart_top.set_non_slip()\nicfd.parts.add(part_top)\n\npart_mid = ICFDPart(3)\npart_mid.set_material(mat1)\nicfd.parts.add(part_mid)\n\ng = Gravity(dir=GravityOption.DIR_Z, load=Curve(x=[0, 10000], y=[9.81, 9.81]))\nicfd.add(g)\n\nicfd.set_imposed_move(vx=Curve(x=[0, 0.5, 0.52, 0.8, 0.82, 2.0], y=[1, 1, -1, -1, 0, 0]))\n\npartvol_bottom = ICFDVolumePart(surfaces=[1, 3])\npartvol_bottom.set_material(mat1)\nicfd.parts.add(partvol_bottom)\n\npartvol_top = ICFDVolumePart(surfaces=[2, 3])\npartvol_top.set_material(mat2)\nicfd.parts.add(partvol_top)\n# define the volume space that will be meshed,The boundaries\n# of the volume are the surfaces \"spids\"\nmeshvol = MeshedVolume(surfaces=[1, 2])\nmeshvol.set_fluid_interfaces([3])\nicfd.add(meshvol)\n\nsolution.create_database_binary(dt=0.02)\nsolution.save_file()"
      ]
    }
  ],
  "metadata": {
    "kernelspec": {
      "display_name": "Python 3",
      "language": "python",
      "name": "python3"
    },
    "language_info": {
      "codemirror_mode": {
        "name": "ipython",
        "version": 3
      },
      "file_extension": ".py",
      "mimetype": "text/x-python",
      "name": "python",
      "nbconvert_exporter": "python",
      "pygments_lexer": "ipython3",
      "version": "3.9.16"
    }
  },
  "nbformat": 4,
  "nbformat_minor": 0
}