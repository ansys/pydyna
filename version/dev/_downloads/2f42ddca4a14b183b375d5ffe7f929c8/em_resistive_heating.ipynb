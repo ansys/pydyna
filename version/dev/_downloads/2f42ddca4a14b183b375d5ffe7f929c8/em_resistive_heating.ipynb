{
  "cells": [
    {
      "cell_type": "code",
      "execution_count": null,
      "metadata": {
        "collapsed": false
      },
      "outputs": [],
      "source": [
        "%matplotlib inline"
      ]
    },
    {
      "cell_type": "markdown",
      "metadata": {},
      "source": [
        "Resistive heating\n=================\n\nThis example introduces the user to the minimum number of keywords\nrequired to turn on the EM resistive heating solver.\n\nLS-DYNA version :\nls-dyna\\_smp\\_d\\_R13.1\\_138-g8429c8a10f\\_winx64\\_ifort190.exe\n"
      ]
    },
    {
      "cell_type": "code",
      "execution_count": null,
      "metadata": {
        "collapsed": false
      },
      "outputs": [],
      "source": [
        "import os\nimport sys\n\nfrom ansys.dyna.core.pre.dynasolution import DynaSolution\nfrom ansys.dyna.core.pre.dynaem import (\n    DynaEM,\n    NodeSet,\n    Curve,\n    SolidPart,\n    SolidFormulation,\n    FEMSOLVER,\n    ThermalAnalysis,\n    ThermalAnalysisType,\n    EMType\n)\nfrom ansys.dyna.core.pre.dynamaterial import MatElastic,MatThermalIsotropic,EMMATTYPE,EMEOSTabulated1\nfrom em_set_data import *\nfrom ansys.dyna.core.pre import examples\n\nhostname = \"localhost\"\nif len(sys.argv) > 1:\n    hostname = sys.argv[1]\n\nsolution = DynaSolution(hostname)\nfns = []\npath = examples.em_resistive_heating + os.sep\nfns.append(path + \"em_resistive_heating.k\")\nsolution.open_files(fns)\nsolution.set_termination(termination_time=20)\nsolution.create_database_binary(dt=0.1)\n\nemobj = DynaEM()\nsolution.add(emobj)\n\nemobj.set_timestep(timestep_size_for_mass_scaled=0.01,max_timestep=Curve(x=[0,9.9999997474e-5],y=[0.01,0.01]))\n\nemobj.analysis.set_timestep(timestep=0.01)\nemobj.analysis.set_em_solver(type=EMType.RESISTIVE_HEATING)\nemobj.analysis.set_solver_fem(solver=FEMSOLVER.DIRECT_SOLVER, relative_tol=1e-3)\n\ntanalysis = ThermalAnalysis()\ntanalysis.set_timestep(initial_timestep=0.05)\ntanalysis.set_solver(analysis_type=ThermalAnalysisType.TRANSIENT)\nemobj.add(tanalysis)\n\nmatelastic1 = MatElastic(mass_density=8000, young_modulus=1e11, poisson_ratio=0.33)\nmatelastic2 = MatElastic(mass_density=7000, young_modulus=1e11, poisson_ratio=0.33)\nmatelastic1.set_electromagnetic_property(material_type=EMMATTYPE.CONDUCTOR, initial_conductivity=6e7)\nmatelastic2.set_electromagnetic_property(material_type=EMMATTYPE.CONDUCTOR, initial_conductivity=4e6,eos=EMEOSTabulated1(Curve(x=[0, 25, 50, 100], y=[4e6, 4e6, 4e5, 4e5])))\n\nmatthermaliso1 = MatThermalIsotropic(density=8000,specific_heat=400, conductivity=400)\nmatthermaliso2 = MatThermalIsotropic(density=7000,specific_heat=450, conductivity=40)\n\npart2 = SolidPart(2)\npart2.set_material(matelastic1,matthermaliso1)\npart2.set_element_formulation(SolidFormulation.CONSTANT_STRESS_SOLID_ELEMENT)\nemobj.parts.add(part2)\n\npart3 = SolidPart(3)\npart3.set_material(matelastic1,matthermaliso1)\npart3.set_element_formulation(SolidFormulation.CONSTANT_STRESS_SOLID_ELEMENT)\nemobj.parts.add(part3)\n\npart1 = SolidPart(1)\npart1.set_material(matelastic2,matthermaliso2)\npart1.set_element_formulation(SolidFormulation.CONSTANT_STRESS_SOLID_ELEMENT)\nemobj.parts.add(part1)\n\nemobj.boundaryconditions.create_temperature(NodeSet(resistive_heating_tmp), scalefactor=50)\nemobj.set_init_temperature(temp=25)\n\nemobj.create_em_output(mats=2, matf=2, sols=2, solf=2)\n\nsolution.save_file()"
      ]
    }
  ],
  "metadata": {
    "kernelspec": {
      "display_name": "Python 3",
      "language": "python",
      "name": "python3"
    },
    "language_info": {
      "codemirror_mode": {
        "name": "ipython",
        "version": 3
      },
      "file_extension": ".py",
      "mimetype": "text/x-python",
      "name": "python",
      "nbconvert_exporter": "python",
      "pygments_lexer": "ipython3",
      "version": "3.9.16"
    }
  },
  "nbformat": 4,
  "nbformat_minor": 0
}