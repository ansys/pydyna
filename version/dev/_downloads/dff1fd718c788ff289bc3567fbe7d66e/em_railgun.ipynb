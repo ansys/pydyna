{
  "cells": [
    {
      "cell_type": "code",
      "execution_count": null,
      "metadata": {
        "collapsed": false
      },
      "outputs": [],
      "source": [
        "%matplotlib inline"
      ]
    },
    {
      "cell_type": "markdown",
      "metadata": {},
      "source": [
        "Railgun example\n===============\n\nThis example demonstrates how to create an EM Railgun input deck.\n\nLS-DYNA version :\nls-dyna\\_smp\\_d\\_R13.0\\_365-gf8a97bda2a\\_winx64\\_ifort190.exe\n"
      ]
    },
    {
      "cell_type": "code",
      "execution_count": null,
      "metadata": {
        "collapsed": false
      },
      "outputs": [],
      "source": [
        "import os\nimport sys\n\nfrom ansys.dyna.core.pre.dynasolution import DynaSolution\nfrom ansys.dyna.core.pre.dynaem import (\n    DynaEM,\n    Circuit,\n    CircuitType,\n    SegmentSet,\n    NodeSet,\n    Curve,\n    SolidPart,\n    SolidFormulation,\n    EMContact,\n    BEMSOLVER,\n    FEMSOLVER,\n)\nfrom ansys.dyna.core.pre.dynamaterial import MatElastic, MatRigid, EMMATTYPE\nfrom em_railgun_data import *\nfrom ansys.dyna.core.pre import examples\n\nhostname = \"localhost\"\nif len(sys.argv) > 1:\n    hostname = sys.argv[1]\n\nsolution = DynaSolution(hostname)\nfns = []\npath = examples.em_railgun + os.sep\nfns.append(path + \"em_railgun.k\")\nsolution.open_files(fns)\nsolution.set_termination(termination_time=3e-4)\nsolution.create_database_binary(dt=5e-6)\n\nrailgun = DynaEM()\nsolution.add(railgun)\n\nrailgun.analysis.set_timestep(timestep=5e-6)\nrailgun.analysis.set_solver_bem(solver=BEMSOLVER.PCG)\nrailgun.analysis.set_solver_fem(solver=FEMSOLVER.DIRECT_SOLVER, relative_tol=1e-3)\n\ncircuit = Circuit(\n    circuit_type=CircuitType.IMPOSED_CURRENT_VS_TIME,\n    loadcurve=Curve(x=[0, 8e-5, 2e-4, 4e-4, 6e-4, 1e-3], y=[0, 350, 450, 310, 230, 125], sfo=2e6),\n)\ncircuit.set_current(\n    current=SegmentSet(cur), current_inlet=SegmentSet(inlet), current_outlet=SegmentSet(outlet)\n)\nrailgun.add(circuit)\n\nmatelastic = MatElastic(mass_density=2.64e-3, young_modulus=9.7e10, poisson_ratio=0.31)\nmatelastic.set_electromagnetic_property(material_type=EMMATTYPE.CONDUCTOR, initial_conductivity=25)\nmatrigid = MatRigid(\n    mass_density=2.64e-3,\n    young_modulus=9.7e10,\n    poisson_ratio=0.31,\n    center_of_mass_constraint=1,\n    translational_constraint=7,\n    rotational_constraint=7,\n)\nmatrigid.set_electromagnetic_property(material_type=EMMATTYPE.CONDUCTOR, initial_conductivity=25)\n\ncoil = SolidPart(1)\ncoil.set_material(matelastic)\ncoil.set_element_formulation(SolidFormulation.CONSTANT_STRESS_SOLID_ELEMENT)\nrailgun.parts.add(coil)\n\nworkpiece1 = SolidPart(2)\nworkpiece1.set_material(matrigid)\nworkpiece1.set_element_formulation(SolidFormulation.CONSTANT_STRESS_SOLID_ELEMENT)\nrailgun.parts.add(workpiece1)\n\nworkpiece2 = SolidPart(3)\nworkpiece2.set_material(matrigid)\nworkpiece2.set_element_formulation(SolidFormulation.CONSTANT_STRESS_SOLID_ELEMENT)\nrailgun.parts.add(workpiece2)\n\nrailgun.boundaryconditions.create_spc(NodeSet(spc1), tx=False, ty=False, rz=False, death=0)\nrailgun.boundaryconditions.create_spc(NodeSet(spc2), tx=False, ty=False, rz=False, death=0)\n\ncontact = EMContact()\nrailgun.contacts.add(contact)\n\nrailgun.set_rogowsky_coil_to_output_current(SegmentSet(cur))\nrailgun.create_em_database_globalenergy(outlv=1)\n\nrailgun.create_em_output(mats=2, matf=2, sols=2, solf=2)\n\nsolution.save_file()"
      ]
    }
  ],
  "metadata": {
    "kernelspec": {
      "display_name": "Python 3",
      "language": "python",
      "name": "python3"
    },
    "language_info": {
      "codemirror_mode": {
        "name": "ipython",
        "version": 3
      },
      "file_extension": ".py",
      "mimetype": "text/x-python",
      "name": "python",
      "nbconvert_exporter": "python",
      "pygments_lexer": "ipython3",
      "version": "3.9.16"
    }
  },
  "nbformat": 4,
  "nbformat_minor": 0
}