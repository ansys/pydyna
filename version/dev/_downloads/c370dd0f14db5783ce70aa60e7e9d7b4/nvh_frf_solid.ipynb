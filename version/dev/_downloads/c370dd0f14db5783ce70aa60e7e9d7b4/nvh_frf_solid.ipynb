{
  "cells": [
    {
      "cell_type": "markdown",
      "metadata": {},
      "source": [
        "# FRF for a colume model with a hole\n\nThis example shows a column with a hole using solid elements. The\nexecutable file for LS-DYNA is\n`ls-dyna_smp_d_R13.1_138-g8429c8a10f_winx64_ifort190.exe`.\n"
      ]
    },
    {
      "cell_type": "code",
      "execution_count": null,
      "metadata": {
        "collapsed": false
      },
      "outputs": [],
      "source": [
        "import os\nimport sys\n\nfrom ansys.dyna.core.pre import examples, launch_dynapre\nfrom ansys.dyna.core.pre.dynamaterial import MatPiecewiseLinearPlasticity\nfrom ansys.dyna.core.pre.dynanvh import (\n    DynaNVH,\n    EnergyFlag,\n    ExcitationDOF,\n    ExcitationType,\n    FrequencyDomain,\n    NodeSet,\n    OutputEcho,\n    ResponseDOF,\n    ResponseType,\n    SolidFormulation,\n    SolidPart,\n)\nfrom ansys.dyna.core.pre.misc import check_valid_ip\n\n\nhostname = \"localhost\"\nif len(sys.argv) > 1 and check_valid_ip(sys.argv[1]):\n    hostname = sys.argv[1]\nsolution = launch_dynapre(ip=hostname)\nfns = []\npath = examples.nvh_frf_solid + os.sep\nfns.append(path + \"frf_solid.k\")\nsolution.open_files(fns)\nsolution.set_termination(termination_time=1)\n\nnvhobj = DynaNVH()\nsolution.add(nvhobj)\n\nnvhobj.set_energy(hourglass_energy=EnergyFlag.COMPUTED)\nnvhobj.set_output(print_suppression_d3hsp=True, print_suppression_echo=OutputEcho.SUPPRESSED_NODAL_AND_ELEMENT_PRINTING)\n\nnvhobj.implicitanalysis.set_initial_timestep_size(1.0)\nnvhobj.implicitanalysis.set_eigenvalue(number_eigenvalues=100)\nnvhobj.implicitanalysis.set_solution(solution_method=1)\n\nfd = FrequencyDomain()\n\noutputset = [\n    290,\n    292,\n    294,\n    296,\n    298,\n    300,\n    302,\n    304,\n    306,\n    380,\n    382,\n    384,\n    386,\n    388,\n    390,\n    482,\n    484,\n    486,\n    488,\n    490,\n    492,\n    578,\n    580,\n    582,\n    638,\n    640,\n    706,\n    708,\n]\nfd.set_frequency_response_function(\n    excitation_input_dof=ExcitationDOF.X,\n    excitation_input_type=ExcitationType.BASE_ACCELERATION,\n    max_natural_frequency=20,\n    modal_damping_coefficient=0.01,\n    response_output_set=NodeSet(outputset),\n    response_output_dof=ResponseDOF.X,\n    response_output_type=ResponseType.BASE_ACCELERATION,\n    frf_output_min_frequency=0.01,\n    frf_output_max_frequency=10,\n    frf_output_num_frequency=1000,\n)\nnvhobj.add(fd)\n\nplastic1 = MatPiecewiseLinearPlasticity(\n    mass_density=4.99e-07, young_modulus=11.37, poisson_ratio=0.32, yield_stress=0.0468\n)\nplastic2 = MatPiecewiseLinearPlasticity(\n    mass_density=4.99e-07, young_modulus=110.37, poisson_ratio=0.32, yield_stress=0.0468\n)\n\nlower = SolidPart(4)\nlower.set_material(plastic1)\nlower.set_element_formulation(SolidFormulation.IMPLICIT_9_POINT_ENHANCED_STRAIN)\nnvhobj.parts.add(lower)\n\nupper = SolidPart(5)\nupper.set_material(plastic2)\nupper.set_element_formulation(SolidFormulation.IMPLICIT_9_POINT_ENHANCED_STRAIN)\nnvhobj.parts.add(upper)\n\nspc = [\n    163,\n    166,\n    169,\n    172,\n    175,\n    178,\n    181,\n    184,\n    187,\n    307,\n    310,\n    313,\n    316,\n    319,\n    322,\n    391,\n    394,\n    397,\n    400,\n    403,\n    406,\n    493,\n    496,\n    499,\n    589,\n    592,\n    645,\n    648,\n]\nnvhobj.boundaryconditions.create_spc(NodeSet(spc))\n\nsolution.create_database_binary(dt=0.1)\nsolution.set_output_database(\n    glstat=0.1,\n    matsum=0.1,\n)\nsolution.save_file()"
      ]
    }
  ],
  "metadata": {
    "kernelspec": {
      "display_name": "Python 3",
      "language": "python",
      "name": "python3"
    },
    "language_info": {
      "codemirror_mode": {
        "name": "ipython",
        "version": 3
      },
      "file_extension": ".py",
      "mimetype": "text/x-python",
      "name": "python",
      "nbconvert_exporter": "python",
      "pygments_lexer": "ipython3",
      "version": "3.13.7"
    }
  },
  "nbformat": 4,
  "nbformat_minor": 0
}