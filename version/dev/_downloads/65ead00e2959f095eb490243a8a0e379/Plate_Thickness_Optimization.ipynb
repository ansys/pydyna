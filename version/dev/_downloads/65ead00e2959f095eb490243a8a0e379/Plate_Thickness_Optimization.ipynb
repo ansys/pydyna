{
  "cells": [
    {
      "cell_type": "markdown",
      "metadata": {},
      "source": [
        "Plate Thickness Optimization \\-\\-\\-\\-\\-\\-\\-\\-\\-\\-\\-\\-\\-\\-\\-\\-\\--This\nexample shows how to use PyDyna to import a mesh, set up a plate\nthickness optimization analysis, run the analysis iteratively until a\ntarget displacement is reached,and then display the results of that\noptimization.\n"
      ]
    },
    {
      "cell_type": "markdown",
      "metadata": {},
      "source": [
        "# Perform required imports\n\nImport required packages, including those for the keywords, deck, and\nsolver.\n"
      ]
    },
    {
      "cell_type": "code",
      "execution_count": null,
      "metadata": {
        "collapsed": false
      },
      "outputs": [],
      "source": [
        "import os\nimport pathlib\nimport shutil\nimport tempfile\n\nimport ansys.dpf.core as dpf\nfrom ansys.dpf.core import operators as ops\nimport matplotlib.pyplot as plt\nimport pandas as pd\n\nfrom ansys.dyna.core import Deck\nfrom ansys.dyna.core import keywords as kwd\nfrom ansys.dyna.core.pre.examples.download_utilities import EXAMPLES_PATH, DownloadManager\n\n# from ansys.dyna.core.run.linux_runner import LinuxRunner\nfrom ansys.dyna.core.run.local_solver import run_dyna\nfrom ansys.dyna.core.run.options import MemoryUnit, MpiOption, Precision\n\n# from ansys.dyna.core.run.windows_runner import WindowsRunner\n\n\n\nworkdir = tempfile.TemporaryDirectory()\n\nmesh_file_name = \"bar_impact_mesh.k\"\n\nmesh_file = DownloadManager().download_file(\n    mesh_file_name, \"ls-dyna\", \"Bar_Impact\", destination=os.path.join(EXAMPLES_PATH, \"Bar_Impact\")\n)\n\n# If you'd like to insert your own path to a local mesh file you can do so by replacing the line\n# above with:\n# mesh_file = \"C:\\Path\\to\\file\\\\bar_impact_mesh.k\""
      ]
    },
    {
      "cell_type": "markdown",
      "metadata": {},
      "source": [
        "# Set analysis parameters\n\nDefine the number of iterations, thickness increment, target\ndisplacement, and initial velocity for the analysis\n"
      ]
    },
    {
      "cell_type": "code",
      "execution_count": null,
      "metadata": {
        "collapsed": false
      },
      "outputs": [],
      "source": [
        "max_iterations = 20\ninitial_thickness = 0.1\nthickness_increment = 0.05\ntarget_displacement = 1.0\ninitial_velocity = 275.0e2"
      ]
    },
    {
      "cell_type": "markdown",
      "metadata": {},
      "source": [
        "# Create a deck and keywords\n\nCreate a deck, which is the container for all the keywords. Then, create\nand append individual keywords to the deck.\n"
      ]
    },
    {
      "cell_type": "code",
      "execution_count": null,
      "metadata": {
        "collapsed": false
      },
      "outputs": [],
      "source": [
        "def create_input_deck(thickness):\n    deck = Deck()\n    deck.title = \"Bar Thickness - %.4s\" % thickness\n\n    # Define bar material\n    mat_1 = kwd.Mat003(mid=1)\n    mat_1.ro = 7.85000e-9\n    mat_1.e = 150000.0\n    mat_1.pr = 0.34\n    mat_1.sigy = 390.0\n    mat_1.etan = 90.0\n\n    # Define bar section\n    sec_1 = kwd.SectionSolid(secid=1)\n    sec_1.elform = 1\n\n    # Define plate material\n    mat_2 = kwd.Mat003(mid=2)\n    mat_2.ro = 7.85000e-9\n    mat_2.e = 1500000.0\n    mat_2.pr = 0.34\n    mat_2.sigy = 3900.0\n    mat_2.etan = 900.0\n\n    # Define plate section\n    sec_2 = kwd.SectionShell(secid=2)\n    sec_2.elform = 2\n    sec_2.t1 = thickness\n    sec_2.t2 = thickness\n    sec_2.t3 = thickness\n    sec_2.t4 = thickness\n\n    # Define bar part\n    part_1 = kwd.Part()\n    part_1.parts = pd.DataFrame({\"pid\": [1], \"mid\": [mat_1.mid], \"secid\": [sec_1.secid]})\n\n    # Define plate part\n    part_2 = kwd.Part()\n    part_2.parts = pd.DataFrame({\"pid\": [2], \"mid\": [mat_2.mid], \"secid\": [sec_2.secid]})\n\n    # Define coordinate system\n    cs_1 = kwd.DefineCoordinateSystem(cid=1)\n    cs_1.xl = 1.0\n    cs_1.yp = 1.0\n\n    # Define initial velocity\n    init_vel = kwd.InitialVelocityGeneration()\n    init_vel.id = part_1.parts[\"pid\"][0]\n    init_vel.styp = 2\n    init_vel.vy = initial_velocity\n    init_vel.icid = cs_1.cid\n\n    # Define box for node set\n    box_1 = kwd.DefineBox(boxid=1, xmn=-500, xmx=500, ymn=39.0, ymx=40.1, zmn=-500, zmx=500)\n\n    # Create node set\n    set_node_1 = kwd.SetNodeGeneral()\n    set_node_1.sid = 1\n    set_node_1.option = \"BOX\"\n    set_node_1.e1 = box_1.boxid\n\n    # Define boxes for boundary conditions\n    box_plate_zN = kwd.DefineBox(boxid=2, xmn=-0.1, xmx=10.1, ymn=41.0, ymx=43.0, zmn=-10.1, zmx=-9.9)\n    box_plate_zP = kwd.DefineBox(boxid=3, xmn=0.1, xmx=9.9, ymn=41.0, ymx=43.0, zmn=-0.1, zmx=0.1)\n    box_plate_xP = kwd.DefineBox(boxid=4, xmn=9.9, xmx=10.1, ymn=41.0, ymx=43.0, zmn=-10.1, zmx=0.1)\n    box_plate_xN = kwd.DefineBox(boxid=5, xmn=-0.1, xmx=0.1, ymn=41.0, ymx=43.0, zmn=-9.9, zmx=-0.1)\n\n    # Create node set for fixed BC\n    set_node_Fixed = kwd.SetNodeGeneral()\n    set_node_Fixed.sid = 2\n    set_node_Fixed.option = \"BOX\"\n    set_node_Fixed.e1 = box_plate_zN.boxid\n    set_node_Fixed.e2 = box_plate_xP.boxid\n\n    # Define fixed Boundary Conditions\n    fixed_bc = kwd.BoundarySpcSet(dofx=1, dofy=1, dofz=1, dofrx=1, dofry=1, dofrz=1)\n    fixed_bc.nsid = set_node_Fixed.sid\n\n    # Create node set for symmetric BC normal to Z Axis\n    set_node_zNormal = kwd.SetNodeGeneral()\n    set_node_zNormal.sid = 3\n    set_node_zNormal.option = \"BOX\"\n    set_node_zNormal.e1 = box_plate_zP.boxid\n\n    # Define zNormal Boundary Conditions\n    zNormal_bc = kwd.BoundarySpcSet(dofx=0, dofy=0, dofz=1, dofrx=1, dofry=1, dofrz=0)\n    zNormal_bc.nsid = set_node_zNormal.sid\n\n    # Create node set for symmetric BC normal to X Axis\n    set_node_xNormal = kwd.SetNodeGeneral()\n    set_node_xNormal.sid = 4\n    set_node_xNormal.option = \"BOX\"\n    set_node_xNormal.e1 = box_plate_xN.boxid\n\n    # Define xNormal Boundary Conditions\n    xNormal_bc = kwd.BoundarySpcSet(dofx=1, dofy=0, dofz=0, dofrx=0, dofry=1, dofrz=1)\n    xNormal_bc.nsid = set_node_xNormal.sid\n\n    # Define box for node set of plate\n    box_plate = kwd.DefineBox(boxid=6, xmn=-1, xmx=11, ymn=39.0, ymx=40.1, zmn=-11, zmx=1)\n\n    # Create node set for plate\n    set_node_plate = kwd.SetNodeGeneral()\n    set_node_plate.sid = 5\n    set_node_plate.option = \"BOX\"\n    set_node_plate.e1 = box_plate.boxid\n\n    # Define contact\n    contact = kwd.ContactAutomaticSingleSurface(surfa=0)\n    contact.fs = 0.3\n\n    # Define control termination\n    control_term = kwd.ControlTermination(endtim=2.00000e-4, dtmin=0.001)\n\n    # Define database cards\n    deck_dt_out = 8.00000e-8\n    deck_glstat = kwd.DatabaseGlstat(dt=deck_dt_out, binary=3)\n    deck_matsum = kwd.DatabaseMatsum(dt=deck_dt_out, binary=3)\n    deck_nodout = kwd.DatabaseNodout(dt=deck_dt_out, binary=3)\n    deck_elout = kwd.DatabaseElout(dt=deck_dt_out, binary=3)\n    deck_rwforc = kwd.DatabaseRwforc(dt=deck_dt_out, binary=3)\n    deck_d3plot = kwd.DatabaseBinaryD3Plot(dt=4.00000e-6)\n\n    # Define deck history node\n    deck_hist_node_1 = kwd.DatabaseHistoryNodeSet()\n    deck_hist_node_1.id1 = set_node_1.sid\n\n    # Append all cards to input deck\n    deck.extend(\n        [\n            deck_glstat,\n            deck_matsum,\n            deck_nodout,\n            deck_elout,\n            deck_rwforc,\n            deck_d3plot,\n            set_node_1,\n            control_term,\n            contact,\n            box_1,\n            box_plate_zN,\n            box_plate_zP,\n            box_plate_xP,\n            box_plate_xN,\n            box_plate,\n            set_node_Fixed,\n            set_node_zNormal,\n            set_node_xNormal,\n            set_node_plate,\n            fixed_bc,\n            zNormal_bc,\n            xNormal_bc,\n            init_vel,\n            cs_1,\n            part_1,\n            mat_1,\n            sec_1,\n            part_2,\n            mat_2,\n            sec_2,\n            deck_hist_node_1,\n        ]\n    )\n\n    return deck\n\n\ndef write_input_deck(**kwargs):\n    thickness = kwargs.get(\"thickness\")\n    wd = kwargs.get(\"wd\")\n    if not all((thickness, wd)):\n        raise Exception(\"Missing input!\")\n    deck = create_input_deck(thickness)\n    # Import mesh\n    deck.append(kwd.Include(filename=mesh_file_name))\n\n    # Write LS-DYNA input deck\n    os.makedirs(wd, exist_ok=True)\n    deck.export_file(os.path.join(wd, \"input.k\"))\n    shutil.copyfile(mesh_file, os.path.join(wd, mesh_file_name))"
      ]
    },
    {
      "cell_type": "markdown",
      "metadata": {},
      "source": [
        "# Define the Dyna solver function\n"
      ]
    },
    {
      "cell_type": "code",
      "execution_count": null,
      "metadata": {
        "collapsed": false
      },
      "outputs": [],
      "source": [
        "def run_job(directory):\n    run_dyna(\n        \"input.k\",\n        working_directory=directory,\n        ncpu=2,\n        memory=2,\n        precision=Precision.SINGLE,\n        mpi_option=MpiOption.MPP_INTEL_MPI,\n        memory_unit=MemoryUnit.MB,\n    )\n    assert os.path.isfile(os.path.join(directory, \"d3plot\")), \"No result file found\""
      ]
    },
    {
      "cell_type": "markdown",
      "metadata": {},
      "source": [
        "# Define the DPF output function\n"
      ]
    },
    {
      "cell_type": "code",
      "execution_count": null,
      "metadata": {
        "collapsed": false
      },
      "outputs": [],
      "source": [
        "def get_plate_displacement(directory):\n    ds = dpf.DataSources()\n    result_file = os.path.join(directory, \"d3plot\")\n    assert os.path.isfile(result_file)\n    ds.set_result_file_path(result_file, \"d3plot\")\n    model = dpf.Model(ds)\n\n    # Create mesh operator\n    mes_op = dpf.operators.mesh.mesh_provider()\n    mes_op.inputs.data_sources.connect(ds)\n    # Isolate Part 2\n    mes_op.connect(25, [2])\n    # Extract mesh\n    part_mesh = mes_op.outputs.mesh()\n\n    # Create scoping operator from mesh using from_mesh scoping operator\n    part_mesh_op = dpf.operators.scoping.from_mesh()\n    part_mesh_op.inputs.mesh.connect(part_mesh)\n    part_scoping = part_mesh_op.outputs.scoping()\n\n    # create displacement entity, apply part scoping\n    disp = model.results.displacement\n    disp.on_mesh_scoping(part_scoping)\n\n    disp_op = disp.on_all_time_freqs()\n\n    # Find min and max displacement\n    min_max_op = ops.min_max.min_max_fc(ops.math.norm_fc(disp_op))\n\n    min_displ = min_max_op.outputs.field_min()\n    max_displ = min_max_op.outputs.field_max()\n\n    max_disp_data = max_displ.data\n    min_disp_data = min_displ.data\n\n    tdata = model.metadata.time_freq_support.time_frequencies.data\n\n    return tdata, max_disp_data, min_disp_data"
      ]
    },
    {
      "cell_type": "markdown",
      "metadata": {},
      "source": [
        "Run solver iteratively until target displacement is reached\n\\~\\~\\~\\~\\~\\~\\~\\~\\~\\~\\~\\~\\~\\~\\~\\~\\~\\~\\~\\~\\~\\~\n"
      ]
    },
    {
      "cell_type": "code",
      "execution_count": null,
      "metadata": {
        "collapsed": false
      },
      "outputs": [],
      "source": [
        "all_results = []\n\nfor iteration in range(max_iterations):\n    # Define thickness for this iteration\n    thickness = initial_thickness + thickness_increment * iteration\n    wd = os.path.join(workdir.name, f\"thickness_{thickness:.4f}\")\n    pathlib.Path(wd).mkdir(exist_ok=True)\n    # Create LS-Dyna input deck with new thickness\n    write_input_deck(thickness=thickness, wd=wd)\n    try:\n        # Run solver\n        run_job(wd)\n        # Post-process displacement\n        time_data, max_disp_data, min_disp_data = get_plate_displacement(wd)\n        reduced_time_data = [t * 1000 for t in time_data]  # Convert to ms\n        # Store result\n        all_results.append({\"thickness\": thickness, \"time\": reduced_time_data, \"max_disp\": max_disp_data})\n        # Check if target displacement is reached\n        if max(max_disp_data) <= target_displacement:\n            print(f\"Target displacement reached at thickness {thickness:.4f}\")\n            break\n\n    except Exception as e:\n        print(f\"Iteration {iteration} failed:\", e)"
      ]
    },
    {
      "cell_type": "markdown",
      "metadata": {},
      "source": [
        "# Generate graphical output\n"
      ]
    },
    {
      "cell_type": "code",
      "execution_count": null,
      "metadata": {
        "collapsed": false
      },
      "outputs": [],
      "source": [
        "# Now plot all results\nplt.figure(figsize=(8, 5))\nfor res in all_results:\n    thickness = res[\"thickness\"]\n    time_data = res[\"time\"]\n    max_disp_data = res[\"max_disp\"]\n    color = \"r\" if max(max_disp_data) <= target_displacement else \"b\"\n    label = f\"Thickness {thickness:.4f}\"\n    plt.plot(time_data, max_disp_data, color=color, label=label)\nplt.xlabel(\"Time (ms)\")\nplt.ylabel(\"Displacement (mm)\")\nplt.title(\"Plate Displacement vs Time for Different Thicknesses\")\nplt.grid(True)\nplt.show()"
      ]
    }
  ],
  "metadata": {
    "kernelspec": {
      "display_name": "Python 3",
      "language": "python",
      "name": "python3"
    },
    "language_info": {
      "codemirror_mode": {
        "name": "ipython",
        "version": 3
      },
      "file_extension": ".py",
      "mimetype": "text/x-python",
      "name": "python",
      "nbconvert_exporter": "python",
      "pygments_lexer": "ipython3",
      "version": "3.13.7"
    }
  },
  "nbformat": 4,
  "nbformat_minor": 0
}