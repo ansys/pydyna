{
  "cells": [
    {
      "cell_type": "markdown",
      "metadata": {},
      "source": [
        "# Rigid test\n\nThis example shows how to use the PyDYNA `pre` service to create an ISPH\nmodel. The executable file for LS-DYNA is\n`ls-dyna_mpp_d_R13.0_365-gf8a97bda2a_winx64_ifort190_msmpi.exe`.\n"
      ]
    },
    {
      "cell_type": "code",
      "execution_count": null,
      "metadata": {
        "collapsed": false
      },
      "outputs": [],
      "source": [
        "import os\nimport sys\n\nfrom ansys.dyna.core.pre import examples, launch_dynapre\nfrom ansys.dyna.core.pre.dynaisph import (\n    DOF,\n    Box,\n    Curve,\n    DynaISPH,\n    Gravity,\n    GravityOption,\n    ISPHFluidPart,\n    ISPHStructPart,\n    Motion,\n    PartSet,\n    Point,\n    ShellFormulation,\n    ShellPart,\n)\nfrom ansys.dyna.core.pre.dynamaterial import MatRigid, MatSPHIncompressibleFluid, MatSPHIncompressibleStructure\nfrom ansys.dyna.core.pre.misc import check_valid_ip\n\n\nhostname = \"localhost\"\nif len(sys.argv) > 1 and check_valid_ip(sys.argv[1]):\n    hostname = sys.argv[1]\nisphsolution = launch_dynapre(ip=hostname)\nfns = []\npath = examples.isph_rigidtest + os.sep\nfns.append(path + \"rigidtest.k\")\nisphsolution.open_files(fns)\n\nisphsolution.set_termination(0.5)\n\nisphobj = DynaISPH()\nisphsolution.add(isphobj)\n\nisphobj.set_timestep(tssfac=1, max_timestep=Curve(x=[0, 0.04, 0.05, 0.1, 100], y=[0.5, 0.5, 1, 1, 1]))\nisphobj.isphanalysis.set_box(Box(-750, 800, -800, 800, -100, 3000))\n\nplatemat1 = MatRigid(\n    mass_density=1e-9,\n    young_modulus=10,\n    center_of_mass_constraint=1,\n    translational_constraint=5,\n    rotational_constraint=4,\n)\nplatemat2 = MatRigid(\n    mass_density=1e-9,\n    young_modulus=10,\n    center_of_mass_constraint=1,\n    translational_constraint=7,\n    rotational_constraint=7,\n)\n# platemat3 = MatRigid(mass_density=1e-9,young_modulus=10)\n# matelastic = MatElastic(mass_density=1e-9,young_modulus=1)\nmatsphfluid = MatSPHIncompressibleFluid(\n    mass_density=1e-9, dynamic_viscosity=1e-9, tension_coefficient1=1e6, tension_coefficient2=1000\n)\nmatsphstruct = MatSPHIncompressibleStructure(mass_density=1e-9)\n\nsensorplane = ShellPart(1)\nsensorplane.set_material(platemat2)\nsensorplane.set_element_formulation(ShellFormulation.BELYTSCHKO_TSAY)\nsensorplane.set_thickness(0.1)\nisphobj.parts.add(sensorplane)\n\nmovingcube = ShellPart(7)\nmovingcube.set_material(platemat1)\nmovingcube.set_element_formulation(ShellFormulation.BELYTSCHKO_TSAY)\nmovingcube.set_thickness(0.1)\nisphobj.parts.add(movingcube)\n\nwallsmesh = ShellPart(8)\nwallsmesh.set_material(platemat2)\nwallsmesh.set_element_formulation(ShellFormulation.BELYTSCHKO_TSAY)\nwallsmesh.set_thickness(0.1)\nisphobj.parts.add(wallsmesh)\n\nsphwall = ISPHStructPart(4, PartSet([8]), 12)\nsphwall.set_material(matsphstruct)\nsphwall.set_smoothing_length(1, 1, 1, 12)\nisphobj.parts.add(sphwall)\n\nsphcube = ISPHStructPart(5, PartSet([7]), 12)\nsphcube.set_material(matsphstruct)\nsphcube.set_smoothing_length(1, 1, 1, 12)\nisphobj.parts.add(sphcube)\n\nsphwater = ISPHFluidPart(6, Point(-588, -588, 9), Point(1176, 1176, 204), 98, 98, 17)\nsphwater.set_material(matsphfluid)\nsphwater.set_smoothing_length(1, 1, 1, 12)\nsphwater.create_massflow_plane(PartSet([1]))\nisphobj.parts.add(sphwater)\n\n# Constraint\nisphobj.constraints.merge_two_rigid_bodies(7, 1)\n\n# Define boundary conddition\nisphobj.boundaryconditions.create_imposed_motion(\n    PartSet([7]),\n    Curve(x=[0, 0.1, 0.11, 20], y=[3000, 3000, 0, 0]),\n    dof=DOF.X_TRANSLATIONAL,\n    motion=Motion.VELOCITY,\n)\nisphobj.boundaryconditions.create_imposed_motion(\n    PartSet([7]),\n    Curve(x=[0, 0.1, 0.11, 20], y=[500, 500, 500, 500]),\n    dof=DOF.Z_ROTATIONAL,\n    motion=Motion.VELOCITY,\n    scalefactor=0.01,\n)\n\n# Load\ng = Gravity(dir=GravityOption.DIR_Z, load=Curve(x=[0, 100], y=[9810, 9810]))\nisphobj.add(g)\n\nisphsolution.set_output_database(glstat=0.001, sphmassflow=0.001)\nisphsolution.create_database_binary(dt=0.01)\nisphsolution.save_file()"
      ]
    }
  ],
  "metadata": {
    "kernelspec": {
      "display_name": "Python 3",
      "language": "python",
      "name": "python3"
    },
    "language_info": {
      "codemirror_mode": {
        "name": "ipython",
        "version": 3
      },
      "file_extension": ".py",
      "mimetype": "text/x-python",
      "name": "python",
      "nbconvert_exporter": "python",
      "pygments_lexer": "ipython3",
      "version": "3.13.7"
    }
  },
  "nbformat": 4,
  "nbformat_minor": 0
}