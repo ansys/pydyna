{
  "cells": [
    {
      "cell_type": "markdown",
      "metadata": {},
      "source": [
        "# Resistive heating 2D connect isopotential\n\nThis example shows how to use the `connect_isopotential()` method to\nconnect two parts. The executable file for LS-DYNA is\n`ls-dyna_smp_d_R13.1_138-g8429c8a10f_winx64_ifort190.exe`.\n"
      ]
    },
    {
      "cell_type": "code",
      "execution_count": null,
      "metadata": {
        "collapsed": false
      },
      "outputs": [],
      "source": [
        "import os\nimport sys\n\nfrom em_set_data import rogoseg\n\nfrom ansys.dyna.core.pre import examples, launch_dynapre\nfrom ansys.dyna.core.pre.dynaem import (\n    FEMSOLVER,\n    Curve,\n    DynaEM,\n    EMDimension,\n    EMType,\n    Isopotential,\n    Isopotential_ConnType,\n    NodeSet,\n    PartSet,\n    RogoCoil,\n    SegmentSet,\n    ShellFormulation,\n    ShellPart,\n    ThermalAnalysis,\n    ThermalAnalysisType,\n)\nfrom ansys.dyna.core.pre.dynamaterial import EMMATTYPE, MatRigid, MatThermalIsotropic\nfrom ansys.dyna.core.pre.misc import check_valid_ip\n\n\nhostname = \"localhost\"\nif len(sys.argv) > 1 and check_valid_ip(sys.argv[1]):\n    hostname = sys.argv[1]\n\nsolution = launch_dynapre(ip=hostname)\nfns = []\npath = examples.em_resistive_heating_2d_isopots + os.sep\nfns.append(path + \"em_resistive_heating_2d_isopots.k\")\nsolution.open_files(fns)\nsolution.set_termination(termination_time=0.0101)\nsolution.create_database_binary(dt=1e-4)\n\nemobj = DynaEM()\nsolution.add(emobj)\n\nemobj.set_timestep(tssfac=1, timestep_size_for_mass_scaled=1e-4)\n\nemobj.analysis.set_timestep(timestep=1e-4)\nemobj.analysis.set_em_solver(type=EMType.RESISTIVE_HEATING, dimtype=EMDimension.PLANAR_2D)\nemobj.analysis.set_solver_fem(solver=FEMSOLVER.DIRECT_SOLVER, relative_tol=1e-3)\n\ntanalysis = ThermalAnalysis()\ntanalysis.set_timestep(initial_timestep=1e-4)\ntanalysis.set_solver(analysis_type=ThermalAnalysisType.TRANSIENT)\nemobj.add(tanalysis)\n\nmatrigid = MatRigid(mass_density=1, young_modulus=2e11)\nmatrigid.set_em_resistive_heating_2d(material_type=EMMATTYPE.CONDUCTOR, initial_conductivity=1e4)\n\nmatthermaliso = MatThermalIsotropic(density=100, specific_heat=10, conductivity=7)\n\npart = ShellPart(1)\npart.set_material(matrigid, matthermaliso)\npart.set_element_formulation(ShellFormulation.PLANE_STRESS)\nemobj.parts.add(part)\n\nemobj.boundaryconditions.create_imposed_motion(PartSet([1]), Curve(x=[0, 10], y=[10, 10]))\nemobj.set_init_temperature(temp=25)\n\nemobj.connect_isopotential(\n    contype=Isopotential_ConnType.VOLTAGE_SOURCE,\n    isopotential1=Isopotential(NodeSet([521, 517, 513, 509, 525])),\n    value=500,\n)\nemobj.connect_isopotential(\n    contype=Isopotential_ConnType.SHORT_CIRCUIT,\n    isopotential1=Isopotential(NodeSet([642, 652, 661, 670, 643])),\n    isopotential2=Isopotential(NodeSet([549, 548, 577, 597, 617])),\n    value=0.01,\n)\nemobj.connect_isopotential(\n    contype=Isopotential_ConnType.VOLTAGE_SOURCE, isopotential1=Isopotential(NodeSet([653, 644, 626, 627, 662]))\n)\nemobj.add(RogoCoil(SegmentSet(rogoseg)))\n\nemobj.create_em_output(mats=2, matf=2, sols=2, solf=2)\n\nsolution.save_file()"
      ]
    }
  ],
  "metadata": {
    "kernelspec": {
      "display_name": "Python 3",
      "language": "python",
      "name": "python3"
    },
    "language_info": {
      "codemirror_mode": {
        "name": "ipython",
        "version": 3
      },
      "file_extension": ".py",
      "mimetype": "text/x-python",
      "name": "python",
      "nbconvert_exporter": "python",
      "pygments_lexer": "ipython3",
      "version": "3.13.5"
    }
  },
  "nbformat": 4,
  "nbformat_minor": 0
}