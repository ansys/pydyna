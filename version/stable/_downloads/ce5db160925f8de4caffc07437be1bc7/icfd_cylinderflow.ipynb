{
  "cells": [
    {
      "cell_type": "code",
      "execution_count": null,
      "metadata": {
        "collapsed": false
      },
      "outputs": [],
      "source": [
        "%matplotlib inline"
      ]
    },
    {
      "cell_type": "markdown",
      "metadata": {},
      "source": [
        "Cylinder flow example\n=====================\n\nThis example demonstrates how to create a simple ICFD cylinder flow\ninput deck.\n\nLS-DYNA version :\nls-dyna\\_smp\\_d\\_R13.1\\_138-g8429c8a10f\\_winx64\\_ifort190.exe\n"
      ]
    },
    {
      "cell_type": "code",
      "execution_count": null,
      "metadata": {
        "collapsed": false
      },
      "outputs": [],
      "source": [
        "import os\nimport sys\n\n\nfrom ansys.dyna.core.pre.dynasolution import DynaSolution\nfrom ansys.dyna.core.pre.dynaicfd import (\n    DynaICFD,\n    ICFDAnalysis,\n    MatICFD,\n    ICFDPart,\n    ICFDDOF,\n    Curve,\n    ICFDVolumePart,\n    MeshedVolume,\n)\nfrom ansys.dyna.core.pre import examples\n\nhostname = \"localhost\"\nif len(sys.argv) > 1:\n    hostname = sys.argv[1]\n\nicfd_solution = DynaSolution(hostname)\n# Import the initial mesh data(nodes and elements)\nfns = []\npath = examples.cylinder_flow + os.sep\nfns.append(path + \"cylinder_flow.k\")\nicfd_solution.open_files(fns)\n# Set total time of simulation\nicfd_solution.set_termination(termination_time=100)\n\nicfd = DynaICFD()\nicfd_solution.add(icfd)\n\nicfdanalysis = ICFDAnalysis()\nicfdanalysis.set_timestep()\nicfd.add(icfdanalysis)\n\n# define model\nmat = MatICFD(flow_density=1.0, dynamic_viscosity=0.005)\n\npart_inflow = ICFDPart(1)\npart_inflow.set_material(mat)\npart_inflow.set_prescribed_velocity(dof=ICFDDOF.X, motion=Curve(x=[0, 10000], y=[1, 1]))\npart_inflow.set_prescribed_velocity(dof=ICFDDOF.Y, motion=Curve(x=[0, 10000], y=[0, 0]))\nicfd.parts.add(part_inflow)\n\npart_outflow = ICFDPart(2)\npart_outflow.set_material(mat)\npart_outflow.set_prescribed_pressure(pressure=Curve(x=[0, 10000], y=[0, 0]))\nicfd.parts.add(part_outflow)\n\npart_symmetric = ICFDPart(3)\npart_symmetric.set_material(mat)\npart_symmetric.set_free_slip()\nicfd.parts.add(part_symmetric)\n\npart_wall = ICFDPart(4)\npart_wall.set_material(mat)\npart_wall.set_non_slip()\npart_wall.compute_drag_force()\npart_wall.set_boundary_layer(number=3)\nicfd.parts.add(part_wall)\n\npartvol = ICFDVolumePart(surfaces=[1, 2, 3, 4])\npartvol.set_material(mat)\nicfd.parts.add(partvol)\n# define the volume space that will be meshed,The boundaries\n# of the volume are the surfaces \"spids\"\nmeshvol = MeshedVolume(surfaces=[1, 2, 3, 4])\nicfd.add(meshvol)\n\nicfd_solution.create_database_binary(dt=1)\nicfd_solution.save_file()"
      ]
    }
  ],
  "metadata": {
    "kernelspec": {
      "display_name": "Python 3",
      "language": "python",
      "name": "python3"
    },
    "language_info": {
      "codemirror_mode": {
        "name": "ipython",
        "version": 3
      },
      "file_extension": ".py",
      "mimetype": "text/x-python",
      "name": "python",
      "nbconvert_exporter": "python",
      "pygments_lexer": "ipython3",
      "version": "3.9.16"
    }
  },
  "nbformat": 4,
  "nbformat_minor": 0
}