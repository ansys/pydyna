{
  "cells": [
    {
      "cell_type": "markdown",
      "metadata": {},
      "source": [
        "# Belted dummy\n\nThis example shows how to use the PyDYNA `pre` service to create a\nbelted dummy model. The executable file for LS-DYNA is\n`ls-dyna_smp_d_R13.0_365-gf8a97bda2a_winx64_ifort190.exe`.\n"
      ]
    },
    {
      "cell_type": "markdown",
      "metadata": {},
      "source": [
        "# Perform required imports\n\nPerform the required imports.\n"
      ]
    },
    {
      "cell_type": "code",
      "execution_count": null,
      "metadata": {
        "collapsed": false
      },
      "outputs": [],
      "source": [
        "import os\nimport sys\n\nfrom belted_dummy_data import (\n    curvedata,\n    dampingconst,\n    elasticmats,\n    extra_nodes,\n    jointlist,\n    lcidlist,\n    motion_curve_x,\n    motion_curve_y,\n    motion_nodes,\n    nlist,\n    rigidmats,\n    segments,\n    shellsec,\n    vector,\n)\n\nfrom ansys.dyna.core.pre import examples, launch_dynapre\nfrom ansys.dyna.core.pre.dynamaterial import (\n    MatDamperNonlinearViscous,\n    MatDamperViscous,\n    MatElastic,\n    MatRigid,\n    MatSpringNonlinearElastic,\n)\nfrom ansys.dyna.core.pre.dynamech import (\n    DRO,\n    Contact,\n    ContactCategory,\n    ContactSurface,\n    Curve,\n    DiscretePart,\n    DynaMech,\n    Gravity,\n    GravityOption,\n    Motion,\n    NodeSet,\n    SegmentSet,\n    ShellFormulation,\n    ShellPart,\n    Velocity,\n)\nfrom ansys.dyna.core.pre.misc import check_valid_ip"
      ]
    },
    {
      "cell_type": "markdown",
      "metadata": {},
      "source": [
        "# Start the `pre` service\n\nBefore starting the `pre` service, you must ensure that the Docker\ncontainer for this service has been started. For more information, see\n\\\"Start the Docker container for the `pre` service\\\" in\n<https://dyna.docs.pyansys.com/version/stable/index.html>.\n\nThe `pre` service can also be started locally, please download the\nlatest version of ansys-pydyna-pre-server.zip package from\n<https://github.com/ansys/pydyna/releases> and start it referring to the\nREADME.rst file in this server package.\n\nOnce the `pre` service is running, you can connect a client to it using\nthe host name and port. This example uses the default localhost and port\n(`\"localhost\"` and `\"50051\"` respectively).\n"
      ]
    },
    {
      "cell_type": "code",
      "execution_count": null,
      "metadata": {
        "collapsed": false
      },
      "outputs": [],
      "source": [
        "hostname = \"localhost\"\nif len(sys.argv) > 1 and check_valid_ip(sys.argv[1]):\n    hostname = sys.argv[1]\ndummy_solution = launch_dynapre(ip=hostname)"
      ]
    },
    {
      "cell_type": "markdown",
      "metadata": {},
      "source": [
        "# Start the solution workflow\n\nNODES and ELEMENTS are read in from the `belted_dummy.k` file. This file\nalso has the *PART* defined in it, but the section and material fields\nare empty to begin with.\n"
      ]
    },
    {
      "cell_type": "code",
      "execution_count": null,
      "metadata": {
        "collapsed": false
      },
      "outputs": [],
      "source": [
        "fns = []\npath = examples.belted_dummy + os.sep\nfns.append(path + \"belted_dummy.k\")\ndummy_solution.open_files(fns)"
      ]
    },
    {
      "cell_type": "markdown",
      "metadata": {},
      "source": [
        "# Create database and control cards\n\nFor the D3plots, set simulation termination time, simulation timestep,\nand output frequency. Use the `set_init_velocity` method in the\n`dynamech` class to initialize the velocity components in the desired\ndirection.\n"
      ]
    },
    {
      "cell_type": "code",
      "execution_count": null,
      "metadata": {
        "collapsed": false
      },
      "outputs": [],
      "source": [
        "dummy_solution.set_termination(termination_time=0.12)\ndummy_solution.create_database_binary(dt=2.5e-3)\n\ndummy = DynaMech()\ndummy_solution.add(dummy)\n\ndummy.set_timestep(tssfac=0.8)\ndummy.set_init_velocity(Velocity(14.8, 0, 0))"
      ]
    },
    {
      "cell_type": "markdown",
      "metadata": {},
      "source": [
        "# Define materials\n\nIn this model, many parts share common material types. Thus, these\nmaterials are generated in a loop and a list of these materials are\ncreated. This list can then be used later to assign materials to parts.\nThe `dynamaterials` class are used to define these materials:\n`MAT_RIGID`, `MAT_ELASTIC`, `MAT_SPRING_NONLINEAR_ELASTIC,`\n`MAT_DAMPER_VISCOUS`, and `MAT_DAMPER_NONLINEAR_VISCOUS`.\n"
      ]
    },
    {
      "cell_type": "code",
      "execution_count": null,
      "metadata": {
        "collapsed": false
      },
      "outputs": [],
      "source": [
        "shellmatlist = []\nfor i in range(15):\n    matrigid = MatRigid(mass_density=rigidmats[i][0], young_modulus=rigidmats[i][1], poisson_ratio=0.3)\n    shellmatlist.append(matrigid)\n\nfor i in range(16, 23):\n    index = i - 16\n    matelastic = MatElastic(mass_density=elasticmats[index][0], young_modulus=elasticmats[index][1], poisson_ratio=0.3)\n    shellmatlist.append(matelastic)\n\ndiscmatlist = []\nfor i in range(101, 143):\n    index = i - 101\n    mat = MatSpringNonlinearElastic(curve=Curve(x=curvedata[index][0], y=curvedata[index][1]))\n    discmatlist.append(mat)\n\nfor i in range(143, 185):\n    index = i - 143\n    mat = MatDamperViscous(damping_constant=dampingconst[index])\n    discmatlist.append(mat)\n\nfor i in range(185, 209):\n    index = i - 185\n    mat = MatDamperNonlinearViscous(curve=Curve(x=curvedata[lcidlist[index]][0], y=curvedata[lcidlist[index]][1]))\n    discmatlist.append(mat)"
      ]
    },
    {
      "cell_type": "markdown",
      "metadata": {},
      "source": [
        "# Define section properties and assign materials\n\nNow that you have a list of materials with the material ID corresponding\nto the part ID, you can loop through the list and assign these materials\nto the parts. While in the loop, also define the section properties,\nelement formulations, and constraints.\n"
      ]
    },
    {
      "cell_type": "code",
      "execution_count": null,
      "metadata": {
        "collapsed": false
      },
      "outputs": [],
      "source": [
        "for i in range(1, 23):\n    part = ShellPart(i)\n    part.set_element_formulation(ShellFormulation.BELYTSCHKO_TSAY)\n    part.set_material(shellmatlist[i - 1])\n    part.set_thickness(shellsec[i - 1][0])\n    part.set_integration_points(shellsec[i - 1][1])\n    if i in range(1, 16):\n        part.set_extra_nodes(NodeSet(extra_nodes[i - 1]))\n    dummy.parts.add(part)\n\nfor i in range(101, 209):\n    index = i - 101\n    part = DiscretePart(i)\n    part.set_material(discmatlist[index])\n    part.set_displacement_option(displacement_option=DRO.DESCRIBES_TORSIONAL_SPRING)\n    dummy.parts.add(part)"
      ]
    },
    {
      "cell_type": "markdown",
      "metadata": {},
      "source": [
        "# Define surface-to-surface contacts\n\nDefine several surface-to-surface contacts between predefined segment\nset pairs such that each contact has a specific friction defined between\nthe master and slave.\n"
      ]
    },
    {
      "cell_type": "code",
      "execution_count": null,
      "metadata": {
        "collapsed": false
      },
      "outputs": [],
      "source": [
        "fslist = [0.62, 0.62, 0.62, 0.8, 1, 0.8, 0.88, 0.88, 0.16, 0.88, 0]\nfor i in range(11):\n    contact = Contact(category=ContactCategory.SURFACE_TO_SURFACE_CONTACT)\n    contact.set_friction_coefficient(static=fslist[i])\n    surf1 = ContactSurface(SegmentSet(segments[2 * i]))\n    surf2 = ContactSurface(SegmentSet(segments[2 * i + 1]))\n    contact.set_slave_surface(surf1)\n    contact.set_master_surface(surf2)\n    dummy.contacts.add(contact)"
      ]
    },
    {
      "cell_type": "markdown",
      "metadata": {},
      "source": [
        "# Define spherical joints\n\nA spherical joint is one of the simpler joint types. You need only\ndefine a coincident node pair. Read the node pairs from the `jointlist`\narray defined in the `belted_dummy_data.py` file.\n"
      ]
    },
    {
      "cell_type": "code",
      "execution_count": null,
      "metadata": {
        "collapsed": false
      },
      "outputs": [],
      "source": [
        "for i in range(42):\n    id = i + 1\n    dummy.create_defineorientation(vid=id, iop=2, vector=vector, node1=nlist[i][0], node2=nlist[i][1])\n\nfor i in range(14):\n    dummy.constraints.create_joint_spherical(nodes=jointlist[i])"
      ]
    },
    {
      "cell_type": "markdown",
      "metadata": {},
      "source": [
        "# Define a prescribed motion on a node set\n\nUse the `create_imposed_motion()` method to define a prescribed motion\non a node set.\n"
      ]
    },
    {
      "cell_type": "code",
      "execution_count": null,
      "metadata": {
        "collapsed": false
      },
      "outputs": [],
      "source": [
        "dummy.boundaryconditions.create_imposed_motion(\n    NodeSet(motion_nodes),\n    Curve(x=motion_curve_x, y=motion_curve_y, sfo=0.1),\n    motion=Motion.ACCELERATION,\n    scalefactor=-1,\n)"
      ]
    },
    {
      "cell_type": "markdown",
      "metadata": {},
      "source": [
        "# Define gravity\n\nUse the `Gravity()` method in the `dynabase` class to define the gravity\nload, direction of the load, and the curve.\n"
      ]
    },
    {
      "cell_type": "code",
      "execution_count": null,
      "metadata": {
        "collapsed": false
      },
      "outputs": [],
      "source": [
        "g = Gravity(dir=GravityOption.DIR_Z, load=Curve(x=[0, 0.152], y=[9.81, 9.81]))\ndummy.add(g)"
      ]
    },
    {
      "cell_type": "markdown",
      "metadata": {},
      "source": [
        "# Define database outputs\n\nDefine the frequency for the D3PLOT file and write out the input file.\n"
      ]
    },
    {
      "cell_type": "code",
      "execution_count": null,
      "metadata": {
        "collapsed": false
      },
      "outputs": [],
      "source": [
        "dummy_solution.create_database_binary(dt=2.5e-3)\ndummy_solution.save_file()"
      ]
    }
  ],
  "metadata": {
    "kernelspec": {
      "display_name": "Python 3",
      "language": "python",
      "name": "python3"
    },
    "language_info": {
      "codemirror_mode": {
        "name": "ipython",
        "version": 3
      },
      "file_extension": ".py",
      "mimetype": "text/x-python",
      "name": "python",
      "nbconvert_exporter": "python",
      "pygments_lexer": "ipython3",
      "version": "3.13.5"
    }
  },
  "nbformat": 4,
  "nbformat_minor": 0
}