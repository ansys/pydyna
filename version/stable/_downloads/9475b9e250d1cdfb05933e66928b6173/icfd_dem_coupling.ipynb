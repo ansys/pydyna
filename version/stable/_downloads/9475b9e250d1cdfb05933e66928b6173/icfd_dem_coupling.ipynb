{
  "cells": [
    {
      "cell_type": "markdown",
      "metadata": {},
      "source": [
        "# DEM coupling\n\nThis example shows how to couple the ICFD fluid solver with DEM\nparticles. The executable file for LS-DYNA is\n`ls-dyna_smp_d_R101_winx64_ifort131.exe`.\n"
      ]
    },
    {
      "cell_type": "code",
      "execution_count": null,
      "metadata": {
        "collapsed": false
      },
      "outputs": [],
      "source": [
        "import os\nimport sys\n\nfrom ansys.dyna.core.pre import examples, launch_dynapre\nfrom ansys.dyna.core.pre.dynadem import DEMAnalysis\nfrom ansys.dyna.core.pre.dynaicfd import (\n    ICFDDOF,\n    Curve,\n    DynaICFD,\n    ICFD_CouplingForm,\n    ICFDAnalysis,\n    ICFDPart,\n    ICFDVolumePart,\n    MatICFD,\n    MeshedVolume,\n    Point,\n    SolidFormulation,\n    SolidPart,\n    Velocity,\n)\nfrom ansys.dyna.core.pre.dynamaterial import MatRigidDiscrete\nfrom ansys.dyna.core.pre.misc import check_valid_ip\n\n\n\nhostname = \"localhost\"\nif len(sys.argv) > 1 and check_valid_ip(sys.argv[1]):\n    hostname = sys.argv[1]\n\nsolution = launch_dynapre(ip=hostname)\n# Import the initial mesh data(nodes and elements)\nfns = []\npath = examples.dem_coupling + os.sep\nfns.append(path + \"dem_coupling.k\")\nsolution.open_files(fns)\nsolution.set_termination(termination_time=100)\nicfd = DynaICFD()\nsolution.add(icfd)\n\nicfd.set_timestep(tssfac=0.8)\n\nicfdanalysis = ICFDAnalysis()\nicfdanalysis.set_timestep(0.05)\nicfdanalysis.set_coupling_dem(formulation=ICFD_CouplingForm.FORCE_USING_FLUID_PRESSURE_GRADIENT)\nicfd.add(icfdanalysis)\n\ndemanalysis = DEMAnalysis()\ndemanalysis.set_des(\n    normal_damping_coeff=0.9, tangential_damping_coeff=0.9, static_friction_coeff=0.3, rolling_friction_coeff=0.001\n)\nicfd.add(demanalysis)\n\n# define model\nmat = MatICFD(flow_density=2.0, dynamic_viscosity=0.01)\n\npart_inflow = ICFDPart(1)\npart_inflow.set_material(mat)\npart_inflow.set_prescribed_velocity(dof=ICFDDOF.X, motion=Curve(x=[0, 10000], y=[1, 1]))\nicfd.parts.add(part_inflow)\n\npart_outflow = ICFDPart(2)\npart_outflow.set_material(mat)\npart_outflow.set_prescribed_pressure(pressure=Curve(x=[0, 10000], y=[0, 0]))\nicfd.parts.add(part_outflow)\n\npart_symmetric = ICFDPart(3)\npart_symmetric.set_material(mat)\npart_symmetric.set_free_slip()\nicfd.parts.add(part_symmetric)\n\nicfd.set_initial(velocity=Velocity(1, 0, 0))\n\npartvol = ICFDVolumePart(surfaces=[1, 2, 3])\npartvol.set_material(mat)\nicfd.parts.add(partvol)\n# define the volume space that will be meshed,The boundaries\n# of the volume are the surfaces \"spids\"\nmeshvol = MeshedVolume(surfaces=[1, 2, 3])\nmeshvol.meshsize_box(size=0.05, min_point=Point(-1, -1, -1), max_point=Point(1, 1, 1))\nicfd.add(meshvol)\n\n# define rigid cylinder\nmatrigid = MatRigidDiscrete(mass_density=1000, young_modulus=1e4)\ndisc = SolidPart(101)\ndisc.set_material(matrigid)\ndisc.set_element_formulation(SolidFormulation.ONE_POINT_COROTATIONAL)\nicfd.parts.add(disc)\n\nsolution.create_database_binary(dt=1.0)\nsolution.save_file()"
      ]
    }
  ],
  "metadata": {
    "kernelspec": {
      "display_name": "Python 3",
      "language": "python",
      "name": "python3"
    },
    "language_info": {
      "codemirror_mode": {
        "name": "ipython",
        "version": 3
      },
      "file_extension": ".py",
      "mimetype": "text/x-python",
      "name": "python",
      "nbconvert_exporter": "python",
      "pygments_lexer": "ipython3",
      "version": "3.13.5"
    }
  },
  "nbformat": 4,
  "nbformat_minor": 0
}