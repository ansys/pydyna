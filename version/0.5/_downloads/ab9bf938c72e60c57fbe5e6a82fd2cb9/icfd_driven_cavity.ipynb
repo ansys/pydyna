{
  "cells": [
    {
      "cell_type": "markdown",
      "metadata": {},
      "source": [
        "Driven cavity\n=============\n\nThis example shows the universally famous driven-cavity case tested with\nthe second-order steady solver and for `Re=1000`. The executable file\nfor LS-DYNA is\n`ls-dyna_smp_d_R13.1_138-g8429c8a10f_winx64_ifort190.exe`.\n"
      ]
    },
    {
      "cell_type": "code",
      "execution_count": null,
      "metadata": {
        "collapsed": false
      },
      "outputs": [],
      "source": [
        "import os\nimport sys\n\n\nfrom ansys.dyna.core.pre import launch_dynapre\nfrom ansys.dyna.core.pre.dynaicfd import (\n    DynaICFD,\n    MatICFD,\n    ICFDPart,\n    Curve,\n    ICFDVolumePart,\n    MeshedVolume,\n    ICFDAnalysis,\n    ICFD_AnalysisType,\n    ICFD_MessageLevel,\n    ICFDDOF\n)\nfrom ansys.dyna.core.pre import examples\nfrom ansys.dyna.core.pre.misc import check_valid_ip\n\nhostname = \"localhost\"\nif len(sys.argv) > 1 and check_valid_ip(sys.argv[1]):\n    hostname = sys.argv[1]\n\nsolution = launch_dynapre(ip = hostname)\n# Import the initial mesh data(nodes and elements)\nfns = []\npath = examples.driven_cavity + os.sep\nfns.append(path + \"driven_cavity.k\")\nsolution.open_files(fns)\nicfd = DynaICFD()\nsolution.add(icfd)\n\nicfdanalysis = ICFDAnalysis()\nicfdanalysis.set_type(analysis_type=ICFD_AnalysisType.STEADY_STATE_ANALYSIS)\nicfdanalysis.set_output(messagelevel=ICFD_MessageLevel.FULL_OUTPUT_INFORMATION,iteration_interval=250)\nicfdanalysis.set_steady_state(max_iteration=2500,momentum_tol_limit=1e-8,pressure_tol_limit=1e-8,velocity_relax_param=1,pressure_relax_param=1)\nicfd.add(icfdanalysis)\n\n# define model\nmat = MatICFD(flow_density=1, dynamic_viscosity=0.001)\n\npart1 = ICFDPart(1)\npart1.set_material(mat)\npart1.set_prescribed_velocity(dof=ICFDDOF.X, motion=Curve(x=[0, 10000], y=[1, 1]))\nicfd.parts.add(part1)\n\npart2 = ICFDPart(2)\npart2.set_material(mat)\npart2.set_non_slip()\nicfd.parts.add(part2)\n\npartvol = ICFDVolumePart(surfaces=[1, 2])\npartvol.set_material(mat)\nicfd.parts.add(partvol)\n# define the volume space that will be meshed,The boundaries\n# of the volume are the surfaces \"spids\"\nmeshvol = MeshedVolume(surfaces=[1, 2])\nicfd.add(meshvol)\n\nsolution.create_database_binary(dt=250)\nsolution.save_file()"
      ]
    }
  ],
  "metadata": {
    "kernelspec": {
      "display_name": "Python 3",
      "language": "python",
      "name": "python3"
    },
    "language_info": {
      "codemirror_mode": {
        "name": "ipython",
        "version": 3
      },
      "file_extension": ".py",
      "mimetype": "text/x-python",
      "name": "python",
      "nbconvert_exporter": "python",
      "pygments_lexer": "ipython3",
      "version": "3.10.14"
    }
  },
  "nbformat": 4,
  "nbformat_minor": 0
}