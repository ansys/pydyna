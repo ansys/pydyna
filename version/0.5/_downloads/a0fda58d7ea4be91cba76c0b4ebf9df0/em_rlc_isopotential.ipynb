{
  "cells": [
    {
      "cell_type": "markdown",
      "metadata": {},
      "source": [
        "RLC circuit by isopotential\n===========================\n\nThis example shows how to use the corresponding `contype` in the\n`connect_isopotential()` method to define an RLC circuit as an inlet\nboundary condition. The executable file for LS-DYNA is\n`ls-dyna_smp_d_R13.1_138-g8429c8a10f_winx64_ifort190.exe`.\n"
      ]
    },
    {
      "cell_type": "code",
      "execution_count": null,
      "metadata": {
        "collapsed": false
      },
      "outputs": [],
      "source": [
        "import os\nimport sys\n\nfrom ansys.dyna.core.pre import launch_dynapre\nfrom ansys.dyna.core.pre.dynaem import (\n    DynaEM,\n    NodeSet,\n    SegmentSet,\n    SolidPart,\n    SolidFormulation,\n    EMType,\n    Isopotential_ConnType,\n    Isopotential,\n    RogoCoil,\n)\nfrom ansys.dyna.core.pre.dynamaterial import MatRigid,EMMATTYPE\nfrom em_set_data import rlc_rogoseg\nfrom ansys.dyna.core.pre import examples\nfrom ansys.dyna.core.pre.misc import check_valid_ip\n\nhostname = \"localhost\"\nif len(sys.argv) > 1 and check_valid_ip(sys.argv[1]):\n    hostname = sys.argv[1]\n\nsolution = launch_dynapre(ip = hostname)\nfns = []\npath = examples.em_rlc_isopotential + os.sep\nfns.append(path + \"em_rlc_isopotential.k\")\nsolution.open_files(fns)\nsolution.set_termination(termination_time=0.01)\nsolution.create_database_binary(dt=1e-4)\n\nemobj = DynaEM()\nsolution.add(emobj)\n\nemobj.set_timestep(tssfac=1,timestep_size_for_mass_scaled=1e-4)\n\nemobj.analysis.set_timestep(timestep=1e-4)\nemobj.analysis.set_em_solver(type=EMType.RESISTIVE_HEATING)\n\nmatrigid = MatRigid(mass_density=7000, young_modulus=2e11,center_of_mass_constraint=1,translational_constraint=7,rotational_constraint=7)\nmatrigid.set_em_permeability_equal(material_type=EMMATTYPE.CONDUCTOR, initial_conductivity=1e4)\n\npart1 = SolidPart(1)\npart1.set_material(matrigid)\npart1.set_element_formulation(SolidFormulation.CONSTANT_STRESS_SOLID_ELEMENT)\nemobj.parts.add(part1)\n\nnset1 = NodeSet([429,433,437,441,445,449,453,457,461,465,469,473,477,481,485,489,493,497,501,505,509,513,517,521,525])\nnset2 = NodeSet([26,31,36,41,46,51,56,61,66,71,76,81,86,91,96,101,106,111,116,121,126,131,136,141,146])\nisopos_conn1 = Isopotential(nset1)\nisopos_conn2 = Isopotential(nset2)\nemobj.connect_isopotential(contype = Isopotential_ConnType.RLC_CIRCUIT,isopotential1 = isopos_conn1,value=5e-4,inductance=7.8e-5,capacity=0.0363,initial_voltage=5000)\nemobj.connect_isopotential(contype = Isopotential_ConnType.VOLTAGE_SOURCE,isopotential1 = isopos_conn2)\nemobj.add(RogoCoil(SegmentSet(rlc_rogoseg)))\n\nemobj.create_em_output(mats=2, matf=2, sols=2, solf=2)\n\nsolution.save_file()"
      ]
    }
  ],
  "metadata": {
    "kernelspec": {
      "display_name": "Python 3",
      "language": "python",
      "name": "python3"
    },
    "language_info": {
      "codemirror_mode": {
        "name": "ipython",
        "version": 3
      },
      "file_extension": ".py",
      "mimetype": "text/x-python",
      "name": "python",
      "nbconvert_exporter": "python",
      "pygments_lexer": "ipython3",
      "version": "3.10.14"
    }
  },
  "nbformat": 4,
  "nbformat_minor": 0
}