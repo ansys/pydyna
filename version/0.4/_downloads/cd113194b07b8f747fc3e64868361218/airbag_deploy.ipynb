{
  "cells": [
    {
      "cell_type": "markdown",
      "metadata": {},
      "source": [
        "Airbag deploy\n=============\n\nThis example shows how to create an airbag deploy model with the PyDNYA\n`pre` service. The executable file for LS-DYNA is\n`ls-dyna_smp_d_R13.0_365-gf8a97bda2a_winx64_ifort190.exe`.\n"
      ]
    },
    {
      "cell_type": "markdown",
      "metadata": {},
      "source": [
        "Perform required imports\n========================\n\nPeform required imports.\n"
      ]
    },
    {
      "cell_type": "code",
      "execution_count": null,
      "metadata": {
        "collapsed": false
      },
      "outputs": [],
      "source": [
        "import os\nimport sys\n\n\nfrom ansys.dyna.core.pre import launch_dynapre\nfrom ansys.dyna.core.pre.dynamech import (\n    DynaMech,\n    Airbag,\n    PartSet,\n    Curve,\n    Point,\n    RigidwallPlanar,\n    Contact,\n    ContactSurface,\n    ContactCategory,\n    ShellPart,\n    ShellFormulation,\n)"
      ]
    },
    {
      "cell_type": "markdown",
      "metadata": {},
      "source": [
        "Start the `pre` service\n=======================\n\nBefore starting the `pre` service, you must ensure that the Docker\ncontainer for this service has been started. For more information, see\n\\\"Start the Docker container for the `pre` service\\\" in\n<https://dyna.docs.pyansys.com/version/stable/index.html>.\n\nThe `pre` service can also be started locally, please download the\nlatest version of ansys-pydyna-pre-server.zip package from\n<https://github.com/ansys/pydyna/releases> and start it refering to the\nREADME.rst file in this server package.\n\nOnce the `pre` service is running, you can connect a client to it using\nthe hostname and port. This example uses the default localhost and port\n(`\"localhost\"` and `\"50051\"` respectively).\n"
      ]
    },
    {
      "cell_type": "code",
      "execution_count": null,
      "metadata": {
        "collapsed": false
      },
      "outputs": [],
      "source": [
        "from ansys.dyna.core.pre.dynamaterial import MatRigid, MatFabric\nfrom ansys.dyna.core.pre import examples\nfrom ansys.dyna.core.pre.misc import check_valid_ip\n\nhostname = \"localhost\"\nif len(sys.argv) > 1 and check_valid_ip(sys.argv[1]):\n    hostname = sys.argv[1]"
      ]
    },
    {
      "cell_type": "markdown",
      "metadata": {},
      "source": [
        "Start the solution workflow\n===========================\n\nThe `DynaSolution` class is like a workflow orchestrator. It inherits\nmethods from other classes and helps create a complete workflow.\n"
      ]
    },
    {
      "cell_type": "code",
      "execution_count": null,
      "metadata": {
        "collapsed": false
      },
      "outputs": [],
      "source": [
        "airbag_solution = launch_dynapre(ip = hostname)\nfns = []\n# path = sys.path[0] + os.sep + \"input\" + os.sep + \"airbag_deploy\" + os.sep\npath = examples.airbag_deploy + os.sep\nfns.append(path + \"airbag_deploy.k\")\nairbag_solution.open_files(fns)"
      ]
    },
    {
      "cell_type": "markdown",
      "metadata": {},
      "source": [
        "Create standard explicit control cards\n======================================\n\nThe following code uses the `set_termination` method to set the\ntermination time to `0.03` in *CONTROL\\_TERMINATION*. The `DynaMech`\nclass automatically generates the common control cards used in explicit\nproblems. `CONTROL_ACCURACY`, `CONTACT`, `BULK VISCOCITY`, and `CONTACT`\nare all automatically generated.\n"
      ]
    },
    {
      "cell_type": "code",
      "execution_count": null,
      "metadata": {
        "collapsed": false
      },
      "outputs": [],
      "source": [
        "airbag_solution.set_termination(0.03)\n\nairbagdeploy = DynaMech()\nairbag_solution.add(airbagdeploy)"
      ]
    },
    {
      "cell_type": "markdown",
      "metadata": {},
      "source": [
        "Define a keyword\n================\n\nUse the `Airbag` function in the `DynaMech` class to define\n*AIRBAG\\_SIMPLE\\_AIRBAG\\_MODEL* as a keyword. While LS-DYNA has many\ndifferent airbag models, PyDYNA currently supports only one:\nSIMPLE\\_AIRBAG\\_MODEL. If you have an urgent need for PyDYNA to support\nanother airbag model, email <pyansys.core@ansys.com> with your request.\n"
      ]
    },
    {
      "cell_type": "code",
      "execution_count": null,
      "metadata": {
        "collapsed": false
      },
      "outputs": [],
      "source": [
        "airbag = Airbag(\n    set=PartSet([3]),\n    heat_capacity_at_constant_volume=1.736e3,\n    heat_capacity_at_constant_pressure=2.43e3,\n    input_gas_temperature=1.2e3,\n    input_mass_flow_rate=Curve(x=[0, 0.032, 0.045, 0.08], y=[0, 26, 0.6, 0.1]),\n    shape_factor_for_exit_hole=0.7,\n    ambient_pressure=14.7,\n    ambient_density=3.821e-6,\n)\nairbagdeploy.add(airbag)"
      ]
    },
    {
      "cell_type": "markdown",
      "metadata": {},
      "source": [
        "Generate an infinite planar rigid wall\n======================================\n\nTo generate an infinite planar rigidwall, define the coordinates of the\nheat vector and the tail vector of the plane.\n"
      ]
    },
    {
      "cell_type": "code",
      "execution_count": null,
      "metadata": {
        "collapsed": false
      },
      "outputs": [],
      "source": [
        "rigidwall = RigidwallPlanar(Point(0, 0, 0), Point(0, 1, 0), coulomb_friction_coefficient=0.5)\nairbagdeploy.add(rigidwall)"
      ]
    },
    {
      "cell_type": "markdown",
      "metadata": {},
      "source": [
        "Define a node-to-surface contact\n================================\n\nDefine a node-to-surface contact by passing a master part set and a\nslave part set.\n"
      ]
    },
    {
      "cell_type": "code",
      "execution_count": null,
      "metadata": {
        "collapsed": false
      },
      "outputs": [],
      "source": [
        "contact = Contact(category=ContactCategory.NODES_TO_SURFACE)\ncontact.set_friction_coefficient(static=0.5, dynamic=0.5)\nsurf1 = ContactSurface(PartSet([3]))\nsurf2 = ContactSurface(PartSet([2]))\nsurf2.set_penalty_stiffness_scale_factor(0.06667)\ncontact.set_slave_surface(surf1)\ncontact.set_master_surface(surf2)\nairbagdeploy.contacts.add(contact)"
      ]
    },
    {
      "cell_type": "markdown",
      "metadata": {},
      "source": [
        "Define material cards\n=====================\n\nLS-DYNA has over 300 materials that are used for varied applications.\nWhile PyDYNA does not yet support all material cards, it does support\nmost commonly used materials, including `FABRIC`, `MAT_ELASTIC`,\n`PIECEWISE_LINEAR_PLASTICITY`, and `RIGID`. All supported materials are\naccessed from the `dynamaterial` class. In the following code,\n`MAT_RIGID` is defined as the material for the cylindrical tube and the\nbottom plate. `MAT_FABRIC` is defined as the material for the airbag\nvolume. Note that `platemat` also has contraints defined.\n"
      ]
    },
    {
      "cell_type": "code",
      "execution_count": null,
      "metadata": {
        "collapsed": false
      },
      "outputs": [],
      "source": [
        "platemat = MatRigid(\n    mass_density=7.84e-4,\n    young_modulus=30e6,\n    center_of_mass_constraint=1,\n    translational_constraint=7,\n    rotational_constraint=7,\n)\ncylindermat = MatRigid(mass_density=1.96e-4, young_modulus=30e6)\nairbagmat = MatFabric(\n    mass_density=1e-4,\n    young_modulus_longitudinal_direction=2e6,\n    young_modulus_transverse_direction=2e6,\n    shear_modulus=1.53e6,\n)"
      ]
    },
    {
      "cell_type": "markdown",
      "metadata": {},
      "source": [
        "Define sectional properties\n===========================\n\nThe following code defines the sectional properties of the parts. This\nexample has three shell parts. Each shell part is initialized as\n`ShellPart` with a unique ID and an appropriate shell formulation is\nassigned. Again, PyDYNA does not yet support all element formulations.\nYou can find the supported formulations in the `dynabase` class.\n"
      ]
    },
    {
      "cell_type": "code",
      "execution_count": null,
      "metadata": {
        "collapsed": false
      },
      "outputs": [],
      "source": [
        "plate = ShellPart(1)\nplate.set_material(platemat)\nplate.set_element_formulation(ShellFormulation.BELYTSCHKO_TSAY)\nplate.set_thickness(0.5)\nairbagdeploy.parts.add(plate)\n\ncylinder = ShellPart(2)\ncylinder.set_material(cylindermat)\ncylinder.set_element_formulation(ShellFormulation.BELYTSCHKO_TSAY)\ncylinder.set_thickness(0.5)\nairbagdeploy.parts.add(cylinder)\n\nairbagpart = ShellPart(3)\nairbagpart.set_material(airbagmat)\nairbagpart.set_element_formulation(ShellFormulation.FULLY_INTEGRATED_BELYTSCHKO_TSAY_MEMBRANE)\nairbagpart.set_thickness(0.015)\nairbagpart.set_integration_points(4)\nairbagdeploy.parts.add(airbagpart)"
      ]
    },
    {
      "cell_type": "markdown",
      "metadata": {},
      "source": [
        "Define database outputs\n=======================\n\nUse the `set_output_database()` and `create_database_binary()` methods\nto define the output frequency of the ASCII and binary D3PLOT files.\nThen, use the `save_file()` method to write out the model as an input\nDYNA key file.\n"
      ]
    },
    {
      "cell_type": "code",
      "execution_count": null,
      "metadata": {
        "collapsed": false
      },
      "outputs": [],
      "source": [
        "airbag_solution.set_output_database(\n    abstat=2.0e-4, glstat=2.0e-4, matsum=2.0e-4, rcforc=2.0e-4, rbdout=2.0e-4, rwforc=2.0e-4\n)\nairbag_solution.create_database_binary(dt=5e-4, ieverp=1)\nairbag_solution.save_file()"
      ]
    }
  ],
  "metadata": {
    "kernelspec": {
      "display_name": "Python 3",
      "language": "python",
      "name": "python3"
    },
    "language_info": {
      "codemirror_mode": {
        "name": "ipython",
        "version": 3
      },
      "file_extension": ".py",
      "mimetype": "text/x-python",
      "name": "python",
      "nbconvert_exporter": "python",
      "pygments_lexer": "ipython3",
      "version": "3.10.14"
    }
  },
  "nbformat": 4,
  "nbformat_minor": 0
}