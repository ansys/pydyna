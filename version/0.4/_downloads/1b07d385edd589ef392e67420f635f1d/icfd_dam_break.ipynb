{
  "cells": [
    {
      "cell_type": "markdown",
      "metadata": {},
      "source": [
        "Dam break\n=========\n\nThis example shows how to use the ICFD solver on a simple free surface.\nA column of water collapses under the load of gravity. The executable\nfile for LS-DYNA is\n`ls-dyna_smp_d_R13.1_138-g8429c8a10f_winx64_ifort190.exe`.\n"
      ]
    },
    {
      "cell_type": "code",
      "execution_count": null,
      "metadata": {
        "collapsed": false
      },
      "outputs": [],
      "source": [
        "import os\nimport sys\n\n\nfrom ansys.dyna.core.pre import launch_dynapre\nfrom ansys.dyna.core.pre.dynaicfd import (\n    DynaICFD,\n    MatICFD,\n    ICFDPart,\n    Curve,\n    ICFDVolumePart,\n    MeshedVolume,\n    ICFDAnalysis,\n    Gravity,\n    GravityOption,\n    Compressible\n)\nfrom ansys.dyna.core.pre import examples\nfrom ansys.dyna.core.pre.misc import check_valid_ip\n\nhostname = \"localhost\"\nif len(sys.argv) > 1 and check_valid_ip(sys.argv[1]):\n    hostname = sys.argv[1]\n\nsolution = launch_dynapre(ip = hostname)\n# Import the initial mesh data(nodes and elements)\nfns = []\npath = examples.dam_break + os.sep\nfns.append(path + \"dam_break.k\")\nsolution.open_files(fns)\nsolution.set_termination(termination_time=50)\nicfd = DynaICFD()\nsolution.add(icfd)\n\nicfdanalysis = ICFDAnalysis()\nicfdanalysis.set_timestep()\nicfd.add(icfdanalysis)\n\n# define model\nmat1 = MatICFD(flow_density=1000, dynamic_viscosity=0.001)\nmat2 = MatICFD(flag=Compressible.VACUUM)\n\npart1 = ICFDPart(1)\npart1.set_material(mat1)\npart1.set_free_slip()\nicfd.parts.add(part1)\n\npart2 = ICFDPart(2)\npart2.set_material(mat2)\npart2.set_free_slip()\nicfd.parts.add(part2)\n\npart3 = ICFDPart(3)\npart3.set_material(mat1)\nicfd.parts.add(part3)\n\ng = Gravity(dir=GravityOption.DIR_Y, load=Curve(x=[0, 10000], y=[9.81, 9.81]))\nicfd.add(g)\n\npartvol1 = ICFDVolumePart(surfaces=[1, 3])\npartvol1.set_material(mat1)\nicfd.parts.add(partvol1)\n\npartvol2 = ICFDVolumePart(surfaces=[2, 3])\npartvol2.set_material(mat2)\nicfd.parts.add(partvol2)\n# define the volume space that will be meshed,The boundaries\n# of the volume are the surfaces \"spids\"\nmeshvol = MeshedVolume(surfaces=[1, 2])\nmeshvol.set_fluid_interfaces([3])\nicfd.add(meshvol)\n\nsolution.create_database_binary(dt=0.2)\nsolution.save_file()"
      ]
    }
  ],
  "metadata": {
    "kernelspec": {
      "display_name": "Python 3",
      "language": "python",
      "name": "python3"
    },
    "language_info": {
      "codemirror_mode": {
        "name": "ipython",
        "version": 3
      },
      "file_extension": ".py",
      "mimetype": "text/x-python",
      "name": "python",
      "nbconvert_exporter": "python",
      "pygments_lexer": "ipython3",
      "version": "3.10.14"
    }
  },
  "nbformat": 4,
  "nbformat_minor": 0
}