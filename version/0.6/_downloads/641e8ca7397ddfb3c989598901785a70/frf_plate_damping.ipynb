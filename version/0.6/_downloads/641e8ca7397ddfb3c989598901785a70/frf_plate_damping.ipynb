{
  "cells": [
    {
      "cell_type": "markdown",
      "metadata": {},
      "source": [
        "FRF for a rectangular plate\n===========================\n\nThis example shows how to set up the keywords for computation of a FRF\n(frequency response function). The executable file for LS-DYNA is\n`ls-dyna_smp_d_R13.1_138-g8429c8a10f_winx64_ifort190.exe`.\n"
      ]
    },
    {
      "cell_type": "markdown",
      "metadata": {},
      "source": [
        "Perform required imports\n========================\n\nPerform the required imports.\n"
      ]
    },
    {
      "cell_type": "code",
      "execution_count": null,
      "metadata": {
        "collapsed": false
      },
      "outputs": [],
      "source": [
        "import os\nimport sys\n\nfrom ansys.dyna.core.pre import examples, launch_dynapre\nfrom ansys.dyna.core.pre.dynamaterial import MatElastic\nfrom ansys.dyna.core.pre.dynanvh import (\n    Curve,\n    DynaNVH,\n    ExcitationDOF,\n    FrequencyDomain,\n    NodeSet,\n    ResponseDOF,\n    ResponseType,\n    ShellFormulation,\n    ShellPart,\n)\nfrom ansys.dyna.core.pre.misc import check_valid_ip"
      ]
    },
    {
      "cell_type": "markdown",
      "metadata": {},
      "source": [
        "Start the `pre` service\n=======================\n\nBefore starting the `pre` service, you must ensure that the Docker\ncontainer for this service has been started. For more information, see\n\\\"Start the Docker container for the `pre` service\\\" in\n<https://dyna.docs.pyansys.com/version/stable/index.html>.\n\nThe `pre` service can also be started locally, please download the\nlatest version of ansys-pydyna-pre-server.zip package from\n<https://github.com/ansys/pydyna/releases> and start it referring to the\nREADME.rst file in this server package.\n\nOnce the `pre` service is running, you can connect a client to it using\nthe hostname and port. This example uses the default localhost and port\n(`\"localhost\"` and `\"50051\"` respectively).\n"
      ]
    },
    {
      "cell_type": "code",
      "execution_count": null,
      "metadata": {
        "collapsed": false
      },
      "outputs": [],
      "source": [
        "hostname = \"localhost\"\nif len(sys.argv) > 1 and check_valid_ip(sys.argv[1]):\n    hostname = sys.argv[1]\nsolution = launch_dynapre(ip=hostname)"
      ]
    },
    {
      "cell_type": "markdown",
      "metadata": {},
      "source": [
        "Import mesh data (nodes and elements)\n=====================================\n\nImport initial mesh data, which includes the predefined *NODE*,\n*ELEMENT\\_* and *PART* cards.\n"
      ]
    },
    {
      "cell_type": "code",
      "execution_count": null,
      "metadata": {
        "collapsed": false
      },
      "outputs": [],
      "source": [
        "fns = []\npath = examples.nvh_frf_plate_damping + os.sep\nfns.append(path + \"frf_plate_damping.k\")\nsolution.open_files(fns)"
      ]
    },
    {
      "cell_type": "markdown",
      "metadata": {},
      "source": [
        "Define global control cards\n===========================\n\nDefine the global control cards.\n"
      ]
    },
    {
      "cell_type": "code",
      "execution_count": null,
      "metadata": {
        "collapsed": false
      },
      "outputs": [],
      "source": [
        "nvhobj = DynaNVH()\nsolution.add(nvhobj)"
      ]
    },
    {
      "cell_type": "markdown",
      "metadata": {},
      "source": [
        "Set initial timestep size\n=========================\n\nSet the initial timestep size in CONTROL\\_IMPLICIT\\_GENERAL.\n"
      ]
    },
    {
      "cell_type": "code",
      "execution_count": null,
      "metadata": {
        "collapsed": false
      },
      "outputs": [],
      "source": [
        "nvhobj.implicitanalysis.set_initial_timestep_size(1.0)"
      ]
    },
    {
      "cell_type": "markdown",
      "metadata": {},
      "source": [
        "Set number of eigen modes\n=========================\n\nSet the number of eigen modes to `100`.\n"
      ]
    },
    {
      "cell_type": "code",
      "execution_count": null,
      "metadata": {
        "collapsed": false
      },
      "outputs": [],
      "source": [
        "nvhobj.implicitanalysis.set_eigenvalue(number_eigenvalues=100)"
      ]
    },
    {
      "cell_type": "markdown",
      "metadata": {},
      "source": [
        "Define linear solver\n====================\n\nDefine the linear solver by setting NSOLVR to `1` in\nCONTROL\\_IMPLICIT\\_SOLUTION.\n"
      ]
    },
    {
      "cell_type": "code",
      "execution_count": null,
      "metadata": {
        "collapsed": false
      },
      "outputs": [],
      "source": [
        "nvhobj.implicitanalysis.set_solution(solution_method=1)"
      ]
    },
    {
      "cell_type": "markdown",
      "metadata": {},
      "source": [
        "Define frequency domain cards\n=============================\n\n*FREQUENCY\\_DOMAIN\\_FRF* is used to compute the frequency response\nfunction due to nodal excitations. In this case, a base velocity is\ndefined as an input at node 131. The base acceleration response is\nmeasured at nodes 131 and 651. The maximum natural frequency employed in\nFRF is limited to 2000 Hz.\n"
      ]
    },
    {
      "cell_type": "code",
      "execution_count": null,
      "metadata": {
        "collapsed": false
      },
      "outputs": [],
      "source": [
        "fd = FrequencyDomain()\ncrv = Curve(\n    x=[1, 6, 7, 8, 9, 10, 11, 12, 13, 14, 15, 200],\n    y=[0, 0, 0.0045, 0.00713, 0.00386, 0.00328, 0.0034, 0.00624, 7.2e-4, 8.3e-4, 0, 0],\n)\nfd.set_frequency_response_function(\n    excitation_input_set=NodeSet([131]),\n    excitation_input_dof=ExcitationDOF.Z,\n    max_natural_frequency=2000,\n    modal_damping_coefficient_curve_type=1,\n    modal_damping_coefficient_curve=crv,\n    response_output_set=NodeSet([131, 651]),\n    response_output_dof=ResponseDOF.Z,\n    response_output_type=ResponseType.BASE_ACCELERATION,\n    frf_output_min_frequency=1,\n    frf_output_max_frequency=400,\n    frf_output_num_frequency=400,\n)\nnvhobj.add(fd)"
      ]
    },
    {
      "cell_type": "markdown",
      "metadata": {},
      "source": [
        "Define material and section properties\n======================================\n\nDefine the `MAT_ELASTIC` material. Set shell formulation to\n`SR_HUGHES_LIU`.\n"
      ]
    },
    {
      "cell_type": "code",
      "execution_count": null,
      "metadata": {
        "collapsed": false
      },
      "outputs": [],
      "source": [
        "matelastic = MatElastic(mass_density=7870, young_modulus=2.07e11, poisson_ratio=0.292)\n\nboxshell = ShellPart(1)\nboxshell.set_material(matelastic)\nboxshell.set_element_formulation(ShellFormulation.SR_HUGHES_LIU)\nboxshell.set_thickness(0.002)\nboxshell.set_shear_factor(0.833)"
      ]
    },
    {
      "cell_type": "markdown",
      "metadata": {},
      "source": [
        "Set printout property and save input deck\n=========================================\n\nUse the `set_printout()` method to set the printout property to `3`.\nSave the input deck.\n"
      ]
    },
    {
      "cell_type": "code",
      "execution_count": null,
      "metadata": {
        "collapsed": false
      },
      "outputs": [],
      "source": [
        "boxshell.set_printout(3)\nnvhobj.parts.add(boxshell)\n\nsolution.save_file()"
      ]
    }
  ],
  "metadata": {
    "kernelspec": {
      "display_name": "Python 3",
      "language": "python",
      "name": "python3"
    },
    "language_info": {
      "codemirror_mode": {
        "name": "ipython",
        "version": 3
      },
      "file_extension": ".py",
      "mimetype": "text/x-python",
      "name": "python",
      "nbconvert_exporter": "python",
      "pygments_lexer": "ipython3",
      "version": "3.10.15"
    }
  },
  "nbformat": 4,
  "nbformat_minor": 0
}