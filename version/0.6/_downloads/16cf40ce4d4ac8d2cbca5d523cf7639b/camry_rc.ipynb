{
  "cells": [
    {
      "cell_type": "markdown",
      "metadata": {},
      "source": [
        "Implicit model\n==============\n\nThis example shows how to create and use an implicit dynamic roof crush\nmodel.\n"
      ]
    },
    {
      "cell_type": "markdown",
      "metadata": {},
      "source": [
        "Perform required imports\n========================\n\nPerform the required imports.\n"
      ]
    },
    {
      "cell_type": "code",
      "execution_count": null,
      "metadata": {
        "collapsed": false
      },
      "outputs": [],
      "source": [
        "import os\nimport sys\n\nfrom camry_rc_data import (\n    beamparts,\n    biw,\n    cnrbs,\n    partswithmat180,\n    partswithmat250,\n    partswithmat300,\n    partswithmat360,\n    partswithmat400,\n    partswithmat450,\n    partswithmat500,\n    platen,\n    shellparts,\n    spc,\n    spotweld,\n    spotweldbeams,\n    spotweldsurfaces,\n    vehicle,\n)\n\nfrom ansys.dyna.core.pre import examples, launch_dynapre\nfrom ansys.dyna.core.pre.dynamaterial import (\n    MatModifiedPiecewiseLinearPlasticity,\n    MatNull,\n    MatPiecewiseLinearPlasticity,\n    MatRigid,\n    MatSpotweld,\n)\nfrom ansys.dyna.core.pre.dynamech import (\n    DOF,\n    AnalysisType,\n    BeamPart,\n    Contact,\n    ContactCategory,\n    ContactSurface,\n    ContactType,\n    Curve,\n    DynaMech,\n    NodeSet,\n    OffsetType,\n    PartSet,\n    ShellPart,\n    TimestepCtrol,\n)\nfrom ansys.dyna.core.pre.misc import check_valid_ip"
      ]
    },
    {
      "cell_type": "markdown",
      "metadata": {},
      "source": [
        "Start the `pre` service\n=======================\n\nBefore starting the `pre` service, you must ensure that the Docker\ncontainer for this service has been started. For more information, see\n\\\"Start the Docker container for the `pre` service\\\" in\n<https://dyna.docs.pyansys.com/version/stable/index.html>.\n\nThe `pre` service can also be started locally, please download the\nlatest version of ansys-pydyna-pre-server.zip package from\n<https://github.com/ansys/pydyna/releases> and start it referring to the\nREADME.rst file in this server package.\n\nOnce the `pre` service is running, you can connect a client to it using\nthe hostname and port. This example uses the default localhost and port\n(`\"localhost\"` and `\"50051\"` respectively).\n"
      ]
    },
    {
      "cell_type": "code",
      "execution_count": null,
      "metadata": {
        "collapsed": false
      },
      "outputs": [],
      "source": [
        "hostname = \"localhost\"\nif len(sys.argv) > 1 and check_valid_ip(sys.argv[1]):\n    hostname = sys.argv[1]\ncamry_solution = launch_dynapre(ip=hostname)"
      ]
    },
    {
      "cell_type": "markdown",
      "metadata": {},
      "source": [
        "Import initial mesh data\n========================\n\nImport the initial mesh data (nodes and elements), which includes the\nvehicle data, weld data, and platen data.\n"
      ]
    },
    {
      "cell_type": "code",
      "execution_count": null,
      "metadata": {
        "collapsed": false
      },
      "outputs": [],
      "source": [
        "fns = []\npath = examples.camry_rc + os.sep\nfns.append(path + \"Camry_RC_main.k\")\nfns.append(path + \"501_RIG_BAR_roof_crush_platen5.key\")\nfns.append(path + \"Camry_V1_NoSusAndPowerTrain_impl7.k\")\nfns.append(path + \"Camry_V1_NoSusAndPowerTrain_impl7_nodes.k\")\nfns.append(path + \"roof_welds.k\")\nfns.append(path + \"weld7.k\")\nfns.append(path + \"xtra_sw.k\")\ncamry_solution.open_files(fns)"
      ]
    },
    {
      "cell_type": "markdown",
      "metadata": {},
      "source": [
        "Define global control cards\n===========================\n\nBecause roof crush is a quasi-static loading case, you must run this\nmodel as an implicit dynamic solution. Define the global control cards.\nFrom the `dynasolution` class, set the termination time and the\nfrequency for the database ASCII options.\n"
      ]
    },
    {
      "cell_type": "code",
      "execution_count": null,
      "metadata": {
        "collapsed": false
      },
      "outputs": [],
      "source": [
        "camry_solution.set_termination(10)"
      ]
    },
    {
      "cell_type": "markdown",
      "metadata": {},
      "source": [
        "Use the implicit analysis methods in the `dynamech` class to define the\nIMPLICIT control cards.\n"
      ]
    },
    {
      "cell_type": "code",
      "execution_count": null,
      "metadata": {
        "collapsed": false
      },
      "outputs": [],
      "source": [
        "camry = DynaMech(analysis=AnalysisType.EXPLICIT)\ncamry_solution.add(camry)"
      ]
    },
    {
      "cell_type": "markdown",
      "metadata": {},
      "source": [
        "Set the automatic timestep control flag and the optimal equilibrium\niteration count per timestep.\n"
      ]
    },
    {
      "cell_type": "code",
      "execution_count": null,
      "metadata": {
        "collapsed": false
      },
      "outputs": [],
      "source": [
        "camry.implicitanalysis.set_initial_timestep_size(0.1)\ncamry.implicitanalysis.set_timestep(\n    control_flag=TimestepCtrol.AUTOMATICALLY_ADJUST_TIMESTEP_SIZE,\n    Optimum_equilibrium_iteration_count=511,\n)"
      ]
    },
    {
      "cell_type": "markdown",
      "metadata": {},
      "source": [
        "Use the `set_dynamic()` method to set the IMASS value to 1 and assign\nthe gamma and beta values.\n"
      ]
    },
    {
      "cell_type": "code",
      "execution_count": null,
      "metadata": {
        "collapsed": false
      },
      "outputs": [],
      "source": [
        "camry.implicitanalysis.set_dynamic(gamma=0.6, beta=0.38)"
      ]
    },
    {
      "cell_type": "markdown",
      "metadata": {},
      "source": [
        "If normal modes must be extracted, use the `set_eigenvalue()` method.\nThe `set_solution()` method defines NSOLVR as 12 (Nolinear with BFGS\nupdate).\n"
      ]
    },
    {
      "cell_type": "code",
      "execution_count": null,
      "metadata": {
        "collapsed": false
      },
      "outputs": [],
      "source": [
        "camry.implicitanalysis.set_eigenvalue()\ncamry.implicitanalysis.set_solution(\n    iteration_limit=1, stiffness_reformation_limit=50, absolute_convergence_tolerance=-100\n)"
      ]
    },
    {
      "cell_type": "markdown",
      "metadata": {},
      "source": [
        "Define materials\n================\n\nThis model uses four classes of material: `MAT_NULL`, `MAT_RIGID,`\n`MAT_SPOTWELD`, and `MAT_PIECEWISE_LINEAR_PLASTICITY`. Use the\n`dynamaterial` class to define these materials.\n"
      ]
    },
    {
      "cell_type": "code",
      "execution_count": null,
      "metadata": {
        "collapsed": false
      },
      "outputs": [],
      "source": [
        "matnull = MatNull(mass_density=6e-11)\nmatrigid = MatRigid(mass_density=7.890e-09, young_modulus=2.100e05, poisson_ratio=0.3)\nmatplaten = MatRigid(\n    mass_density=7.80e-09,\n    young_modulus=2.00e05,\n    poisson_ratio=0.3,\n    center_of_mass_constraint=1,\n    rotational_constraint=7,\n)\nspotweldharden2100 = MatSpotweld(\n    mass_density=7.850e-09,\n    young_modulus=2.100e05,\n    poisson_ratio=0.3,\n    yield_stress=510,\n    plastic_hardening_modulus=2100,\n)\nspotweldharden2200 = MatSpotweld(\n    mass_density=7.850e-09,\n    young_modulus=2.100e05,\n    poisson_ratio=0.3,\n    yield_stress=510,\n    plastic_hardening_modulus=2200,\n)\nwindowshield = MatModifiedPiecewiseLinearPlasticity(\n    mass_density=2.355e-09,\n    young_modulus=7.000e04,\n    poisson_ratio=0.22,\n    yield_stress=30,\n    tangent_modulus=1400,\n    plastic_strain_to_failure=0.015,\n    integration_points_number=1,\n)\nwindowsrear = MatModifiedPiecewiseLinearPlasticity(\n    mass_density=2.425e-09,\n    young_modulus=7.000e04,\n    poisson_ratio=0.22,\n    yield_stress=30,\n    tangent_modulus=1400,\n    plastic_strain_to_failure=0.015,\n    integration_points_number=1,\n)\nplastic300 = MatPiecewiseLinearPlasticity(\n    mass_density=7.890e-09, young_modulus=210000, yield_stress=300, tangent_modulus=5000\n)\nplastic250 = MatPiecewiseLinearPlasticity(\n    mass_density=7.890e-09, young_modulus=210000, yield_stress=250, tangent_modulus=5000\n)\nplastic360 = MatPiecewiseLinearPlasticity(\n    mass_density=7.890e-09, young_modulus=210000, yield_stress=360, tangent_modulus=5000\n)\nplastic180 = MatPiecewiseLinearPlasticity(\n    mass_density=7.850e-09, young_modulus=210000, yield_stress=180, tangent_modulus=5000\n)\nplastic450 = MatPiecewiseLinearPlasticity(\n    mass_density=7.850e-09, young_modulus=210000, yield_stress=450, tangent_modulus=5000\n)\nplastic1300 = MatPiecewiseLinearPlasticity(\n    mass_density=7.850e-09, young_modulus=210000, yield_stress=1300, tangent_modulus=5000\n)\nplastic400 = MatPiecewiseLinearPlasticity(\n    mass_density=7.890e-09, young_modulus=210000, yield_stress=400, tangent_modulus=5000\n)\nplastic500 = MatPiecewiseLinearPlasticity(\n    mass_density=7.890e-09, young_modulus=210000, yield_stress=500, tangent_modulus=5000\n)\nplastic675 = MatPiecewiseLinearPlasticity(\n    mass_density=7.850e-09, young_modulus=210000, yield_stress=675, tangent_modulus=5000\n)\nplastic310 = MatPiecewiseLinearPlasticity(\n    mass_density=2.255e-09, young_modulus=70000, yield_stress=310, tangent_modulus=5000\n)\nplastic220 = MatPiecewiseLinearPlasticity(\n    mass_density=7.890e-09, young_modulus=210000, yield_stress=220, tangent_modulus=5000\n)\nplastic220_410 = MatPiecewiseLinearPlasticity(\n    mass_density=7.890e-09, young_modulus=210000, yield_stress=220, tangent_modulus=410\n)"
      ]
    },
    {
      "cell_type": "markdown",
      "metadata": {},
      "source": [
        "Assign section and material properties\n======================================\n\nOnce all materials are explicitly defined, these material IDs must be\ncross-referenced in the *PART* card. You use the `set_material()` method\nfor this. Because many parts share common materials, the assignment\nhappens within a loop. Within the loop, the `set_element_formulation()`\nmethod is called to assign the elform for the beam and shell elements.\nAccordingly, either the beam diameter or the shell thickness is also\ndefined. To identify the part ID that has a particular material type, a\npredefined list is made available in the `camry_rc_data.py` file, which\nthis script reads.\n"
      ]
    },
    {
      "cell_type": "code",
      "execution_count": null,
      "metadata": {
        "collapsed": false
      },
      "outputs": [],
      "source": [
        "for bpart in beamparts:\n    part = BeamPart(bpart[0])\n    if part.id in [50000002]:\n        part.set_material(spotweldharden2200)\n    else:\n        part.set_material(spotweldharden2100)\n    part.set_element_formulation(bpart[1])\n    part.set_diameter(bpart[2])\n    camry.parts.add(part)\n\nfor spart in shellparts:\n    part = ShellPart(spart[0])\n    if part.id in [1463, 1464]:\n        part.set_material(matnull)\n    elif part.id in [417, 419, 530, 532, 585, 586, 587, 588]:\n        part.set_material(matrigid)\n    elif part.id in [50000001]:\n        part.set_material(matplaten)\n    elif part.id in [290]:\n        part.set_material(windowshield)\n    elif part.id in [291]:\n        part.set_material(windowsrear)\n    elif part.id in partswithmat300:\n        part.set_material(plastic300)\n    elif part.id in partswithmat250:\n        part.set_material(plastic250)\n    elif part.id in partswithmat360:\n        part.set_material(plastic360)\n    elif part.id in partswithmat180:\n        part.set_material(plastic180)\n    elif part.id in partswithmat450:\n        part.set_material(plastic450)\n    elif part.id in partswithmat400:\n        part.set_material(plastic400)\n    elif part.id in partswithmat500:\n        part.set_material(plastic500)\n    elif part.id in [57]:\n        part.set_material(plastic1300)\n    elif part.id in [286]:\n        part.set_material(plastic675)\n    elif part.id in [5000000]:\n        part.set_material(plastic310)\n    elif part.id in [5000006]:\n        part.set_material(plastic220)\n    elif part.id in [5000007]:\n        part.set_material(plastic220_410)\n    else:\n        pass\n    part.set_element_formulation(spart[1])\n    part.set_thickness(spart[2])\n    camry.parts.add(part)"
      ]
    },
    {
      "cell_type": "markdown",
      "metadata": {},
      "source": [
        "Generate keywords for spotwelds and nodal rigid bodies\n======================================================\n\nThe `camry_rc_data.py` file contains the predefined node pairs and node\nsets required for the *CONSTRAINED\\_SPOTWELD* and\n*CONSTRAINED\\_NODAL\\_RIGID\\_BODY* definitions. Loop through these lists\nto generate the appropriate keywords.\n"
      ]
    },
    {
      "cell_type": "code",
      "execution_count": null,
      "metadata": {
        "collapsed": false
      },
      "outputs": [],
      "source": [
        "for sw in spotweld:\n    camry.constraints.create_spotweld(nodeid1=sw[0], nodeid2=sw[1])\n\nfor cnrb in cnrbs:\n    camry.constraints.create_cnrb(nodeset=NodeSet(cnrb))"
      ]
    },
    {
      "cell_type": "markdown",
      "metadata": {},
      "source": [
        "Define contacts\n===============\n\nThere are three contacts defined in this model:\n\n-   Automatic single surface contact for the BIW self contact\n-   Surface-to-surface contact between the platen and the BIW self\n    contact\n-   Tied contact for the spotweld beams\n\nUse the `ContactSurface()` method to set the SSTYPE and MSTYPE. The\n`PartSet()` method accepts the name of a list and converts it to\n*PART\\_SET\\_LIST*. Notice how the contact type and category can be used\nto create the three different type of contacts for this model.\n"
      ]
    },
    {
      "cell_type": "code",
      "execution_count": null,
      "metadata": {
        "collapsed": false
      },
      "outputs": [],
      "source": [
        "selfcontact = Contact(type=ContactType.AUTOMATIC)\nselfcontact.set_mortar()\nselfcontact.set_friction_coefficient(static=0.2)\nsurf1 = ContactSurface(PartSet(vehicle))\nselfcontact.set_slave_surface(surf1)\ncamry.contacts.add(selfcontact)\n\nplatebiw = Contact(type=ContactType.AUTOMATIC, category=ContactCategory.SURFACE_TO_SURFACE_CONTACT)\nplatebiw.set_mortar()\nplatebiw.set_friction_coefficient(static=0.2, dynamic=0.2)\nsurf1 = ContactSurface(PartSet(biw))\nsurf2 = ContactSurface(PartSet(platen))\nplatebiw.set_slave_surface(surf1)\nplatebiw.set_master_surface(surf2)\ncamry.contacts.add(platebiw)\n\nswcontact = Contact(\n    type=ContactType.TIED,\n    category=ContactCategory.SHELL_EDGE_TO_SURFACE_CONTACT,\n    offset=OffsetType.CONSTRAINED_OFFSET,\n)\nspotweldbeam = ContactSurface(PartSet(spotweldbeams))\nspotweldbeam.set_contact_thickness(thickness=-0.9)\nspotweldsurface = ContactSurface(PartSet(spotweldsurfaces))\nspotweldsurface.set_contact_thickness(thickness=-0.9)\nswcontact.set_slave_surface(spotweldbeam)\nswcontact.set_master_surface(spotweldsurface)\ncamry.contacts.add(swcontact)"
      ]
    },
    {
      "cell_type": "markdown",
      "metadata": {},
      "source": [
        "Define SPCs\n===========\n\nYou can use the `boundaryconditions` class to define both SPCs and\nprescribed motions. The bottom of the BIW is SPCed by selecting a few\nnodes. The prescribed motion is then assigned to the platen.\n"
      ]
    },
    {
      "cell_type": "code",
      "execution_count": null,
      "metadata": {
        "collapsed": false
      },
      "outputs": [],
      "source": [
        "camry.boundaryconditions.create_spc(NodeSet(spc))\n\ncrv = Curve(\n    x=[0, 1, 2, 3, 4, 5, 6, 7, 8, 9, 9.77, 100],\n    y=[0, 13, 26, 39, 52, 65, 78, 91, 104, 117, 127, 127],\n)\nplaten = PartSet([50000001])\ncamry.boundaryconditions.create_imposed_motion(platen, crv, dof=DOF.X_TRANSLATIONAL, scalefactor=-0.0802216)\ncamry.boundaryconditions.create_imposed_motion(platen, crv, dof=DOF.Y_TRANSLATIONAL, scalefactor=-0.0802216)\ncamry.boundaryconditions.create_imposed_motion(platen, crv, dof=DOF.Z_TRANSLATIONAL, scalefactor=-0.0802216)"
      ]
    },
    {
      "cell_type": "markdown",
      "metadata": {},
      "source": [
        "Define database cards and save input file\n=========================================\n\nDefine the frequency of output for the binary and ASCII database outputs\nand save the input file.\n"
      ]
    },
    {
      "cell_type": "code",
      "execution_count": null,
      "metadata": {
        "collapsed": false
      },
      "outputs": [],
      "source": [
        "camry_solution.create_database_binary(dt=0.001)\ncamry_solution.set_output_database(\n    elout=0.0001,\n    glstat=0.0001,\n    matsum=0.0001,\n    nodout=0.0001,\n    rbdout=0.0001,\n    rcforc=0.0001,\n    secforc=0.0001,\n)\n\ncamry_solution.save_file()"
      ]
    }
  ],
  "metadata": {
    "kernelspec": {
      "display_name": "Python 3",
      "language": "python",
      "name": "python3"
    },
    "language_info": {
      "codemirror_mode": {
        "name": "ipython",
        "version": 3
      },
      "file_extension": ".py",
      "mimetype": "text/x-python",
      "name": "python",
      "nbconvert_exporter": "python",
      "pygments_lexer": "ipython3",
      "version": "3.10.15"
    }
  },
  "nbformat": 4,
  "nbformat_minor": 0
}