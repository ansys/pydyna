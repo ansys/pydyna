{
  "cells": [
    {
      "cell_type": "markdown",
      "metadata": {},
      "source": [
        "RLC circuit by isopotential\n===========================\n\nThis example shows how to use the corresponding `contype` in the\n`connect_isopotential()` method to define an RLC circuit as an inlet\nboundary condition. The executable file for LS-DYNA is\n`ls-dyna_smp_d_R13.1_138-g8429c8a10f_winx64_ifort190.exe`.\n"
      ]
    },
    {
      "cell_type": "code",
      "execution_count": null,
      "metadata": {
        "collapsed": false
      },
      "outputs": [],
      "source": [
        "import os\nimport sys\n\nfrom em_set_data import rlc_rogoseg\n\nfrom ansys.dyna.core.pre import examples, launch_dynapre\nfrom ansys.dyna.core.pre.dynaem import (\n    DynaEM,\n    EMType,\n    Isopotential,\n    Isopotential_ConnType,\n    NodeSet,\n    RogoCoil,\n    SegmentSet,\n    SolidFormulation,\n    SolidPart,\n)\nfrom ansys.dyna.core.pre.dynamaterial import EMMATTYPE, MatRigid\nfrom ansys.dyna.core.pre.misc import check_valid_ip\n\n\nhostname = \"localhost\"\nif len(sys.argv) > 1 and check_valid_ip(sys.argv[1]):\n    hostname = sys.argv[1]\n\nsolution = launch_dynapre(ip=hostname)\nfns = []\npath = examples.em_rlc_isopotential + os.sep\nfns.append(path + \"em_rlc_isopotential.k\")\nsolution.open_files(fns)\nsolution.set_termination(termination_time=0.01)\nsolution.create_database_binary(dt=1e-4)\n\nemobj = DynaEM()\nsolution.add(emobj)\n\nemobj.set_timestep(tssfac=1, timestep_size_for_mass_scaled=1e-4)\n\nemobj.analysis.set_timestep(timestep=1e-4)\nemobj.analysis.set_em_solver(type=EMType.RESISTIVE_HEATING)\n\nmatrigid = MatRigid(\n    mass_density=7000,\n    young_modulus=2e11,\n    center_of_mass_constraint=1,\n    translational_constraint=7,\n    rotational_constraint=7,\n)\nmatrigid.set_em_permeability_equal(material_type=EMMATTYPE.CONDUCTOR, initial_conductivity=1e4)\n\npart1 = SolidPart(1)\npart1.set_material(matrigid)\npart1.set_element_formulation(SolidFormulation.CONSTANT_STRESS_SOLID_ELEMENT)\nemobj.parts.add(part1)\n\nnset1 = NodeSet(\n    [\n        429,\n        433,\n        437,\n        441,\n        445,\n        449,\n        453,\n        457,\n        461,\n        465,\n        469,\n        473,\n        477,\n        481,\n        485,\n        489,\n        493,\n        497,\n        501,\n        505,\n        509,\n        513,\n        517,\n        521,\n        525,\n    ]\n)\nnset2 = NodeSet(\n    [26, 31, 36, 41, 46, 51, 56, 61, 66, 71, 76, 81, 86, 91, 96, 101, 106, 111, 116, 121, 126, 131, 136, 141, 146]\n)\nisopos_conn1 = Isopotential(nset1)\nisopos_conn2 = Isopotential(nset2)\nemobj.connect_isopotential(\n    contype=Isopotential_ConnType.RLC_CIRCUIT,\n    isopotential1=isopos_conn1,\n    value=5e-4,\n    inductance=7.8e-5,\n    capacity=0.0363,\n    initial_voltage=5000,\n)\nemobj.connect_isopotential(contype=Isopotential_ConnType.VOLTAGE_SOURCE, isopotential1=isopos_conn2)\nemobj.add(RogoCoil(SegmentSet(rlc_rogoseg)))\n\nemobj.create_em_output(mats=2, matf=2, sols=2, solf=2)\n\nsolution.save_file()"
      ]
    }
  ],
  "metadata": {
    "kernelspec": {
      "display_name": "Python 3",
      "language": "python",
      "name": "python3"
    },
    "language_info": {
      "codemirror_mode": {
        "name": "ipython",
        "version": 3
      },
      "file_extension": ".py",
      "mimetype": "text/x-python",
      "name": "python",
      "nbconvert_exporter": "python",
      "pygments_lexer": "ipython3",
      "version": "3.10.15"
    }
  },
  "nbformat": 4,
  "nbformat_minor": 0
}